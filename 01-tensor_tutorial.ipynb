{
 "cells": [
  {
   "cell_type": "markdown",
   "metadata": {},
   "source": [
    "\n",
    "# What is PyTorch?\n",
    "\n",
    "It’s a Python based scientific computing package targeted at two sets of audiences:\n",
    "\n",
    "-  Tensorial library that uses the power of GPUs\n",
    "-  A deep learning research platform that provides maximum flexibility and speed\n",
    "\n",
    "## Import the library"
   ]
  },
  {
   "cell_type": "code",
   "execution_count": 1,
   "metadata": {},
   "outputs": [],
   "source": [
    "import torch  # <Ctrl> / <Shift> + <Return>"
   ]
  },
  {
   "cell_type": "markdown",
   "metadata": {},
   "source": [
    "## Getting help in Jupyter"
   ]
  },
  {
   "cell_type": "code",
   "execution_count": 5,
   "metadata": {},
   "outputs": [
    {
     "output_type": "error",
     "ename": "AttributeError",
     "evalue": "module 'torch' has no attribute 'sq'",
     "traceback": [
      "\u001b[0;31m---------------------------------------------------------------------------\u001b[0m",
      "\u001b[0;31mAttributeError\u001b[0m                            Traceback (most recent call last)",
      "\u001b[0;32m<ipython-input-5-eef6cd7355b7>\u001b[0m in \u001b[0;36m<module>\u001b[0;34m\u001b[0m\n\u001b[0;32m----> 1\u001b[0;31m \u001b[0mtorch\u001b[0m\u001b[0;34m.\u001b[0m\u001b[0msq\u001b[0m  \u001b[0;31m# <Tab>\u001b[0m\u001b[0;34m\u001b[0m\u001b[0;34m\u001b[0m\u001b[0m\n\u001b[0m",
      "\u001b[0;31mAttributeError\u001b[0m: module 'torch' has no attribute 'sq'"
     ]
    }
   ],
   "source": [
    "torch.sq  # <Tab>"
   ]
  },
  {
   "cell_type": "code",
   "execution_count": 3,
   "metadata": {},
   "outputs": [
    {
     "output_type": "stream",
     "text": [
      "torch.BFloat16Tensor\n",
      "torch.BoolTensor\n",
      "torch.ByteTensor\n",
      "torch.CharTensor\n",
      "torch.DoubleTensor\n",
      "torch.FloatTensor\n",
      "torch.HalfTensor\n",
      "torch.IntTensor\n",
      "torch.LongTensor\n",
      "torch.ShortTensor\n",
      "torch.Tensor"
     ],
     "name": "stdout"
    }
   ],
   "source": [
    "# What about all `*Tensor`s?\n",
    "# Press <esc> to get out of help\n",
    "torch.*Tensor?"
   ]
  },
  {
   "cell_type": "code",
   "execution_count": 6,
   "metadata": {},
   "outputs": [
    {
     "output_type": "execute_result",
     "data": {
      "text/plain": [
       "Module()"
      ]
     },
     "metadata": {},
     "execution_count": 6
    }
   ],
   "source": [
    "torch.nn.Module()  # <Shift>+<Tab>"
   ]
  },
  {
   "cell_type": "code",
   "execution_count": 7,
   "metadata": {},
   "outputs": [
    {
     "output_type": "stream",
     "text": [
      "\u001b[0;31mInit signature:\u001b[0m \u001b[0mtorch\u001b[0m\u001b[0;34m.\u001b[0m\u001b[0mnn\u001b[0m\u001b[0;34m.\u001b[0m\u001b[0mModule\u001b[0m\u001b[0;34m(\u001b[0m\u001b[0;34m)\u001b[0m\u001b[0;34m\u001b[0m\u001b[0;34m\u001b[0m\u001b[0m\n",
      "\u001b[0;31mDocstring:\u001b[0m     \n",
      "Base class for all neural network modules.\n",
      "\n",
      "Your models should also subclass this class.\n",
      "\n",
      "Modules can also contain other Modules, allowing to nest them in\n",
      "a tree structure. You can assign the submodules as regular attributes::\n",
      "\n",
      "    import torch.nn as nn\n",
      "    import torch.nn.functional as F\n",
      "\n",
      "    class Model(nn.Module):\n",
      "        def __init__(self):\n",
      "            super(Model, self).__init__()\n",
      "            self.conv1 = nn.Conv2d(1, 20, 5)\n",
      "            self.conv2 = nn.Conv2d(20, 20, 5)\n",
      "\n",
      "        def forward(self, x):\n",
      "            x = F.relu(self.conv1(x))\n",
      "            return F.relu(self.conv2(x))\n",
      "\n",
      "Submodules assigned in this way will be registered, and will have their\n",
      "parameters converted too when you call :meth:`to`, etc.\n",
      "\n",
      ":ivar training: Boolean represents whether this module is in training or\n",
      "                evaluation mode.\n",
      ":vartype training: bool\n",
      "\u001b[0;31mInit docstring:\u001b[0m Initializes internal Module state, shared by both nn.Module and ScriptModule.\n",
      "\u001b[0;31mFile:\u001b[0m           ~/opt/miniconda3/lib/python3.9/site-packages/torch-1.8.1-py3.9-macosx-10.9-x86_64.egg/torch/nn/modules/module.py\n",
      "\u001b[0;31mType:\u001b[0m           type\n",
      "\u001b[0;31mSubclasses:\u001b[0m     Identity, Linear, Bilinear, _ConvNd, Threshold, ReLU, RReLU, Hardtanh, Sigmoid, Hardsigmoid, ...\n"
     ],
     "name": "stdout"
    }
   ],
   "source": [
    "# Annotate your functions / classes!\n",
    "torch.nn.Module?"
   ]
  },
  {
   "cell_type": "code",
   "execution_count": 8,
   "metadata": {},
   "outputs": [
    {
     "output_type": "stream",
     "text": [
      "[0;34m]\u001b[0m\u001b[0;34m:\u001b[0m\u001b[0;34m\u001b[0m\n",
      "\u001b[0;34m\u001b[0m        \u001b[0;34mr\"\"\"Returns an iterator over immediate children modules.\u001b[0m\n",
      "\u001b[0;34m\u001b[0m\n",
      "\u001b[0;34m        Yields:\u001b[0m\n",
      "\u001b[0;34m            Module: a child module\u001b[0m\n",
      "\u001b[0;34m        \"\"\"\u001b[0m\u001b[0;34m\u001b[0m\n",
      "\u001b[0;34m\u001b[0m        \u001b[0;32mfor\u001b[0m \u001b[0mname\u001b[0m\u001b[0;34m,\u001b[0m \u001b[0mmodule\u001b[0m \u001b[0;32min\u001b[0m \u001b[0mself\u001b[0m\u001b[0;34m.\u001b[0m\u001b[0mnamed_children\u001b[0m\u001b[0;34m(\u001b[0m\u001b[0;34m)\u001b[0m\u001b[0;34m:\u001b[0m\u001b[0;34m\u001b[0m\n",
      "\u001b[0;34m\u001b[0m            \u001b[0;32myield\u001b[0m \u001b[0mmodule\u001b[0m\u001b[0;34m\u001b[0m\n",
      "\u001b[0;34m\u001b[0m\u001b[0;34m\u001b[0m\n",
      "\u001b[0;34m\u001b[0m    \u001b[0;32mdef\u001b[0m \u001b[0mnamed_children\u001b[0m\u001b[0;34m(\u001b[0m\u001b[0mself\u001b[0m\u001b[0;34m)\u001b[0m \u001b[0;34m->\u001b[0m \u001b[0mIterator\u001b[0m\u001b[0;34m[\u001b[0m\u001b[0mTuple\u001b[0m\u001b[0;34m[\u001b[0m\u001b[0mstr\u001b[0m\u001b[0;34m,\u001b[0m \u001b[0;34m'Module'\u001b[0m\u001b[0;34m]\u001b[0m\u001b[0;34m]\u001b[0m\u001b[0;34m:\u001b[0m\u001b[0;34m\u001b[0m\n",
      "\u001b[0;34m\u001b[0m        \u001b[0;34mr\"\"\"Returns an iterator over immediate children modules, yielding both\u001b[0m\n",
      "\u001b[0;34m        the name of the module as well as the module itself.\u001b[0m\n",
      "\u001b[0;34m\u001b[0m\n",
      "\u001b[0;34m        Yields:\u001b[0m\n",
      "\u001b[0;34m            (string, Module): Tuple containing a name and child module\u001b[0m\n",
      "\u001b[0;34m\u001b[0m\n",
      "\u001b[0;34m        Example::\u001b[0m\n",
      "\u001b[0;34m\u001b[0m\n",
      "\u001b[0;34m            >>> for name, module in model.named_children():\u001b[0m\n",
      "\u001b[0;34m            >>>     if name in ['conv4', 'conv5']:\u001b[0m\n",
      "\u001b[0;34m            >>>         print(module)\u001b[0m\n",
      "\u001b[0;34m\u001b[0m\n",
      "\u001b[0;34m        \"\"\"\u001b[0m\u001b[0;34m\u001b[0m\n",
      "\u001b[0;34m\u001b[0m        \u001b[0mmemo\u001b[0m \u001b[0;34m=\u001b[0m \u001b[0mset\u001b[0m\u001b[0;34m(\u001b[0m\u001b[0;34m)\u001b[0m\u001b[0;34m\u001b[0m\n",
      "\u001b[0;34m\u001b[0m        \u001b[0;32mfor\u001b[0m \u001b[0mname\u001b[0m\u001b[0;34m,\u001b[0m \u001b[0mmodule\u001b[0m \u001b[0;32min\u001b[0m \u001b[0mself\u001b[0m\u001b[0;34m.\u001b[0m\u001b[0m_modules\u001b[0m\u001b[0;34m.\u001b[0m\u001b[0mitems\u001b[0m\u001b[0;34m(\u001b[0m\u001b[0;34m)\u001b[0m\u001b[0;34m:\u001b[0m\u001b[0;34m\u001b[0m\n",
      "\u001b[0;34m\u001b[0m            \u001b[0;32mif\u001b[0m \u001b[0mmodule\u001b[0m \u001b[0;32mis\u001b[0m \u001b[0;32mnot\u001b[0m \u001b[0;32mNone\u001b[0m \u001b[0;32mand\u001b[0m \u001b[0mmodule\u001b[0m \u001b[0;32mnot\u001b[0m \u001b[0;32min\u001b[0m \u001b[0mmemo\u001b[0m\u001b[0;34m:\u001b[0m\u001b[0;34m\u001b[0m\n",
      "\u001b[0;34m\u001b[0m                \u001b[0mmemo\u001b[0m\u001b[0;34m.\u001b[0m\u001b[0madd\u001b[0m\u001b[0;34m(\u001b[0m\u001b[0mmodule\u001b[0m\u001b[0;34m)\u001b[0m\u001b[0;34m\u001b[0m\n",
      "\u001b[0;34m\u001b[0m                \u001b[0;32myield\u001b[0m \u001b[0mname\u001b[0m\u001b[0;34m,\u001b[0m \u001b[0mmodule\u001b[0m\u001b[0;34m\u001b[0m\n",
      "\u001b[0;34m\u001b[0m\u001b[0;34m\u001b[0m\n",
      "\u001b[0;34m\u001b[0m    \u001b[0;32mdef\u001b[0m \u001b[0mmodules\u001b[0m\u001b[0;34m(\u001b[0m\u001b[0mself\u001b[0m\u001b[0;34m)\u001b[0m \u001b[0;34m->\u001b[0m \u001b[0mIterator\u001b[0m\u001b[0;34m[\u001b[0m\u001b[0;34m'Module'\u001b[0m\u001b[0;34m]\u001b[0m\u001b[0;34m:\u001b[0m\u001b[0;34m\u001b[0m\n",
      "\u001b[0;34m\u001b[0m        \u001b[0;34mr\"\"\"Returns an iterator over all modules in the network.\u001b[0m\n",
      "\u001b[0;34m\u001b[0m\n",
      "\u001b[0;34m        Yields:\u001b[0m\n",
      "\u001b[0;34m            Module: a module in the network\u001b[0m\n",
      "\u001b[0;34m\u001b[0m\n",
      "\u001b[0;34m        Note:\u001b[0m\n",
      "\u001b[0;34m            Duplicate modules are returned only once. In the following\u001b[0m\n",
      "\u001b[0;34m            example, ``l`` will be returned only once.\u001b[0m\n",
      "\u001b[0;34m\u001b[0m\n",
      "\u001b[0;34m        Example::\u001b[0m\n",
      "\u001b[0;34m\u001b[0m\n",
      "\u001b[0;34m            >>> l = nn.Linear(2, 2)\u001b[0m\n",
      "\u001b[0;34m            >>> net = nn.Sequential(l, l)\u001b[0m\n",
      "\u001b[0;34m            >>> for idx, m in enumerate(net.modules()):\u001b[0m\n",
      "\u001b[0;34m                    print(idx, '->', m)\u001b[0m\n",
      "\u001b[0;34m\u001b[0m\n",
      "\u001b[0;34m            0 -> Sequential(\u001b[0m\n",
      "\u001b[0;34m              (0): Linear(in_features=2, out_features=2, bias=True)\u001b[0m\n",
      "\u001b[0;34m              (1): Linear(in_features=2, out_features=2, bias=True)\u001b[0m\n",
      "\u001b[0;34m            )\u001b[0m\n",
      "\u001b[0;34m            1 -> Linear(in_features=2, out_features=2, bias=True)\u001b[0m\n",
      "\u001b[0;34m\u001b[0m\n",
      "\u001b[0;34m        \"\"\"\u001b[0m\u001b[0;34m\u001b[0m\n",
      "\u001b[0;34m\u001b[0m        \u001b[0;32mfor\u001b[0m \u001b[0mname\u001b[0m\u001b[0;34m,\u001b[0m \u001b[0mmodule\u001b[0m \u001b[0;32min\u001b[0m \u001b[0mself\u001b[0m\u001b[0;34m.\u001b[0m\u001b[0mnamed_modules\u001b[0m\u001b[0;34m(\u001b[0m\u001b[0;34m)\u001b[0m\u001b[0;34m:\u001b[0m\u001b[0;34m\u001b[0m\n",
      "\u001b[0;34m\u001b[0m            \u001b[0;32myield\u001b[0m \u001b[0mmodule\u001b[0m\u001b[0;34m\u001b[0m\n",
      "\u001b[0;34m\u001b[0m\u001b[0;34m\u001b[0m\n",
      "\u001b[0;34m\u001b[0m    \u001b[0;32mdef\u001b[0m \u001b[0mnamed_modules\u001b[0m\u001b[0;34m(\u001b[0m\u001b[0mself\u001b[0m\u001b[0;34m,\u001b[0m \u001b[0mmemo\u001b[0m\u001b[0;34m:\u001b[0m \u001b[0mOptional\u001b[0m\u001b[0;34m[\u001b[0m\u001b[0mSet\u001b[0m\u001b[0;34m[\u001b[0m\u001b[0;34m'Module'\u001b[0m\u001b[0;34m]\u001b[0m\u001b[0;34m]\u001b[0m \u001b[0;34m=\u001b[0m \u001b[0;32mNone\u001b[0m\u001b[0;34m,\u001b[0m \u001b[0mprefix\u001b[0m\u001b[0;34m:\u001b[0m \u001b[0mstr\u001b[0m \u001b[0;34m=\u001b[0m \u001b[0;34m''\u001b[0m\u001b[0;34m)\u001b[0m\u001b[0;34m:\u001b[0m\u001b[0;34m\u001b[0m\n",
      "\u001b[0;34m\u001b[0m        \u001b[0;34mr\"\"\"Returns an iterator over all modules in the network, yielding\u001b[0m\n",
      "\u001b[0;34m        both the name of the module as well as the module itself.\u001b[0m\n",
      "\u001b[0;34m\u001b[0m\n",
      "\u001b[0;34m        Yields:\u001b[0m\n",
      "\u001b[0;34m            (string, Module): Tuple of name and module\u001b[0m\n",
      "\u001b[0;34m\u001b[0m\n",
      "\u001b[0;34m        Note:\u001b[0m\n",
      "\u001b[0;34m            Duplicate modules are returned only once. In the following\u001b[0m\n",
      "\u001b[0;34m            example, ``l`` will be returned only once.\u001b[0m\n",
      "\u001b[0;34m\u001b[0m\n",
      "\u001b[0;34m        Example::\u001b[0m\n",
      "\u001b[0;34m\u001b[0m\n",
      "\u001b[0;34m            >>> l = nn.Linear(2, 2)\u001b[0m\n",
      "\u001b[0;34m            >>> net = nn.Sequential(l, l)\u001b[0m\n",
      "\u001b[0;34m            >>> for idx, m in enumerate(net.named_modules()):\u001b[0m\n",
      "\u001b[0;34m                    print(idx, '->', m)\u001b[0m\n",
      "\u001b[0;34m\u001b[0m\n",
      "\u001b[0;34m            0 -> ('', Sequential(\u001b[0m\n",
      "\u001b[0;34m              (0): Linear(in_features=2, out_features=2, bias=True)\u001b[0m\n",
      "\u001b[0;34m              (1): Linear(in_features=2, out_features=2, bias=True)\u001b[0m\n",
      "\u001b[0;34m            ))\u001b[0m\n",
      "\u001b[0;34m            1 -> ('0', Linear(in_features=2, out_features=2, bias=True))\u001b[0m\n",
      "\u001b[0;34m\u001b[0m\n",
      "\u001b[0;34m        \"\"\"\u001b[0m\u001b[0;34m\u001b[0m\n",
      "\u001b[0;34m\u001b[0m\u001b[0;34m\u001b[0m\n",
      "\u001b[0;34m\u001b[0m        \u001b[0;32mif\u001b[0m \u001b[0mmemo\u001b[0m \u001b[0;32mis\u001b[0m \u001b[0;32mNone\u001b[0m\u001b[0;34m:\u001b[0m\u001b[0;34m\u001b[0m\n",
      "\u001b[0;34m\u001b[0m            \u001b[0mmemo\u001b[0m \u001b[0;34m=\u001b[0m \u001b[0mset\u001b[0m\u001b[0;34m(\u001b[0m\u001b[0;34m)\u001b[0m\u001b[0;34m\u001b[0m\n",
      "\u001b[0;34m\u001b[0m        \u001b[0;32mif\u001b[0m \u001b[0mself\u001b[0m \u001b[0;32mnot\u001b[0m \u001b[0;32min\u001b[0m \u001b[0mmemo\u001b[0m\u001b[0;34m:\u001b[0m\u001b[0;34m\u001b[0m\n",
      "\u001b[0;34m\u001b[0m            \u001b[0mmemo\u001b[0m\u001b[0;34m.\u001b[0m\u001b[0madd\u001b[0m\u001b[0;34m(\u001b[0m\u001b[0mself\u001b[0m\u001b[0;34m)\u001b[0m\u001b[0;34m\u001b[0m\n",
      "\u001b[0;34m\u001b[0m            \u001b[0;32myield\u001b[0m \u001b[0mprefix\u001b[0m\u001b[0;34m,\u001b[0m \u001b[0mself\u001b[0m\u001b[0;34m\u001b[0m\n",
      "\u001b[0;34m\u001b[0m            \u001b[0;32mfor\u001b[0m \u001b[0mname\u001b[0m\u001b[0;34m,\u001b[0m \u001b[0mmodule\u001b[0m \u001b[0;32min\u001b[0m \u001b[0mself\u001b[0m\u001b[0;34m.\u001b[0m\u001b[0m_modules\u001b[0m\u001b[0;34m.\u001b[0m\u001b[0mitems\u001b[0m\u001b[0;34m(\u001b[0m\u001b[0;34m)\u001b[0m\u001b[0;34m:\u001b[0m\u001b[0;34m\u001b[0m\n",
      "\u001b[0;34m\u001b[0m                \u001b[0;32mif\u001b[0m \u001b[0mmodule\u001b[0m \u001b[0;32mis\u001b[0m \u001b[0;32mNone\u001b[0m\u001b[0;34m:\u001b[0m\u001b[0;34m\u001b[0m\n",
      "\u001b[0;34m\u001b[0m                    \u001b[0;32mcontinue\u001b[0m\u001b[0;34m\u001b[0m\n",
      "\u001b[0;34m\u001b[0m                \u001b[0msubmodule_prefix\u001b[0m \u001b[0;34m=\u001b[0m \u001b[0mprefix\u001b[0m \u001b[0;34m+\u001b[0m \u001b[0;34m(\u001b[0m\u001b[0;34m'.'\u001b[0m \u001b[0;32mif\u001b[0m \u001b[0mprefix\u001b[0m \u001b[0;32melse\u001b[0m \u001b[0;34m''\u001b[0m\u001b[0;34m)\u001b[0m \u001b[0;34m+\u001b[0m \u001b[0mname\u001b[0m\u001b[0;34m\u001b[0m\n",
      "\u001b[0;34m\u001b[0m                \u001b[0;32mfor\u001b[0m \u001b[0mm\u001b[0m \u001b[0;32min\u001b[0m \u001b[0mmodule\u001b[0m\u001b[0;34m.\u001b[0m\u001b[0mnamed_modules\u001b[0m\u001b[0;34m(\u001b[0m\u001b[0mmemo\u001b[0m\u001b[0;34m,\u001b[0m \u001b[0msubmodule_prefix\u001b[0m\u001b[0;34m)\u001b[0m\u001b[0;34m:\u001b[0m\u001b[0;34m\u001b[0m\n",
      "\u001b[0;34m\u001b[0m                    \u001b[0;32myield\u001b[0m \u001b[0mm\u001b[0m\u001b[0;34m\u001b[0m\n",
      "\u001b[0;34m\u001b[0m\u001b[0;34m\u001b[0m\n",
      "\u001b[0;34m\u001b[0m    \u001b[0;32mdef\u001b[0m \u001b[0mtrain\u001b[0m\u001b[0;34m(\u001b[0m\u001b[0mself\u001b[0m\u001b[0;34m:\u001b[0m \u001b[0mT\u001b[0m\u001b[0;34m,\u001b[0m \u001b[0mmode\u001b[0m\u001b[0;34m:\u001b[0m \u001b[0mbool\u001b[0m \u001b[0;34m=\u001b[0m \u001b[0;32mTrue\u001b[0m\u001b[0;34m)\u001b[0m \u001b[0;34m->\u001b[0m \u001b[0mT\u001b[0m\u001b[0;34m:\u001b[0m\u001b[0;34m\u001b[0m\n",
      "\u001b[0;34m\u001b[0m        \u001b[0;34mr\"\"\"Sets the module in training mode.\u001b[0m\n",
      "\u001b[0;34m\u001b[0m\n",
      "\u001b[0;34m        This has any effect only on certain modules. See documentations of\u001b[0m\n",
      "\u001b[0;34m        particular modules for details of their behaviors in training/evaluation\u001b[0m\n",
      "\u001b[0;34m        mode, if they are affected, e.g. :class:`Dropout`, :class:`BatchNorm`,\u001b[0m\n",
      "\u001b[0;34m        etc.\u001b[0m\n",
      "\u001b[0;34m\u001b[0m\n",
      "\u001b[0;34m        Args:\u001b[0m\n",
      "\u001b[0;34m            mode (bool): whether to set training mode (``True``) or evaluation\u001b[0m\n",
      "\u001b[0;34m                         mode (``False``). Default: ``True``.\u001b[0m\n",
      "\u001b[0;34m\u001b[0m\n",
      "\u001b[0;34m        Returns:\u001b[0m\n",
      "\u001b[0;34m            Module: self\u001b[0m\n",
      "\u001b[0;34m        \"\"\"\u001b[0m\u001b[0;34m\u001b[0m\n",
      "\u001b[0;34m\u001b[0m        \u001b[0mself\u001b[0m\u001b[0;34m.\u001b[0m\u001b[0mtraining\u001b[0m \u001b[0;34m=\u001b[0m \u001b[0mmode\u001b[0m\u001b[0;34m\u001b[0m\n",
      "\u001b[0;34m\u001b[0m        \u001b[0;32mfor\u001b[0m \u001b[0mmodule\u001b[0m \u001b[0;32min\u001b[0m \u001b[0mself\u001b[0m\u001b[0;34m.\u001b[0m\u001b[0mchildren\u001b[0m\u001b[0;34m(\u001b[0m\u001b[0;34m)\u001b[0m\u001b[0;34m:\u001b[0m\u001b[0;34m\u001b[0m\n",
      "\u001b[0;34m\u001b[0m            \u001b[0mmodule\u001b[0m\u001b[0;34m.\u001b[0m\u001b[0mtrain\u001b[0m\u001b[0;34m(\u001b[0m\u001b[0mmode\u001b[0m\u001b[0;34m)\u001b[0m\u001b[0;34m\u001b[0m\n",
      "\u001b[0;34m\u001b[0m        \u001b[0;32mreturn\u001b[0m \u001b[0mself\u001b[0m\u001b[0;34m\u001b[0m\n",
      "\u001b[0;34m\u001b[0m\u001b[0;34m\u001b[0m\n",
      "\u001b[0;34m\u001b[0m    \u001b[0;32mdef\u001b[0m \u001b[0meval\u001b[0m\u001b[0;34m(\u001b[0m\u001b[0mself\u001b[0m\u001b[0;34m:\u001b[0m \u001b[0mT\u001b[0m\u001b[0;34m)\u001b[0m \u001b[0;34m->\u001b[0m \u001b[0mT\u001b[0m\u001b[0;34m:\u001b[0m\u001b[0;34m\u001b[0m\n",
      "\u001b[0;34m\u001b[0m        \u001b[0;34mr\"\"\"Sets the module in evaluation mode.\u001b[0m\n",
      "\u001b[0;34m\u001b[0m\n",
      "\u001b[0;34m        This has any effect only on certain modules. See documentations of\u001b[0m\n",
      "\u001b[0;34m        particular modules for details of their behaviors in training/evaluation\u001b[0m\n",
      "\u001b[0;34m        mode, if they are affected, e.g. :class:`Dropout`, :class:`BatchNorm`,\u001b[0m\n",
      "\u001b[0;34m        etc.\u001b[0m\n",
      "\u001b[0;34m\u001b[0m\n",
      "\u001b[0;34m        This is equivalent with :meth:`self.train(False) <torch.nn.Module.train>`.\u001b[0m\n",
      "\u001b[0;34m\u001b[0m\n",
      "\u001b[0;34m        Returns:\u001b[0m\n",
      "\u001b[0;34m            Module: self\u001b[0m\n",
      "\u001b[0;34m        \"\"\"\u001b[0m\u001b[0;34m\u001b[0m\n",
      "\u001b[0;34m\u001b[0m        \u001b[0;32mreturn\u001b[0m \u001b[0mself\u001b[0m\u001b[0;34m.\u001b[0m\u001b[0mtrain\u001b[0m\u001b[0;34m(\u001b[0m\u001b[0;32mFalse\u001b[0m\u001b[0;34m)\u001b[0m\u001b[0;34m\u001b[0m\n",
      "\u001b[0;34m\u001b[0m\u001b[0;34m\u001b[0m\n",
      "\u001b[0;34m\u001b[0m    \u001b[0;32mdef\u001b[0m \u001b[0mrequires_grad_\u001b[0m\u001b[0;34m(\u001b[0m\u001b[0mself\u001b[0m\u001b[0;34m:\u001b[0m \u001b[0mT\u001b[0m\u001b[0;34m,\u001b[0m \u001b[0mrequires_grad\u001b[0m\u001b[0;34m:\u001b[0m \u001b[0mbool\u001b[0m \u001b[0;34m=\u001b[0m \u001b[0;32mTrue\u001b[0m\u001b[0;34m)\u001b[0m \u001b[0;34m->\u001b[0m \u001b[0mT\u001b[0m\u001b[0;34m:\u001b[0m\u001b[0;34m\u001b[0m\n",
      "\u001b[0;34m\u001b[0m        \u001b[0;34mr\"\"\"Change if autograd should record operations on parameters in this\u001b[0m\n",
      "\u001b[0;34m        module.\u001b[0m\n",
      "\u001b[0;34m\u001b[0m\n",
      "\u001b[0;34m        This method sets the parameters' :attr:`requires_grad` attributes\u001b[0m\n",
      "\u001b[0;34m        in-place.\u001b[0m\n",
      "\u001b[0;34m\u001b[0m\n",
      "\u001b[0;34m        This method is helpful for freezing part of the module for finetuning\u001b[0m\n",
      "\u001b[0;34m        or training parts of a model individually (e.g., GAN training).\u001b[0m\n",
      "\u001b[0;34m\u001b[0m\n",
      "\u001b[0;34m        Args:\u001b[0m\n",
      "\u001b[0;34m            requires_grad (bool): whether autograd should record operations on\u001b[0m\n",
      "\u001b[0;34m                                  parameters in this module. Default: ``True``.\u001b[0m\n",
      "\u001b[0;34m\u001b[0m\n",
      "\u001b[0;34m        Returns:\u001b[0m\n",
      "\u001b[0;34m            Module: self\u001b[0m\n",
      "\u001b[0;34m        \"\"\"\u001b[0m\u001b[0;34m\u001b[0m\n",
      "\u001b[0;34m\u001b[0m        \u001b[0;32mfor\u001b[0m \u001b[0mp\u001b[0m \u001b[0;32min\u001b[0m \u001b[0mself\u001b[0m\u001b[0;34m.\u001b[0m\u001b[0mparameters\u001b[0m\u001b[0;34m(\u001b[0m\u001b[0;34m)\u001b[0m\u001b[0;34m:\u001b[0m\u001b[0;34m\u001b[0m\n",
      "\u001b[0;34m\u001b[0m            \u001b[0mp\u001b[0m\u001b[0;34m.\u001b[0m\u001b[0mrequires_grad_\u001b[0m\u001b[0;34m(\u001b[0m\u001b[0mrequires_grad\u001b[0m\u001b[0;34m)\u001b[0m\u001b[0;34m\u001b[0m\n",
      "\u001b[0;34m\u001b[0m        \u001b[0;32mreturn\u001b[0m \u001b[0mself\u001b[0m\u001b[0;34m\u001b[0m\n",
      "\u001b[0;34m\u001b[0m\u001b[0;34m\u001b[0m\n",
      "\u001b[0;34m\u001b[0m    \u001b[0;32mdef\u001b[0m \u001b[0mzero_grad\u001b[0m\u001b[0;34m(\u001b[0m\u001b[0mself\u001b[0m\u001b[0;34m,\u001b[0m \u001b[0mset_to_none\u001b[0m\u001b[0;34m:\u001b[0m \u001b[0mbool\u001b[0m \u001b[0;34m=\u001b[0m \u001b[0;32mFalse\u001b[0m\u001b[0;34m)\u001b[0m \u001b[0;34m->\u001b[0m \u001b[0;32mNone\u001b[0m\u001b[0;34m:\u001b[0m\u001b[0;34m\u001b[0m\n",
      "\u001b[0;34m\u001b[0m        \u001b[0;34mr\"\"\"Sets gradients of all model parameters to zero. See similar function\u001b[0m\n",
      "\u001b[0;34m        under :class:`torch.optim.Optimizer` for more context.\u001b[0m\n",
      "\u001b[0;34m\u001b[0m\n",
      "\u001b[0;34m        Args:\u001b[0m\n",
      "\u001b[0;34m            set_to_none (bool): instead of setting to zero, set the grads to None.\u001b[0m\n",
      "\u001b[0;34m                See :meth:`torch.optim.Optimizer.zero_grad` for details.\u001b[0m\n",
      "\u001b[0;34m        \"\"\"\u001b[0m\u001b[0;34m\u001b[0m\n",
      "\u001b[0;34m\u001b[0m        \u001b[0;32mif\u001b[0m \u001b[0mgetattr\u001b[0m\u001b[0;34m(\u001b[0m\u001b[0mself\u001b[0m\u001b[0;34m,\u001b[0m \u001b[0;34m'_is_replica'\u001b[0m\u001b[0;34m,\u001b[0m \u001b[0;32mFalse\u001b[0m\u001b[0;34m)\u001b[0m\u001b[0;34m:\u001b[0m\u001b[0;34m\u001b[0m\n",
      "\u001b[0;34m\u001b[0m            \u001b[0mwarnings\u001b[0m\u001b[0;34m.\u001b[0m\u001b[0mwarn\u001b[0m\u001b[0;34m(\u001b[0m\u001b[0;34m\u001b[0m\n",
      "\u001b[0;34m\u001b[0m                \u001b[0;34m\"Calling .zero_grad() from a module created with nn.DataParallel() has no effect. \"\u001b[0m\u001b[0;34m\u001b[0m\n",
      "\u001b[0;34m\u001b[0m                \u001b[0;34m\"The parameters are copied (in a differentiable manner) from the original module. \"\u001b[0m\u001b[0;34m\u001b[0m\n",
      "\u001b[0;34m\u001b[0m                \u001b[0;34m\"This means they are not leaf nodes in autograd and so don't accumulate gradients. \"\u001b[0m\u001b[0;34m\u001b[0m\n",
      "\u001b[0;34m\u001b[0m                \u001b[0;34m\"If you need gradients in your forward method, consider using autograd.grad instead.\"\u001b[0m\u001b[0;34m)\u001b[0m\u001b[0;34m\u001b[0m\n",
      "\u001b[0;34m\u001b[0m\u001b[0;34m\u001b[0m\n",
      "\u001b[0;34m\u001b[0m        \u001b[0;32mfor\u001b[0m \u001b[0mp\u001b[0m \u001b[0;32min\u001b[0m \u001b[0mself\u001b[0m\u001b[0;34m.\u001b[0m\u001b[0mparameters\u001b[0m\u001b[0;34m(\u001b[0m\u001b[0;34m)\u001b[0m\u001b[0;34m:\u001b[0m\u001b[0;34m\u001b[0m\n",
      "\u001b[0;34m\u001b[0m            \u001b[0;32mif\u001b[0m \u001b[0mp\u001b[0m\u001b[0;34m.\u001b[0m\u001b[0mgrad\u001b[0m \u001b[0;32mis\u001b[0m \u001b[0;32mnot\u001b[0m \u001b[0;32mNone\u001b[0m\u001b[0;34m:\u001b[0m\u001b[0;34m\u001b[0m\n",
      "\u001b[0;34m\u001b[0m                \u001b[0;32mif\u001b[0m \u001b[0mset_to_none\u001b[0m\u001b[0;34m:\u001b[0m\u001b[0;34m\u001b[0m\n",
      "\u001b[0;34m\u001b[0m                    \u001b[0mp\u001b[0m\u001b[0;34m.\u001b[0m\u001b[0mgrad\u001b[0m \u001b[0;34m=\u001b[0m \u001b[0;32mNone\u001b[0m\u001b[0;34m\u001b[0m\n",
      "\u001b[0;34m\u001b[0m                \u001b[0;32melse\u001b[0m\u001b[0;34m:\u001b[0m\u001b[0;34m\u001b[0m\n",
      "\u001b[0;34m\u001b[0m                    \u001b[0;32mif\u001b[0m \u001b[0mp\u001b[0m\u001b[0;34m.\u001b[0m\u001b[0mgrad\u001b[0m\u001b[0;34m.\u001b[0m\u001b[0mgrad_fn\u001b[0m \u001b[0;32mis\u001b[0m \u001b[0;32mnot\u001b[0m \u001b[0;32mNone\u001b[0m\u001b[0;34m:\u001b[0m\u001b[0;34m\u001b[0m\n",
      "\u001b[0;34m\u001b[0m                        \u001b[0mp\u001b[0m\u001b[0;34m.\u001b[0m\u001b[0mgrad\u001b[0m\u001b[0;34m.\u001b[0m\u001b[0mdetach_\u001b[0m\u001b[0;34m(\u001b[0m\u001b[0;34m)\u001b[0m\u001b[0;34m\u001b[0m\n",
      "\u001b[0;34m\u001b[0m                    \u001b[0;32melse\u001b[0m\u001b[0;34m:\u001b[0m\u001b[0;34m\u001b[0m\n",
      "\u001b[0;34m\u001b[0m                        \u001b[0mp\u001b[0m\u001b[0;34m.\u001b[0m\u001b[0mgrad\u001b[0m\u001b[0;34m.\u001b[0m\u001b[0mrequires_grad_\u001b[0m\u001b[0;34m(\u001b[0m\u001b[0;32mFalse\u001b[0m\u001b[0;34m)\u001b[0m\u001b[0;34m\u001b[0m\n",
      "\u001b[0;34m\u001b[0m                    \u001b[0mp\u001b[0m\u001b[0;34m.\u001b[0m\u001b[0mgrad\u001b[0m\u001b[0;34m.\u001b[0m\u001b[0mzero_\u001b[0m\u001b[0;34m(\u001b[0m\u001b[0;34m)\u001b[0m\u001b[0;34m\u001b[0m\n",
      "\u001b[0;34m\u001b[0m\u001b[0;34m\u001b[0m\n",
      "\u001b[0;34m\u001b[0m    \u001b[0;32mdef\u001b[0m \u001b[0mshare_memory\u001b[0m\u001b[0;34m(\u001b[0m\u001b[0mself\u001b[0m\u001b[0;34m:\u001b[0m \u001b[0mT\u001b[0m\u001b[0;34m)\u001b[0m \u001b[0;34m->\u001b[0m \u001b[0mT\u001b[0m\u001b[0;34m:\u001b[0m\u001b[0;34m\u001b[0m\n",
      "\u001b[0;34m\u001b[0m        \u001b[0;32mreturn\u001b[0m \u001b[0mself\u001b[0m\u001b[0;34m.\u001b[0m\u001b[0m_apply\u001b[0m\u001b[0;34m(\u001b[0m\u001b[0;32mlambda\u001b[0m \u001b[0mt\u001b[0m\u001b[0;34m:\u001b[0m \u001b[0mt\u001b[0m\u001b[0;34m.\u001b[0m\u001b[0mshare_memory_\u001b[0m\u001b[0;34m(\u001b[0m\u001b[0;34m)\u001b[0m\u001b[0;34m)\u001b[0m\u001b[0;34m\u001b[0m\n",
      "\u001b[0;34m\u001b[0m\u001b[0;34m\u001b[0m\n",
      "\u001b[0;34m\u001b[0m    \u001b[0;32mdef\u001b[0m \u001b[0m_get_name\u001b[0m\u001b[0;34m(\u001b[0m\u001b[0mself\u001b[0m\u001b[0;34m)\u001b[0m\u001b[0;34m:\u001b[0m\u001b[0;34m\u001b[0m\n",
      "\u001b[0;34m\u001b[0m        \u001b[0;32mreturn\u001b[0m \u001b[0mself\u001b[0m\u001b[0;34m.\u001b[0m\u001b[0m__class__\u001b[0m\u001b[0;34m.\u001b[0m\u001b[0m__name__\u001b[0m\u001b[0;34m\u001b[0m\n",
      "\u001b[0;34m\u001b[0m\u001b[0;34m\u001b[0m\n",
      "\u001b[0;34m\u001b[0m    \u001b[0;32mdef\u001b[0m \u001b[0mextra_repr\u001b[0m\u001b[0;34m(\u001b[0m\u001b[0mself\u001b[0m\u001b[0;34m)\u001b[0m \u001b[0;34m->\u001b[0m \u001b[0mstr\u001b[0m\u001b[0;34m:\u001b[0m\u001b[0;34m\u001b[0m\n",
      "\u001b[0;34m\u001b[0m        \u001b[0;34mr\"\"\"Set the extra representation of the module\u001b[0m\n",
      "\u001b[0;34m\u001b[0m\n",
      "\u001b[0;34m        To print customized extra information, you should re-implement\u001b[0m\n",
      "\u001b[0;34m        this method in your own modules. Both single-line and multi-line\u001b[0m\n",
      "\u001b[0;34m        strings are acceptable.\u001b[0m\n",
      "\u001b[0;34m        \"\"\"\u001b[0m\u001b[0;34m\u001b[0m\n",
      "\u001b[0;34m\u001b[0m        \u001b[0;32mreturn\u001b[0m \u001b[0;34m''\u001b[0m\u001b[0;34m\u001b[0m\n",
      "\u001b[0;34m\u001b[0m\u001b[0;34m\u001b[0m\n",
      "\u001b[0;34m\u001b[0m    \u001b[0;32mdef\u001b[0m \u001b[0m__repr__\u001b[0m\u001b[0;34m(\u001b[0m\u001b[0mself\u001b[0m\u001b[0;34m)\u001b[0m\u001b[0;34m:\u001b[0m\u001b[0;34m\u001b[0m\n",
      "\u001b[0;34m\u001b[0m        \u001b[0;31m# We treat the extra repr like the sub-module, one item per line\u001b[0m\u001b[0;34m\u001b[0m\n",
      "\u001b[0;34m\u001b[0m        \u001b[0mextra_lines\u001b[0m \u001b[0;34m=\u001b[0m \u001b[0;34m[\u001b[0m\u001b[0;34m]\u001b[0m\u001b[0;34m\u001b[0m\n",
      "\u001b[0;34m\u001b[0m        \u001b[0mextra_repr\u001b[0m \u001b[0;34m=\u001b[0m \u001b[0mself\u001b[0m\u001b[0;34m.\u001b[0m\u001b[0mextra_repr\u001b[0m\u001b[0;34m(\u001b[0m\u001b[0;34m)\u001b[0m\u001b[0;34m\u001b[0m\n",
      "\u001b[0;34m\u001b[0m        \u001b[0;31m# empty string will be split into list ['']\u001b[0m\u001b[0;34m\u001b[0m\n",
      "\u001b[0;34m\u001b[0m        \u001b[0;32mif\u001b[0m \u001b[0mextra_repr\u001b[0m\u001b[0;34m:\u001b[0m\u001b[0;34m\u001b[0m\n",
      "\u001b[0;34m\u001b[0m            \u001b[0mextra_lines\u001b[0m \u001b[0;34m=\u001b[0m \u001b[0mextra_repr\u001b[0m\u001b[0;34m.\u001b[0m\u001b[0msplit\u001b[0m\u001b[0;34m(\u001b[0m\u001b[0;34m'\\n'\u001b[0m\u001b[0;34m)\u001b[0m\u001b[0;34m\u001b[0m\n",
      "\u001b[0;34m\u001b[0m        \u001b[0mchild_lines\u001b[0m \u001b[0;34m=\u001b[0m \u001b[0;34m[\u001b[0m\u001b[0;34m]\u001b[0m\u001b[0;34m\u001b[0m\n",
      "\u001b[0;34m\u001b[0m        \u001b[0;32mfor\u001b[0m \u001b[0mkey\u001b[0m\u001b[0;34m,\u001b[0m \u001b[0mmodule\u001b[0m \u001b[0;32min\u001b[0m \u001b[0mself\u001b[0m\u001b[0;34m.\u001b[0m\u001b[0m_modules\u001b[0m\u001b[0;34m.\u001b[0m\u001b[0mitems\u001b[0m\u001b[0;34m(\u001b[0m\u001b[0;34m)\u001b[0m\u001b[0;34m:\u001b[0m\u001b[0;34m\u001b[0m\n",
      "\u001b[0;34m\u001b[0m            \u001b[0mmod_str\u001b[0m \u001b[0;34m=\u001b[0m \u001b[0mrepr\u001b[0m\u001b[0;34m(\u001b[0m\u001b[0mmodule\u001b[0m\u001b[0;34m)\u001b[0m\u001b[0;34m\u001b[0m\n",
      "\u001b[0;34m\u001b[0m            \u001b[0mmod_str\u001b[0m \u001b[0;34m=\u001b[0m \u001b[0m_addindent\u001b[0m\u001b[0;34m(\u001b[0m\u001b[0mmod_str\u001b[0m\u001b[0;34m,\u001b[0m \u001b[0;36m2\u001b[0m\u001b[0;34m)\u001b[0m\u001b[0;34m\u001b[0m\n",
      "\u001b[0;34m\u001b[0m            \u001b[0mchild_lines\u001b[0m\u001b[0;34m.\u001b[0m\u001b[0mappend\u001b[0m\u001b[0;34m(\u001b[0m\u001b[0;34m'('\u001b[0m \u001b[0;34m+\u001b[0m \u001b[0mkey\u001b[0m \u001b[0;34m+\u001b[0m \u001b[0;34m'): '\u001b[0m \u001b[0;34m+\u001b[0m \u001b[0mmod_str\u001b[0m\u001b[0;34m)\u001b[0m\u001b[0;34m\u001b[0m\n",
      "\u001b[0;34m\u001b[0m        \u001b[0mlines\u001b[0m \u001b[0;34m=\u001b[0m \u001b[0mextra_lines\u001b[0m \u001b[0;34m+\u001b[0m \u001b[0mchild_lines\u001b[0m\u001b[0;34m\u001b[0m\n",
      "\u001b[0;34m\u001b[0m\u001b[0;34m\u001b[0m\n",
      "\u001b[0;34m\u001b[0m        \u001b[0mmain_str\u001b[0m \u001b[0;34m=\u001b[0m \u001b[0mself\u001b[0m\u001b[0;34m.\u001b[0m\u001b[0m_get_name\u001b[0m\u001b[0;34m(\u001b[0m\u001b[0;34m)\u001b[0m \u001b[0;34m+\u001b[0m \u001b[0;34m'('\u001b[0m\u001b[0;34m\u001b[0m\n",
      "\u001b[0;34m\u001b[0m        \u001b[0;32mif\u001b[0m \u001b[0mlines\u001b[0m\u001b[0;34m:\u001b[0m\u001b[0;34m\u001b[0m\n",
      "\u001b[0;34m\u001b[0m            \u001b[0;31m# simple one-liner info, which most builtin Modules will use\u001b[0m\u001b[0;34m\u001b[0m\n",
      "\u001b[0;34m\u001b[0m            \u001b[0;32mif\u001b[0m \u001b[0mlen\u001b[0m\u001b[0;34m(\u001b[0m\u001b[0mextra_lines\u001b[0m\u001b[0;34m)\u001b[0m \u001b[0;34m==\u001b[0m \u001b[0;36m1\u001b[0m \u001b[0;32mand\u001b[0m \u001b[0;32mnot\u001b[0m \u001b[0mchild_lines\u001b[0m\u001b[0;34m:\u001b[0m\u001b[0;34m\u001b[0m\n",
      "\u001b[0;34m\u001b[0m                \u001b[0mmain_str\u001b[0m \u001b[0;34m+=\u001b[0m \u001b[0mextra_lines\u001b[0m\u001b[0;34m[\u001b[0m\u001b[0;36m0\u001b[0m\u001b[0;34m]\u001b[0m\u001b[0;34m\u001b[0m\n",
      "\u001b[0;34m\u001b[0m            \u001b[0;32melse\u001b[0m\u001b[0;34m:\u001b[0m\u001b[0;34m\u001b[0m\n",
      "\u001b[0;34m\u001b[0m                \u001b[0mmain_str\u001b[0m \u001b[0;34m+=\u001b[0m \u001b[0;34m'\\n  '\u001b[0m \u001b[0;34m+\u001b[0m \u001b[0;34m'\\n  '\u001b[0m\u001b[0;34m.\u001b[0m\u001b[0mjoin\u001b[0m\u001b[0;34m(\u001b[0m\u001b[0mlines\u001b[0m\u001b[0;34m)\u001b[0m \u001b[0;34m+\u001b[0m \u001b[0;34m'\\n'\u001b[0m\u001b[0;34m\u001b[0m\n",
      "\u001b[0;34m\u001b[0m\u001b[0;34m\u001b[0m\n",
      "\u001b[0;34m\u001b[0m        \u001b[0mmain_str\u001b[0m \u001b[0;34m+=\u001b[0m \u001b[0;34m')'\u001b[0m\u001b[0;34m\u001b[0m\n",
      "\u001b[0;34m\u001b[0m        \u001b[0;32mreturn\u001b[0m \u001b[0mmain_str\u001b[0m\u001b[0;34m\u001b[0m\n",
      "\u001b[0;34m\u001b[0m\u001b[0;34m\u001b[0m\n",
      "\u001b[0;34m\u001b[0m    \u001b[0;32mdef\u001b[0m \u001b[0m__dir__\u001b[0m\u001b[0;34m(\u001b[0m\u001b[0mself\u001b[0m\u001b[0;34m)\u001b[0m\u001b[0;34m:\u001b[0m\u001b[0;34m\u001b[0m\n",
      "\u001b[0;34m\u001b[0m        \u001b[0mmodule_attrs\u001b[0m \u001b[0;34m=\u001b[0m \u001b[0mdir\u001b[0m\u001b[0;34m(\u001b[0m\u001b[0mself\u001b[0m\u001b[0;34m.\u001b[0m\u001b[0m__class__\u001b[0m\u001b[0;34m)\u001b[0m\u001b[0;34m\u001b[0m\n",
      "\u001b[0;34m\u001b[0m        \u001b[0mattrs\u001b[0m \u001b[0;34m=\u001b[0m \u001b[0mlist\u001b[0m\u001b[0;34m(\u001b[0m\u001b[0mself\u001b[0m\u001b[0;34m.\u001b[0m\u001b[0m__dict__\u001b[0m\u001b[0;34m.\u001b[0m\u001b[0mkeys\u001b[0m\u001b[0;34m(\u001b[0m\u001b[0;34m)\u001b[0m\u001b[0;34m)\u001b[0m\u001b[0;34m\u001b[0m\n",
      "\u001b[0;34m\u001b[0m        \u001b[0mparameters\u001b[0m \u001b[0;34m=\u001b[0m \u001b[0mlist\u001b[0m\u001b[0;34m(\u001b[0m\u001b[0mself\u001b[0m\u001b[0;34m.\u001b[0m\u001b[0m_parameters\u001b[0m\u001b[0;34m.\u001b[0m\u001b[0mkeys\u001b[0m\u001b[0;34m(\u001b[0m\u001b[0;34m)\u001b[0m\u001b[0;34m)\u001b[0m\u001b[0;34m\u001b[0m\n",
      "\u001b[0;34m\u001b[0m        \u001b[0mmodules\u001b[0m \u001b[0;34m=\u001b[0m \u001b[0mlist\u001b[0m\u001b[0;34m(\u001b[0m\u001b[0mself\u001b[0m\u001b[0;34m.\u001b[0m\u001b[0m_modules\u001b[0m\u001b[0;34m.\u001b[0m\u001b[0mkeys\u001b[0m\u001b[0;34m(\u001b[0m\u001b[0;34m)\u001b[0m\u001b[0;34m)\u001b[0m\u001b[0;34m\u001b[0m\n",
      "\u001b[0;34m\u001b[0m        \u001b[0mbuffers\u001b[0m \u001b[0;34m=\u001b[0m \u001b[0mlist\u001b[0m\u001b[0;34m(\u001b[0m\u001b[0mself\u001b[0m\u001b[0;34m.\u001b[0m\u001b[0m_buffers\u001b[0m\u001b[0;34m.\u001b[0m\u001b[0mkeys\u001b[0m\u001b[0;34m(\u001b[0m\u001b[0;34m)\u001b[0m\u001b[0;34m)\u001b[0m\u001b[0;34m\u001b[0m\n",
      "\u001b[0;34m\u001b[0m        \u001b[0mkeys\u001b[0m \u001b[0;34m=\u001b[0m \u001b[0mmodule_attrs\u001b[0m \u001b[0;34m+\u001b[0m \u001b[0mattrs\u001b[0m \u001b[0;34m+\u001b[0m \u001b[0mparameters\u001b[0m \u001b[0;34m+\u001b[0m \u001b[0mmodules\u001b[0m \u001b[0;34m+\u001b[0m \u001b[0mbuffers\u001b[0m\u001b[0;34m\u001b[0m\n",
      "\u001b[0;34m\u001b[0m\u001b[0;34m\u001b[0m\n",
      "\u001b[0;34m\u001b[0m        \u001b[0;31m# Eliminate attrs that are not legal Python variable names\u001b[0m\u001b[0;34m\u001b[0m\n",
      "\u001b[0;34m\u001b[0m        \u001b[0mkeys\u001b[0m \u001b[0;34m=\u001b[0m \u001b[0;34m[\u001b[0m\u001b[0mkey\u001b[0m \u001b[0;32mfor\u001b[0m \u001b[0mkey\u001b[0m \u001b[0;32min\u001b[0m \u001b[0mkeys\u001b[0m \u001b[0;32mif\u001b[0m \u001b[0;32mnot\u001b[0m \u001b[0mkey\u001b[0m\u001b[0;34m[\u001b[0m\u001b[0;36m0\u001b[0m\u001b[0;34m]\u001b[0m\u001b[0;34m.\u001b[0m\u001b[0misdigit\u001b[0m\u001b[0;34m(\u001b[0m\u001b[0;34m)\u001b[0m\u001b[0;34m]\u001b[0m\u001b[0;34m\u001b[0m\n",
      "\u001b[0;34m\u001b[0m\u001b[0;34m\u001b[0m\n",
      "\u001b[0;34m\u001b[0m        \u001b[0;32mreturn\u001b[0m \u001b[0msorted\u001b[0m\u001b[0;34m(\u001b[0m\u001b[0mkeys\u001b[0m\u001b[0;34m)\u001b[0m\u001b[0;34m\u001b[0m\n",
      "\u001b[0;34m\u001b[0m\u001b[0;34m\u001b[0m\n",
      "\u001b[0;34m\u001b[0m    \u001b[0;32mdef\u001b[0m \u001b[0m_replicate_for_data_parallel\u001b[0m\u001b[0;34m(\u001b[0m\u001b[0mself\u001b[0m\u001b[0;34m)\u001b[0m\u001b[0;34m:\u001b[0m\u001b[0;34m\u001b[0m\n",
      "\u001b[0;34m\u001b[0m        \u001b[0mreplica\u001b[0m \u001b[0;34m=\u001b[0m \u001b[0mself\u001b[0m\u001b[0;34m.\u001b[0m\u001b[0m__new__\u001b[0m\u001b[0;34m(\u001b[0m\u001b[0mtype\u001b[0m\u001b[0;34m(\u001b[0m\u001b[0mself\u001b[0m\u001b[0;34m)\u001b[0m\u001b[0;34m)\u001b[0m\u001b[0;34m\u001b[0m\n",
      "\u001b[0;34m\u001b[0m        \u001b[0mreplica\u001b[0m\u001b[0;34m.\u001b[0m\u001b[0m__dict__\u001b[0m \u001b[0;34m=\u001b[0m \u001b[0mself\u001b[0m\u001b[0;34m.\u001b[0m\u001b[0m__dict__\u001b[0m\u001b[0;34m.\u001b[0m\u001b[0mcopy\u001b[0m\u001b[0;34m(\u001b[0m\u001b[0;34m)\u001b[0m\u001b[0;34m\u001b[0m\n",
      "\u001b[0;34m\u001b[0m\u001b[0;34m\u001b[0m\n",
      "\u001b[0;34m\u001b[0m        \u001b[0;31m# replicas do not have parameters themselves, the replicas reference the original\u001b[0m\u001b[0;34m\u001b[0m\n",
      "\u001b[0;34m\u001b[0m        \u001b[0;31m# module.\u001b[0m\u001b[0;34m\u001b[0m\n",
      "\u001b[0;34m\u001b[0m        \u001b[0mreplica\u001b[0m\u001b[0;34m.\u001b[0m\u001b[0m_parameters\u001b[0m \u001b[0;34m=\u001b[0m \u001b[0mOrderedDict\u001b[0m\u001b[0;34m(\u001b[0m\u001b[0;34m)\u001b[0m\u001b[0;34m\u001b[0m\n",
      "\u001b[0;34m\u001b[0m        \u001b[0mreplica\u001b[0m\u001b[0;34m.\u001b[0m\u001b[0m_buffers\u001b[0m \u001b[0;34m=\u001b[0m \u001b[0mreplica\u001b[0m\u001b[0;34m.\u001b[0m\u001b[0m_buffers\u001b[0m\u001b[0;34m.\u001b[0m\u001b[0mcopy\u001b[0m\u001b[0;34m(\u001b[0m\u001b[0;34m)\u001b[0m\u001b[0;34m\u001b[0m\n",
      "\u001b[0;34m\u001b[0m        \u001b[0mreplica\u001b[0m\u001b[0;34m.\u001b[0m\u001b[0m_modules\u001b[0m \u001b[0;34m=\u001b[0m \u001b[0mreplica\u001b[0m\u001b[0;34m.\u001b[0m\u001b[0m_modules\u001b[0m\u001b[0;34m.\u001b[0m\u001b[0mcopy\u001b[0m\u001b[0;34m(\u001b[0m\u001b[0;34m)\u001b[0m\u001b[0;34m\u001b[0m\n",
      "\u001b[0;34m\u001b[0m        \u001b[0mreplica\u001b[0m\u001b[0;34m.\u001b[0m\u001b[0m_is_replica\u001b[0m \u001b[0;34m=\u001b[0m \u001b[0;32mTrue\u001b[0m\u001b[0;34m\u001b[0m\n",
      "\u001b[0;34m\u001b[0m\u001b[0;34m\u001b[0m\n",
      "\u001b[0;34m\u001b[0m        \u001b[0;32mreturn\u001b[0m \u001b[0mreplica\u001b[0m\u001b[0;34m\u001b[0m\u001b[0;34m\u001b[0m\u001b[0m\n",
      "\u001b[0;31mFile:\u001b[0m           ~/opt/miniconda3/lib/python3.9/site-packages/torch-1.8.1-py3.9-macosx-10.9-x86_64.egg/torch/nn/modules/module.py\n",
      "\u001b[0;31mType:\u001b[0m           type\n",
      "\u001b[0;31mSubclasses:\u001b[0m     Identity, Linear, Bilinear, _ConvNd, Threshold, ReLU, RReLU, Hardtanh, Sigmoid, Hardsigmoid, ...\n"
     ],
     "name": "stdout"
    }
   ],
   "source": [
    "torch.nn.Module??"
   ]
  },
  {
   "cell_type": "markdown",
   "metadata": {},
   "source": [
    "## Dropping to Bash: magic!"
   ]
  },
  {
   "cell_type": "code",
   "execution_count": 9,
   "metadata": {
    "scrolled": true
   },
   "outputs": [
    {
     "output_type": "stream",
     "name": "stdout",
     "text": [
      "total 1760\n",
      "-rw-r--r--   1 dk  staff    48K Jun 18 17:06 00-logic_neuron_programming.ipynb\n",
      "-rw-r--r--   1 dk  staff    18K Jun 15 17:51 01-tensor_tutorial.ipynb\n",
      "-rw-r--r--   1 dk  staff   6.6K Jun 15 17:51 02-space_stretching.ipynb\n",
      "-rw-r--r--   1 dk  staff   6.7K Jun 15 17:51 03-autograd_tutorial.ipynb\n",
      "-rw-r--r--   1 dk  staff   7.3K Jun 15 17:51 04-spiral_classification.ipynb\n",
      "-rw-r--r--   1 dk  staff   9.3K Jun 15 17:51 05-regression.ipynb\n",
      "-rw-r--r--   1 dk  staff    14K Jun 15 17:51 06-convnet.ipynb\n",
      "-rw-r--r--   1 dk  staff   8.6K Jun 15 17:51 07-listening_to_kernels.ipynb\n",
      "-rw-r--r--   1 dk  staff    23K Jun 15 17:51 08-seq_classification.ipynb\n",
      "-rw-r--r--   1 dk  staff   7.2K Jun 15 17:51 09-echo_data.ipynb\n",
      "-rw-r--r--   1 dk  staff   7.3K Jun 15 17:51 10-autoencoder.ipynb\n",
      "-rw-r--r--   1 dk  staff    10K Jun 15 17:51 11-VAE.ipynb\n",
      "-rw-r--r--   1 dk  staff    19K Jun 15 17:51 12-regularization.ipynb\n",
      "-rw-r--r--   1 dk  staff   4.4K Jun 15 17:51 13-bayesian_nn.ipynb\n",
      "-rw-r--r--   1 dk  staff    13K Jun 15 17:51 14-truck_backer-upper.ipynb\n",
      "-rw-r--r--   1 dk  staff    25K Jun 15 17:51 15-transformer.ipynb\n",
      "-rw-r--r--   1 dk  staff   603K Jun 15 17:51 16-gated_GCN.ipynb\n",
      "-rw-r--r--   1 dk  staff   281B Jun 15 17:51 LICENSE.md\n",
      "-rw-r--r--@  1 dk  staff   3.7K Jun 16 19:00 README.md\n",
      "-rw-r--r--   1 dk  staff    16B Jun 15 17:51 apt.txt\n",
      "drwxr-xr-x  26 dk  staff   832B Jun 15 17:51 \u001b[1m\u001b[36mdocs\u001b[m\u001b[m\n",
      "-rw-r--r--   1 dk  staff   274B Jun 15 17:51 environment.yml\n",
      "drwxr-xr-x   7 dk  staff   224B Jun 15 17:51 \u001b[1m\u001b[36mextra\u001b[m\u001b[m\n",
      "drwxr-xr-x  12 dk  staff   384B Jun 16 17:50 \u001b[1m\u001b[36mres\u001b[m\u001b[m\n",
      "drwxr-xr-x  16 dk  staff   512B Jun 15 17:51 \u001b[1m\u001b[36mslides\u001b[m\u001b[m\n"
     ]
    }
   ],
   "source": [
    "# List all the files in the current directory\n",
    "!ls -lh"
   ]
  },
  {
   "cell_type": "code",
   "execution_count": 10,
   "metadata": {},
   "outputs": [
    {
     "output_type": "stream",
     "name": "stdout",
     "text": [
      "547 00-logic_neuron_programming.ipynb\n932 01-tensor_tutorial.ipynb\n273 02-space_stretching.ipynb\n331 03-autograd_tutorial.ipynb\n294 04-spiral_classification.ipynb\n362 05-regression.ipynb\n458 06-convnet.ipynb\n337 07-listening_to_kernels.ipynb\n660 08-seq_classification.ipynb\n255 09-echo_data.ipynb\n264 10-autoencoder.ipynb\n353 11-VAE.ipynb\n640 12-regularization.ipynb\n195 13-bayesian_nn.ipynb\n422 14-truck_backer-upper.ipynb\n772 15-transformer.ipynb\n1083 16-gated_GCN.ipynb\n4 LICENSE.md\n71 README.md\n1 apt.txt\n20 environment.yml\n"
     ]
    }
   ],
   "source": [
    "%%bash\n",
    "# List all the files but with cleaner outputs for readability\n",
    "for f in $(ls *.*); do\n",
    "    echo $(wc -l $f)\n",
    "done"
   ]
  },
  {
   "cell_type": "code",
   "execution_count": 11,
   "metadata": {},
   "outputs": [
    {
     "output_type": "stream",
     "text": [
      " _returned_, it will be stored in ipython's regular output\n",
      "    cache Out[N] and in the '_N' automatic variables.\n",
      "    \n",
      "    Notes:\n",
      "    \n",
      "    1) If an input line begins with '!!', then %sx is automatically\n",
      "    invoked.  That is, while::\n",
      "    \n",
      "      !ls\n",
      "    \n",
      "    causes ipython to simply issue system('ls'), typing::\n",
      "    \n",
      "      !!ls\n",
      "    \n",
      "    is a shorthand equivalent to::\n",
      "    \n",
      "      %sx ls\n",
      "    \n",
      "    2) %sx differs from %sc in that %sx automatically splits into a list,\n",
      "    like '%sc -l'.  The reason for this is to make it as easy as possible\n",
      "    to process line-oriented shell output via further python commands.\n",
      "    %sc is meant to provide much finer control, but requires more\n",
      "    typing.\n",
      "    \n",
      "    3) Just like %sc -l, this is a list with special attributes:\n",
      "    ::\n",
      "    \n",
      "      .l (or .list) : value as list.\n",
      "      .n (or .nlstr): value as newline-separated string.\n",
      "      .s (or .spstr): value as whitespace-separated string.\n",
      "    \n",
      "    This is very useful when trying to use such lists as arguments to\n",
      "    system commands.\n",
      "%%HTML:\n",
      "    Alias for `%%html`.\n",
      "%%SVG:\n",
      "    Alias for `%%svg`.\n",
      "%%bash:\n",
      "    %%bash script magic\n",
      "    \n",
      "    Run cells with bash in a subprocess.\n",
      "    \n",
      "    This is a shortcut for `%%script bash`\n",
      "%%capture:\n",
      "    ::\n",
      "    \n",
      "      %capture [--no-stderr] [--no-stdout] [--no-display] [output]\n",
      "    \n",
      "    run the cell, capturing stdout, stderr, and IPython's rich display() calls.\n",
      "    \n",
      "    positional arguments:\n",
      "      output        The name of the variable in which to store output. This is a\n",
      "                    utils.io.CapturedIO object with stdout/err attributes for the\n",
      "                    text of the captured output. CapturedOutput also has a show()\n",
      "                    method for displaying the output, and __call__ as well, so you\n",
      "                    can use that to quickly display the output. If unspecified,\n",
      "                    captured output is discarded.\n",
      "    \n",
      "    optional arguments:\n",
      "      --no-stderr   Don't capture stderr.\n",
      "      --no-stdout   Don't capture stdout.\n",
      "      --no-display  Don't capture IPython's rich display.\n",
      "%%debug:\n",
      "    ::\n",
      "    \n",
      "      %debug [--breakpoint FILE:LINE] [statement ...]\n",
      "    \n",
      "    Activate the interactive debugger.\n",
      "    \n",
      "    This magic command support two ways of activating debugger.\n",
      "    One is to activate debugger before executing code.  This way, you\n",
      "    can set a break point, to step through the code from the point.\n",
      "    You can use this mode by giving statements to execute and optionally\n",
      "    a breakpoint.\n",
      "    \n",
      "    The other one is to activate debugger in post-mortem mode.  You can\n",
      "    activate this mode simply running %debug without any argument.\n",
      "    If an exception has just occurred, this lets you inspect its stack\n",
      "    frames interactively.  Note that this will always work only on the last\n",
      "    traceback that occurred, so you must call this quickly after an\n",
      "    exception that you wish to inspect has fired, because if another one\n",
      "    occurs, it clobbers the previous one.\n",
      "    \n",
      "    If you want IPython to automatically do this on every exception, see\n",
      "    the %pdb magic for more details.\n",
      "    \n",
      "    .. versionchanged:: 7.3\n",
      "        When running code, user variables are no longer expanded,\n",
      "        the magic line is always left unmodified.\n",
      "    \n",
      "    positional arguments:\n",
      "      statement             Code to run in debugger. You can omit this in cell\n",
      "                            magic mode.\n",
      "    \n",
      "    optional arguments:\n",
      "      --breakpoint <FILE:LINE>, -b <FILE:LINE>\n",
      "                            Set break point at LINE in FILE.\n",
      "%%file:\n",
      "    Alias for `%%writefile`.\n",
      "%%html:\n",
      "    ::\n",
      "    \n",
      "      %html [--isolated]\n",
      "    \n",
      "    Render the cell as a block of HTML\n",
      "    \n",
      "    optional arguments:\n",
      "      --isolated  Annotate the cell as 'isolated'. Isolated cells are rendered\n",
      "                  inside their own <iframe> tag\n",
      "%%javascript:\n",
      "    Run the cell block of Javascript code\n",
      "%%js:\n",
      "    Run the cell block of Javascript code\n",
      "    \n",
      "    Alias of `%%javascript`\n",
      "%%latex:\n",
      "    Render the cell as a block of latex\n",
      "    \n",
      "    The subset of latex which is support depends on the implementation in\n",
      "    the client.  In the Jupyter Notebook, this magic only renders the subset\n",
      "    of latex defined by MathJax\n",
      "    [here](https://docs.mathjax.org/en/v2.5-latest/tex.html).\n",
      "%%markdown:\n",
      "    Render the cell as Markdown text block\n",
      "%%perl:\n",
      "    %%perl script magic\n",
      "    \n",
      "    Run cells with perl in a subprocess.\n",
      "    \n",
      "    This is a shortcut for `%%script perl`\n",
      "%%prun:\n",
      "    Run a statement through the python code profiler.\n",
      "    \n",
      "    Usage, in line mode:\n",
      "      %prun [options] statement\n",
      "    \n",
      "    Usage, in cell mode:\n",
      "      %%prun [options] [statement]\n",
      "      code...\n",
      "      code...\n",
      "    \n",
      "    In cell mode, the additional code lines are appended to the (possibly\n",
      "    empty) statement in the first line.  Cell mode allows you to easily\n",
      "    profile multiline blocks without having to put them in a separate\n",
      "    function.\n",
      "    \n",
      "    The given statement (which doesn't require quote marks) is run via the\n",
      "    python profiler in a manner similar to the profile.run() function.\n",
      "    Namespaces are internally managed to work correctly; profile.run\n",
      "    cannot be used in IPython because it makes certain assumptions about\n",
      "    namespaces which do not hold under IPython.\n",
      "    \n",
      "    Options:\n",
      "    \n",
      "    -l <limit>\n",
      "      you can place restrictions on what or how much of the\n",
      "      profile gets printed. The limit value can be:\n",
      "    \n",
      "         * A string: only information for function names containing this string\n",
      "           is printed.\n",
      "    \n",
      "         * An integer: only these many lines are printed.\n",
      "    \n",
      "         * A float (between 0 and 1): this fraction of the report is printed\n",
      "           (for example, use a limit of 0.4 to see the topmost 40% only).\n",
      "    \n",
      "      You can combine several limits with repeated use of the option. For\n",
      "      example, ``-l __init__ -l 5`` will print only the topmost 5 lines of\n",
      "      information about class constructors.\n",
      "    \n",
      "    -r\n",
      "      return the pstats.Stats object generated by the profiling. This\n",
      "      object has all the information about the profile in it, and you can\n",
      "      later use it for further analysis or in other functions.\n",
      "    \n",
      "    -s <key>\n",
      "      sort profile by given key. You can provide more than one key\n",
      "      by using the option several times: '-s key1 -s key2 -s key3...'. The\n",
      "      default sorting key is 'time'.\n",
      "    \n",
      "      The following is copied verbatim from the profile documentation\n",
      "      referenced below:\n",
      "    \n",
      "      When more than one key is provided, additional keys are used as\n",
      "      secondary criteria when the there is equality in all keys selected\n",
      "      before them.\n",
      "    \n",
      "      Abbreviations can be used for any key names, as long as the\n",
      "      abbreviation is unambiguous.  The following are the keys currently\n",
      "      defined:\n",
      "    \n",
      "      ============  =====================\n",
      "      Valid Arg     Meaning\n",
      "      ============  =====================\n",
      "      \"calls\"       call count\n",
      "      \"cumulative\"  cumulative time\n",
      "      \"file\"        file name\n",
      "      \"module\"      file name\n",
      "      \"pcalls\"      primitive call count\n",
      "      \"line\"        line number\n",
      "      \"name\"        function name\n",
      "      \"nfl\"         name/file/line\n",
      "      \"stdname\"     standard name\n",
      "      \"time\"        internal time\n",
      "      ============  =====================\n",
      "    \n",
      "      Note that all sorts on statistics are in descending order (placing\n",
      "      most time consuming items first), where as name, file, and line number\n",
      "      searches are in ascending order (i.e., alphabetical). The subtle\n",
      "      distinction between \"nfl\" and \"stdname\" is that the standard name is a\n",
      "      sort of the name as printed, which means that the embedded line\n",
      "      numbers get compared in an odd way.  For example, lines 3, 20, and 40\n",
      "      would (if the file names were the same) appear in the string order\n",
      "      \"20\" \"3\" and \"40\".  In contrast, \"nfl\" does a numeric compare of the\n",
      "      line numbers.  In fact, sort_stats(\"nfl\") is the same as\n",
      "      sort_stats(\"name\", \"file\", \"line\").\n",
      "    \n",
      "    -T <filename>\n",
      "      save profile results as shown on screen to a text\n",
      "      file. The profile is still shown on screen.\n",
      "    \n",
      "    -D <filename>\n",
      "      save (via dump_stats) profile statistics to given\n",
      "      filename. This data is in a format understood by the pstats module, and\n",
      "      is generated by a call to the dump_stats() method of profile\n",
      "      objects. The profile is still shown on screen.\n",
      "    \n",
      "    -q\n",
      "      suppress output to the pager.  Best used with -T and/or -D above.\n",
      "    \n",
      "    If you want to run complete programs under the profiler's control, use\n",
      "    ``%run -p [prof_opts] filename.py [args to program]`` where prof_opts\n",
      "    contains profiler specific options as described here.\n",
      "    \n",
      "    You can read the complete documentation for the profile module with::\n",
      "    \n",
      "      In [1]: import profile; profile.help()\n",
      "    \n",
      "    .. versionchanged:: 7.3\n",
      "        User variables are no longer expanded,\n",
      "        the magic line is always left unmodified.\n",
      "%%pypy:\n",
      "    %%pypy script magic\n",
      "    \n",
      "    Run cells with pypy in a subprocess.\n",
      "    \n",
      "    This is a shortcut for `%%script pypy`\n",
      "%%python:\n",
      "    %%python script magic\n",
      "    \n",
      "    Run cells with python in a subprocess.\n",
      "    \n",
      "    This is a shortcut for `%%script python`\n",
      "%%python2:\n",
      "    %%python2 script magic\n",
      "    \n",
      "    Run cells with python2 in a subprocess.\n",
      "    \n",
      "    This is a shortcut for `%%script python2`\n",
      "%%python3:\n",
      "    %%python3 script magic\n",
      "    \n",
      "    Run cells with python3 in a subprocess.\n",
      "    \n",
      "    This is a shortcut for `%%script python3`\n",
      "%%ruby:\n",
      "    %%ruby script magic\n",
      "    \n",
      "    Run cells with ruby in a subprocess.\n",
      "    \n",
      "    This is a shortcut for `%%script ruby`\n",
      "%%script:\n",
      "    ::\n",
      "    \n",
      "      %shebang [--no-raise-error] [--proc PROC] [--bg] [--err ERR] [--out OUT]\n",
      "    \n",
      "    Run a cell via a shell command\n",
      "    \n",
      "    The `%%script` line is like the #! line of script,\n",
      "    specifying a program (bash, perl, ruby, etc.) with which to run.\n",
      "    \n",
      "    The rest of the cell is run by that program.\n",
      "    \n",
      "    Examples\n",
      "    --------\n",
      "    ::\n",
      "    \n",
      "        In [1]: %%script bash\n",
      "           ...: for i in 1 2 3; do\n",
      "           ...:   echo $i\n",
      "           ...: done\n",
      "        1\n",
      "        2\n",
      "        3\n",
      "    \n",
      "    optional arguments:\n",
      "      --no-raise-error  Whether you should raise an error message in addition to a\n",
      "                        stream on stderr if you get a nonzero exit code.\n",
      "      --proc PROC       The variable in which to store Popen instance. This is\n",
      "                        used only when --bg option is given.\n",
      "      --bg              Whether to run the script in the background. If given, the\n",
      "                        only way to see the output of the command is with\n",
      "                        --out/err.\n",
      "      --err ERR         The variable in which to store stderr from the script. If\n",
      "                        the script is backgrounded, this will be the stderr\n",
      "                        *pipe*, instead of the stderr text itself and will not be\n",
      "                        autoclosed.\n",
      "      --out OUT         The variable in which to store stdout from the script. If\n",
      "                        the script is backgrounded, this will be the stdout\n",
      "                        *pipe*, instead of the stderr text itself and will not be\n",
      "                        auto closed.\n",
      "%%sh:\n",
      "    %%sh script magic\n",
      "    \n",
      "    Run cells with sh in a subprocess.\n",
      "    \n",
      "    This is a shortcut for `%%script sh`\n",
      "%%svg:\n",
      "    Render the cell as an SVG literal\n",
      "%%sx:\n",
      "    Shell execute - run shell command and capture output (!! is short-hand).\n",
      "    \n",
      "    %sx command\n",
      "    \n",
      "    IPython will run the given command using commands.getoutput(), and\n",
      "    return the result formatted as a list (split on '\\n').  Since the\n",
      "    output is _returned_, it will be stored in ipython's regular output\n",
      "    cache Out[N] and in the '_N' automatic variables.\n",
      "    \n",
      "    Notes:\n",
      "    \n",
      "    1) If an input line begins with '!!', then %sx is automatically\n",
      "    invoked.  That is, while::\n",
      "    \n",
      "      !ls\n",
      "    \n",
      "    causes ipython to simply issue system('ls'), typing::\n",
      "    \n",
      "      !!ls\n",
      "    \n",
      "    is a shorthand equivalent to::\n",
      "    \n",
      "      %sx ls\n",
      "    \n",
      "    2) %sx differs from %sc in that %sx automatically splits into a list,\n",
      "    like '%sc -l'.  The reason for this is to make it as easy as possible\n",
      "    to process line-oriented shell output via further python commands.\n",
      "    %sc is meant to provide much finer control, but requires more\n",
      "    typing.\n",
      "    \n",
      "    3) Just like %sc -l, this is a list with special attributes:\n",
      "    ::\n",
      "    \n",
      "      .l (or .list) : value as list.\n",
      "      .n (or .nlstr): value as newline-separated string.\n",
      "      .s (or .spstr): value as whitespace-separated string.\n",
      "    \n",
      "    This is very useful when trying to use such lists as arguments to\n",
      "    system commands.\n",
      "%%system:\n",
      "    Shell execute - run shell command and capture output (!! is short-hand).\n",
      "    \n",
      "    %sx command\n",
      "    \n",
      "    IPython will run the given command using commands.getoutput(), and\n",
      "    return the result formatted as a list (split on '\\n').  Since the\n",
      "    output is _returned_, it will be stored in ipython's regular output\n",
      "    cache Out[N] and in the '_N' automatic variables.\n",
      "    \n",
      "    Notes:\n",
      "    \n",
      "    1) If an input line begins with '!!', then %sx is automatically\n",
      "    invoked.  That is, while::\n",
      "    \n",
      "      !ls\n",
      "    \n",
      "    causes ipython to simply issue system('ls'), typing::\n",
      "    \n",
      "      !!ls\n",
      "    \n",
      "    is a shorthand equivalent to::\n",
      "    \n",
      "      %sx ls\n",
      "    \n",
      "    2) %sx differs from %sc in that %sx automatically splits into a list,\n",
      "    like '%sc -l'.  The reason for this is to make it as easy as possible\n",
      "    to process line-oriented shell output via further python commands.\n",
      "    %sc is meant to provide much finer control, but requires more\n",
      "    typing.\n",
      "    \n",
      "    3) Just like %sc -l, this is a list with special attributes:\n",
      "    ::\n",
      "    \n",
      "      .l (or .list) : value as list.\n",
      "      .n (or .nlstr): value as newline-separated string.\n",
      "      .s (or .spstr): value as whitespace-separated string.\n",
      "    \n",
      "    This is very useful when trying to use such lists as arguments to\n",
      "    system commands.\n",
      "%%time:\n",
      "    Time execution of a Python statement or expression.\n",
      "    \n",
      "    The CPU and wall clock times are printed, and the value of the\n",
      "    expression (if any) is returned.  Note that under Win32, system time\n",
      "    is always reported as 0, since it can not be measured.\n",
      "    \n",
      "    This function can be used both as a line and cell magic:\n",
      "    \n",
      "    - In line mode you can time a single-line statement (though multiple\n",
      "      ones can be chained with using semicolons).\n",
      "    \n",
      "    - In cell mode, you can time the cell body (a directly\n",
      "      following statement raises an error).\n",
      "    \n",
      "    This function provides very basic timing functionality.  Use the timeit\n",
      "    magic for more control over the measurement.\n",
      "    \n",
      "    .. versionchanged:: 7.3\n",
      "        User variables are no longer expanded,\n",
      "        the magic line is always left unmodified.\n",
      "    \n",
      "    Examples\n",
      "    --------\n",
      "    ::\n",
      "    \n",
      "      In [1]: %time 2**128\n",
      "      CPU times: user 0.00 s, sys: 0.00 s, total: 0.00 s\n",
      "      Wall time: 0.00\n",
      "      Out[1]: 340282366920938463463374607431768211456L\n",
      "    \n",
      "      In [2]: n = 1000000\n",
      "    \n",
      "      In [3]: %time sum(range(n))\n",
      "      CPU times: user 1.20 s, sys: 0.05 s, total: 1.25 s\n",
      "      Wall time: 1.37\n",
      "      Out[3]: 499999500000L\n",
      "    \n",
      "      In [4]: %time print 'hello world'\n",
      "      hello world\n",
      "      CPU times: user 0.00 s, sys: 0.00 s, total: 0.00 s\n",
      "      Wall time: 0.00\n",
      "    \n",
      "      Note that the time needed by Python to compile the given expression\n",
      "      will be reported if it is more than 0.1s.  In this example, the\n",
      "      actual exponentiation is done by Python at compilation time, so while\n",
      "      the expression can take a noticeable amount of time to compute, that\n",
      "      time is purely due to the compilation:\n",
      "    \n",
      "      In [5]: %time 3**9999;\n",
      "      CPU times: user 0.00 s, sys: 0.00 s, total: 0.00 s\n",
      "      Wall time: 0.00 s\n",
      "    \n",
      "      In [6]: %time 3**999999;\n",
      "      CPU times: user 0.00 s, sys: 0.00 s, total: 0.00 s\n",
      "      Wall time: 0.00 s\n",
      "      Compiler : 0.78 s\n",
      "%%timeit:\n",
      "    Time execution of a Python statement or expression\n",
      "    \n",
      "    Usage, in line mode:\n",
      "      %timeit [-n<N> -r<R> [-t|-c] -q -p<P> -o] statement\n",
      "    or in cell mode:\n",
      "      %%timeit [-n<N> -r<R> [-t|-c] -q -p<P> -o] setup_code\n",
      "      code\n",
      "      code...\n",
      "    \n",
      "    Time execution of a Python statement or expression using the timeit\n",
      "    module.  This function can be used both as a line and cell magic:\n",
      "    \n",
      "    - In line mode you can time a single-line statement (though multiple\n",
      "      ones can be chained with using semicolons).\n",
      "    \n",
      "    - In cell mode, the statement in the first line is used as setup code\n",
      "      (executed but not timed) and the body of the cell is timed.  The cell\n",
      "      body has access to any variables created in the setup code.\n",
      "    \n",
      "    Options:\n",
      "    -n<N>: execute the given statement <N> times in a loop. If <N> is not\n",
      "    provided, <N> is determined so as to get sufficient accuracy.\n",
      "    \n",
      "    -r<R>: number of repeats <R>, each consisting of <N> loops, and take the\n",
      "    best result.\n",
      "    Default: 7\n",
      "    \n",
      "    -t: use time.time to measure the time, which is the default on Unix.\n",
      "    This function measures wall time.\n",
      "    \n",
      "    -c: use time.clock to measure the time, which is the default on\n",
      "    Windows and measures wall time. On Unix, resource.getrusage is used\n",
      "    instead and returns the CPU user time.\n",
      "    \n",
      "    -p<P>: use a precision of <P> digits to display the timing result.\n",
      "    Default: 3\n",
      "    \n",
      "    -q: Quiet, do not print result.\n",
      "    \n",
      "    -o: return a TimeitResult that can be stored in a variable to inspect\n",
      "        the result in more details.\n",
      "    \n",
      "    .. versionchanged:: 7.3\n",
      "        User variables are no longer expanded,\n",
      "        the magic line is always left unmodified.\n",
      "    \n",
      "    Examples\n",
      "    --------\n",
      "    ::\n",
      "    \n",
      "      In [1]: %timeit pass\n",
      "      8.26 ns ± 0.12 ns per loop (mean ± std. dev. of 7 runs, 100000000 loops each)\n",
      "    \n",
      "      In [2]: u = None\n",
      "    \n",
      "      In [3]: %timeit u is None\n",
      "      29.9 ns ± 0.643 ns per loop (mean ± std. dev. of 7 runs, 10000000 loops each)\n",
      "    \n",
      "      In [4]: %timeit -r 4 u == None\n",
      "    \n",
      "      In [5]: import time\n",
      "    \n",
      "      In [6]: %timeit -n1 time.sleep(2)\n",
      "    \n",
      "    \n",
      "    The times reported by %timeit will be slightly higher than those\n",
      "    reported by the timeit.py script when variables are accessed. This is\n",
      "    due to the fact that %timeit executes the statement in the namespace\n",
      "    of the shell, compared with timeit.py, which uses a single setup\n",
      "    statement to import function or create variables. Generally, the bias\n",
      "    does not matter as long as results from timeit.py are not mixed with\n",
      "    those from %timeit.\n",
      "%%writefile:\n",
      "    ::\n",
      "    \n",
      "      %writefile [-a] filename\n",
      "    \n",
      "    Write the contents of the cell to a file.\n",
      "    \n",
      "    The file will be overwritten unless the -a (--append) flag is specified.\n",
      "    \n",
      "    positional arguments:\n",
      "      filename      file to write\n",
      "    \n",
      "    optional arguments:\n",
      "      -a, --append  Append contents of the cell to an existing file. The file will\n",
      "                    be created if it does not exist.\n",
      "\n",
      "Summary of magic functions (from %lsmagic):\n",
      "Available line magics:\n",
      "%alias  %alias_magic  %autoawait  %autocall  %automagic  %autosave  %bookmark  %cat  %cd  %clear  %colors  %conda  %config  %connect_info  %cp  %debug  %dhist  %dirs  %doctest_mode  %ed  %edit  %env  %gui  %hist  %history  %killbgscripts  %ldir  %less  %lf  %lk  %ll  %load  %load_ext  %loadpy  %logoff  %logon  %logstart  %logstate  %logstop  %ls  %lsmagic  %lx  %macro  %magic  %man  %matplotlib  %mkdir  %more  %mv  %notebook  %page  %pastebin  %pdb  %pdef  %pdoc  %pfile  %pinfo  %pinfo2  %pip  %popd  %pprint  %precision  %prun  %psearch  %psource  %pushd  %pwd  %pycat  %pylab  %qtconsole  %quickref  %recall  %rehashx  %reload_ext  %rep  %rerun  %reset  %reset_selective  %rm  %rmdir  %run  %save  %sc  %set_env  %store  %sx  %system  %tb  %time  %timeit  %unalias  %unload_ext  %who  %who_ls  %whos  %xdel  %xmode\n",
      "\n",
      "Available cell magics:\n",
      "%%!  %%HTML  %%SVG  %%bash  %%capture  %%debug  %%file  %%html  %%javascript  %%js  %%latex  %%markdown  %%perl  %%prun  %%pypy  %%python  %%python2  %%python3  %%ruby  %%script  %%sh  %%svg  %%sx  %%system  %%time  %%timeit  %%writefile\n",
      "\n",
      "Automagic is ON, % prefix IS NOT needed for line magics."
     ],
     "name": "stdout"
    }
   ],
   "source": [
    "# Getting some general help\n",
    "%magic"
   ]
  },
  {
   "cell_type": "markdown",
   "metadata": {},
   "source": [
    "## Python native data types\n",
    "\n",
    "Python has many native datatypes. Here are the important ones:\n",
    "\n",
    " - **Booleans** are either `True` or `False`.\n",
    " - **Numbers** can be integers (1 and 2), floats (1.1 and 1.2), fractions (1/2 and 2/3), or even complex numbers.\n",
    " - **Strings** are sequences of Unicode characters, e.g. an html document.\n",
    " - **Lists** are ordered sequences of values.\n",
    " - **Tuples** are ordered, immutable sequences of values.\n",
    " - **Sets** are unordered bags of values.\n",
    " - **Dictionaries** are unordered bags of key-value pairs.\n",
    " \n",
    "See [here](http://www.diveintopython3.net/native-datatypes.html) for a complete overview.\n",
    "\n",
    "### More resources\n",
    "\n",
    " 1. Brief Python introduction [here](https://learnxinyminutes.com/docs/python3/).\n",
    " 2. Full Python tutorial [here](https://docs.python.org/3/tutorial/).\n",
    " 3. A Whirlwind Tour of Python [here](https://github.com/jakevdp/WhirlwindTourOfPython).\n",
    " 4. Python Data Science Handbook [here](https://github.com/jakevdp/PythonDataScienceHandbook)."
   ]
  },
  {
   "cell_type": "markdown",
   "metadata": {},
   "source": [
    "## Torch!"
   ]
  },
  {
   "cell_type": "code",
   "execution_count": 12,
   "metadata": {},
   "outputs": [
    {
     "output_type": "execute_result",
     "data": {
      "text/plain": [
       "torch.Tensor"
      ]
     },
     "metadata": {},
     "execution_count": 12
    }
   ],
   "source": [
    "# Generate a tensor of size 2x3x4\n",
    "t = torch.Tensor(2, 3, 4)\n",
    "type(t)"
   ]
  },
  {
   "cell_type": "code",
   "execution_count": 15,
   "metadata": {},
   "outputs": [
    {
     "output_type": "execute_result",
     "data": {
      "text/plain": [
       "tensor([[[1.5414e-44, 0.0000e+00, 0.0000e+00, 0.0000e+00],\n",
       "         [0.0000e+00, 0.0000e+00, 0.0000e+00, 0.0000e+00],\n",
       "         [0.0000e+00, 0.0000e+00, 0.0000e+00, 0.0000e+00]],\n",
       "\n",
       "        [[0.0000e+00, 0.0000e+00, 0.0000e+00, 0.0000e+00],\n",
       "         [0.0000e+00, 0.0000e+00, 0.0000e+00, 0.0000e+00],\n",
       "         [0.0000e+00, 0.0000e+00, 0.0000e+00, 0.0000e+00]]])"
      ]
     },
     "metadata": {},
     "execution_count": 15
    }
   ],
   "source": [
    "t"
   ]
  },
  {
   "cell_type": "code",
   "execution_count": 13,
   "metadata": {},
   "outputs": [
    {
     "output_type": "execute_result",
     "data": {
      "text/plain": [
       "torch.Size([2, 3, 4])"
      ]
     },
     "metadata": {},
     "execution_count": 13
    }
   ],
   "source": [
    "# Get the size of the tensor\n",
    "t.size()"
   ]
  },
  {
   "cell_type": "code",
   "execution_count": 14,
   "metadata": {},
   "outputs": [
    {
     "output_type": "stream",
     "name": "stdout",
     "text": [
      "t size: 2 × 3 × 4\n"
     ]
    }
   ],
   "source": [
    "# t.size() is a classic tuple =>\n",
    "print('t size:', ' \\u00D7 '.join(map(str, t.size())))"
   ]
  },
  {
   "cell_type": "code",
   "execution_count": 16,
   "metadata": {},
   "outputs": [
    {
     "output_type": "stream",
     "name": "stdout",
     "text": [
      "point in a 24 dimensional space\norganised in 3 sub-dimensions\n"
     ]
    }
   ],
   "source": [
    "# prints dimensional space and sub-dimensions\n",
    "print(f'point in a {t.numel()} dimensional space')\n",
    "print(f'organised in {t.dim()} sub-dimensions')"
   ]
  },
  {
   "cell_type": "code",
   "execution_count": null,
   "metadata": {},
   "outputs": [],
   "source": [
    "t"
   ]
  },
  {
   "cell_type": "code",
   "execution_count": 17,
   "metadata": {},
   "outputs": [
    {
     "output_type": "execute_result",
     "data": {
      "text/plain": [
       "tensor([[[3., 2., 3., 1.],\n",
       "         [4., 4., 2., 5.],\n",
       "         [7., 2., 5., 7.]],\n",
       "\n",
       "        [[7., 2., 1., 2.],\n",
       "         [0., 4., 3., 0.],\n",
       "         [4., 3., 0., 7.]]])"
      ]
     },
     "metadata": {},
     "execution_count": 17
    }
   ],
   "source": [
    "# Mind the underscore!\n",
    "# Any operation that mutates a tensor in-place is post-fixed with an _.\n",
    "# For example: x.copy_(y), x.t_(), x.random_(n) will change x.\n",
    "t.random_(10)"
   ]
  },
  {
   "cell_type": "code",
   "execution_count": 18,
   "metadata": {},
   "outputs": [
    {
     "output_type": "execute_result",
     "data": {
      "text/plain": [
       "tensor([[[3., 2., 3., 1.],\n",
       "         [4., 4., 2., 5.],\n",
       "         [7., 2., 5., 7.]],\n",
       "\n",
       "        [[7., 2., 1., 2.],\n",
       "         [0., 4., 3., 0.],\n",
       "         [4., 3., 0., 7.]]])"
      ]
     },
     "metadata": {},
     "execution_count": 18
    }
   ],
   "source": [
    "t"
   ]
  },
  {
   "cell_type": "code",
   "execution_count": 19,
   "metadata": {},
   "outputs": [
    {
     "output_type": "execute_result",
     "data": {
      "text/plain": [
       "tensor([[3., 2., 3., 1., 4., 4., 2., 5.],\n",
       "        [7., 2., 5., 7., 7., 2., 1., 2.],\n",
       "        [0., 4., 3., 0., 4., 3., 0., 7.]])"
      ]
     },
     "metadata": {},
     "execution_count": 19
    }
   ],
   "source": [
    "# This resizes the tensor permanently \n",
    "r = torch.Tensor(t)\n",
    "r.resize_(3, 8)\n",
    "r"
   ]
  },
  {
   "cell_type": "code",
   "execution_count": 20,
   "metadata": {},
   "outputs": [
    {
     "output_type": "execute_result",
     "data": {
      "text/plain": [
       "tensor([[0., 0., 0., 0., 0., 0., 0., 0.],\n",
       "        [0., 0., 0., 0., 0., 0., 0., 0.],\n",
       "        [0., 0., 0., 0., 0., 0., 0., 0.]])"
      ]
     },
     "metadata": {},
     "execution_count": 20
    }
   ],
   "source": [
    "# As you can see zero_ would replace r with 0's which was originally filled with integers\n",
    "r.zero_()"
   ]
  },
  {
   "cell_type": "code",
   "execution_count": 21,
   "metadata": {},
   "outputs": [
    {
     "output_type": "execute_result",
     "data": {
      "text/plain": [
       "tensor([[[0., 0., 0., 0.],\n",
       "         [0., 0., 0., 0.],\n",
       "         [0., 0., 0., 0.]],\n",
       "\n",
       "        [[0., 0., 0., 0.],\n",
       "         [0., 0., 0., 0.],\n",
       "         [0., 0., 0., 0.]]])"
      ]
     },
     "metadata": {},
     "execution_count": 21
    }
   ],
   "source": [
    "t"
   ]
  },
  {
   "cell_type": "code",
   "execution_count": 22,
   "metadata": {},
   "outputs": [],
   "source": [
    "# This *is* important, sigh...\n",
    "s = r.clone()"
   ]
  },
  {
   "cell_type": "code",
   "execution_count": 23,
   "metadata": {},
   "outputs": [
    {
     "output_type": "execute_result",
     "data": {
      "text/plain": [
       "tensor([[1., 1., 1., 1., 1., 1., 1., 1.],\n",
       "        [1., 1., 1., 1., 1., 1., 1., 1.],\n",
       "        [1., 1., 1., 1., 1., 1., 1., 1.]])"
      ]
     },
     "metadata": {},
     "execution_count": 23
    }
   ],
   "source": [
    "# In-place fill of 1's\n",
    "s.fill_(1)\n",
    "s"
   ]
  },
  {
   "cell_type": "code",
   "execution_count": 24,
   "metadata": {},
   "outputs": [
    {
     "output_type": "execute_result",
     "data": {
      "text/plain": [
       "tensor([[0., 0., 0., 0., 0., 0., 0., 0.],\n",
       "        [0., 0., 0., 0., 0., 0., 0., 0.],\n",
       "        [0., 0., 0., 0., 0., 0., 0., 0.]])"
      ]
     },
     "metadata": {},
     "execution_count": 24
    }
   ],
   "source": [
    "# Because we cloned r, even though we did an in-place operation, this doesn't affect r\n",
    "r"
   ]
  },
  {
   "cell_type": "markdown",
   "metadata": {},
   "source": [
    "## Vectors (1D Tensors)"
   ]
  },
  {
   "cell_type": "code",
   "execution_count": 25,
   "metadata": {},
   "outputs": [
    {
     "output_type": "execute_result",
     "data": {
      "text/plain": [
       "tensor([1., 2., 3., 4.])"
      ]
     },
     "metadata": {},
     "execution_count": 25
    }
   ],
   "source": [
    "# Creates a 1D tensor of integers 1 to 4\n",
    "v = torch.Tensor([1, 2, 3, 4])\n",
    "v"
   ]
  },
  {
   "cell_type": "code",
   "execution_count": 26,
   "metadata": {},
   "outputs": [
    {
     "output_type": "stream",
     "name": "stdout",
     "text": [
      "dim: 1, size: 4\n"
     ]
    }
   ],
   "source": [
    "# Print number of dimensions (1D) and size of tensor\n",
    "print(f'dim: {v.dim()}, size: {v.size()[0]}')"
   ]
  },
  {
   "cell_type": "code",
   "execution_count": 27,
   "metadata": {},
   "outputs": [
    {
     "output_type": "execute_result",
     "data": {
      "text/plain": [
       "tensor([1., 0., 2., 0.])"
      ]
     },
     "metadata": {},
     "execution_count": 27
    }
   ],
   "source": [
    "w = torch.Tensor([1, 0, 2, 0])\n",
    "w"
   ]
  },
  {
   "cell_type": "code",
   "execution_count": 28,
   "metadata": {},
   "outputs": [
    {
     "output_type": "execute_result",
     "data": {
      "text/plain": [
       "tensor([1., 0., 6., 0.])"
      ]
     },
     "metadata": {},
     "execution_count": 28
    }
   ],
   "source": [
    "# Element-wise multiplication\n",
    "v * w"
   ]
  },
  {
   "cell_type": "code",
   "execution_count": 29,
   "metadata": {},
   "outputs": [
    {
     "output_type": "execute_result",
     "data": {
      "text/plain": [
       "tensor(7.)"
      ]
     },
     "metadata": {},
     "execution_count": 29
    }
   ],
   "source": [
    "# Scalar product: 1*1 + 2*0 + 3*2 + 4*0\n",
    "v @ w"
   ]
  },
  {
   "cell_type": "code",
   "execution_count": 30,
   "metadata": {},
   "outputs": [
    {
     "output_type": "execute_result",
     "data": {
      "text/plain": [
       "tensor([0., 8., 1., 2., 6.])"
      ]
     },
     "metadata": {},
     "execution_count": 30
    }
   ],
   "source": [
    "# In-place replacement of random number from 0 to 10\n",
    "x = torch.Tensor(5).random_(10)\n",
    "x"
   ]
  },
  {
   "cell_type": "code",
   "execution_count": 31,
   "metadata": {},
   "outputs": [
    {
     "output_type": "stream",
     "name": "stdout",
     "text": [
      "first: 0.0, last: 6.0\n"
     ]
    }
   ],
   "source": [
    "print(f'first: {x[0]}, last: {x[-1]}')"
   ]
  },
  {
   "cell_type": "code",
   "execution_count": 36,
   "metadata": {},
   "outputs": [
    {
     "output_type": "execute_result",
     "data": {
      "text/plain": [
       "tensor([8., 1., 2.])"
      ]
     },
     "metadata": {},
     "execution_count": 36
    }
   ],
   "source": [
    "# Extract sub-Tensor [from:to)\n",
    "x[1:2 + 2]"
   ]
  },
  {
   "cell_type": "code",
   "execution_count": 37,
   "metadata": {},
   "outputs": [
    {
     "output_type": "execute_result",
     "data": {
      "text/plain": [
       "tensor([1, 2, 3, 4])"
      ]
     },
     "metadata": {},
     "execution_count": 37
    }
   ],
   "source": [
    "v"
   ]
  },
  {
   "cell_type": "code",
   "execution_count": 38,
   "metadata": {},
   "outputs": [
    {
     "output_type": "execute_result",
     "data": {
      "text/plain": [
       "tensor([1, 2, 3, 4])"
      ]
     },
     "metadata": {},
     "execution_count": 38
    }
   ],
   "source": [
    "# Create a tensor with integers ranging from 1 to 5, excluding 5\n",
    "v = torch.arange(1, 4 + 1)\n",
    "v"
   ]
  },
  {
   "cell_type": "code",
   "execution_count": 39,
   "metadata": {},
   "outputs": [
    {
     "output_type": "stream",
     "name": "stdout",
     "text": [
      "tensor([ 1,  4,  9, 16]) tensor([1, 2, 3, 4])\n"
     ]
    }
   ],
   "source": [
    "# Square all elements in the tensor\n",
    "print(v.pow(2), v)"
   ]
  },
  {
   "cell_type": "markdown",
   "metadata": {},
   "source": [
    "## Matrices (2D Tensors)"
   ]
  },
  {
   "cell_type": "code",
   "execution_count": 40,
   "metadata": {},
   "outputs": [
    {
     "output_type": "execute_result",
     "data": {
      "text/plain": [
       "tensor([[2., 5., 3., 7.],\n",
       "        [4., 2., 1., 9.]])"
      ]
     },
     "metadata": {},
     "execution_count": 40
    }
   ],
   "source": [
    "# Create a 2x4 tensor\n",
    "m = torch.Tensor([[2, 5, 3, 7],\n",
    "                  [4, 2, 1, 9]])\n",
    "m"
   ]
  },
  {
   "cell_type": "code",
   "execution_count": 41,
   "metadata": {},
   "outputs": [
    {
     "output_type": "execute_result",
     "data": {
      "text/plain": [
       "2"
      ]
     },
     "metadata": {},
     "execution_count": 41
    }
   ],
   "source": [
    "m.dim()"
   ]
  },
  {
   "cell_type": "code",
   "execution_count": 42,
   "metadata": {},
   "outputs": [
    {
     "output_type": "stream",
     "name": "stdout",
     "text": [
      "2 -- 4 -- torch.Size([2, 4])\n"
     ]
    }
   ],
   "source": [
    "print(m.size(0), m.size(1), m.size(), sep=' -- ')"
   ]
  },
  {
   "cell_type": "code",
   "execution_count": 43,
   "metadata": {},
   "outputs": [
    {
     "output_type": "execute_result",
     "data": {
      "text/plain": [
       "8"
      ]
     },
     "metadata": {},
     "execution_count": 43
    }
   ],
   "source": [
    "# Returns the total number of elements, hence num-el (number of elements)\n",
    "m.numel()"
   ]
  },
  {
   "cell_type": "code",
   "execution_count": 48,
   "metadata": {},
   "outputs": [
    {
     "output_type": "stream",
     "name": "stdout",
     "text": [
      "tensor([[2., 5., 3., 7.],\n        [4., 2., 1., 9.]])\n"
     ]
    },
    {
     "output_type": "execute_result",
     "data": {
      "text/plain": [
       "tensor(3.)"
      ]
     },
     "metadata": {},
     "execution_count": 48
    }
   ],
   "source": [
    "# Indexing row 0, column 2 (0-indexed)\n",
    "print(m)\n",
    "m[0][2]"
   ]
  },
  {
   "cell_type": "code",
   "execution_count": 49,
   "metadata": {},
   "outputs": [
    {
     "output_type": "stream",
     "name": "stdout",
     "text": [
      "tensor([[2., 5., 3., 7.],\n        [4., 2., 1., 9.]])\n"
     ]
    },
    {
     "output_type": "execute_result",
     "data": {
      "text/plain": [
       "tensor(3.)"
      ]
     },
     "metadata": {},
     "execution_count": 49
    }
   ],
   "source": [
    "# Indexing row 0, column 2 (0-indexed)\n",
    "print(m)\n",
    "m[0, 2]"
   ]
  },
  {
   "cell_type": "code",
   "execution_count": 50,
   "metadata": {},
   "outputs": [
    {
     "output_type": "execute_result",
     "data": {
      "text/plain": [
       "tensor([5., 2.])"
      ]
     },
     "metadata": {},
     "execution_count": 50
    }
   ],
   "source": [
    "# Indexing column 1, all rows (returns size 2)\n",
    "m[:, 1]"
   ]
  },
  {
   "cell_type": "code",
   "execution_count": 51,
   "metadata": {},
   "outputs": [
    {
     "output_type": "execute_result",
     "data": {
      "text/plain": [
       "tensor([[5.],\n",
       "        [2.]])"
      ]
     },
     "metadata": {},
     "execution_count": 51
    }
   ],
   "source": [
    "# Indexing column 1, all rows (returns size 2x2)\n",
    "m[:, [1]]"
   ]
  },
  {
   "cell_type": "code",
   "execution_count": 52,
   "metadata": {},
   "outputs": [
    {
     "output_type": "execute_result",
     "data": {
      "text/plain": [
       "tensor([[2., 5., 3., 7.]])"
      ]
     },
     "metadata": {},
     "execution_count": 52
    }
   ],
   "source": [
    "# Indexes row 0, all columns (returns 1x4)\n",
    "m[[0], :]"
   ]
  },
  {
   "cell_type": "code",
   "execution_count": 54,
   "metadata": {},
   "outputs": [
    {
     "output_type": "stream",
     "name": "stdout",
     "text": [
      "tensor([[2., 5., 3., 7.],\n        [4., 2., 1., 9.]])\n"
     ]
    },
    {
     "output_type": "execute_result",
     "data": {
      "text/plain": [
       "tensor([2., 5., 3., 7.])"
      ]
     },
     "metadata": {},
     "execution_count": 54
    }
   ],
   "source": [
    "# Indexes row 0, all columns (returns size 4)\n",
    "print(m)\n",
    "m[0, :]"
   ]
  },
  {
   "cell_type": "code",
   "execution_count": 55,
   "metadata": {},
   "outputs": [
    {
     "output_type": "execute_result",
     "data": {
      "text/plain": [
       "tensor([1., 2., 3., 4.])"
      ]
     },
     "metadata": {},
     "execution_count": 55
    }
   ],
   "source": [
    "# Create tensor of numbers from 1 to 5 (excluding 5)\n",
    "v = torch.arange(1., 4 + 1)\n",
    "v"
   ]
  },
  {
   "cell_type": "code",
   "execution_count": 56,
   "metadata": {},
   "outputs": [
    {
     "output_type": "execute_result",
     "data": {
      "text/plain": [
       "tensor([[2., 5., 3., 7.],\n",
       "        [4., 2., 1., 9.]])"
      ]
     },
     "metadata": {},
     "execution_count": 56
    }
   ],
   "source": [
    "m"
   ]
  },
  {
   "cell_type": "code",
   "execution_count": 58,
   "metadata": {},
   "outputs": [
    {
     "output_type": "stream",
     "name": "stdout",
     "text": [
      "tensor([1., 2., 3., 4.])\n"
     ]
    },
    {
     "output_type": "execute_result",
     "data": {
      "text/plain": [
       "tensor([49., 47.])"
      ]
     },
     "metadata": {},
     "execution_count": 58
    }
   ],
   "source": [
    "# Scalar product\n",
    "print(v)\n",
    "m @ v"
   ]
  },
  {
   "cell_type": "code",
   "execution_count": 59,
   "metadata": {},
   "outputs": [
    {
     "output_type": "execute_result",
     "data": {
      "text/plain": [
       "tensor([49.])"
      ]
     },
     "metadata": {},
     "execution_count": 59
    }
   ],
   "source": [
    "# Calculated by 1*2 + 2*5 + 3*3 + 4*7\n",
    "m[[0], :] @ v"
   ]
  },
  {
   "cell_type": "code",
   "execution_count": 60,
   "metadata": {},
   "outputs": [
    {
     "output_type": "execute_result",
     "data": {
      "text/plain": [
       "tensor([47.])"
      ]
     },
     "metadata": {},
     "execution_count": 60
    }
   ],
   "source": [
    "# Calculated by \n",
    "m[[1], :] @ v"
   ]
  },
  {
   "cell_type": "code",
   "execution_count": 61,
   "metadata": {},
   "outputs": [
    {
     "output_type": "execute_result",
     "data": {
      "text/plain": [
       "tensor([[2.9929, 5.2846, 3.3457, 7.8348],\n",
       "        [4.0423, 2.1757, 1.2512, 9.8727]])"
      ]
     },
     "metadata": {},
     "execution_count": 61
    }
   ],
   "source": [
    "# Add a random tensor of size 2x4 to m\n",
    "m + torch.rand(2, 4)"
   ]
  },
  {
   "cell_type": "code",
   "execution_count": 62,
   "metadata": {},
   "outputs": [
    {
     "output_type": "execute_result",
     "data": {
      "text/plain": [
       "tensor([[1.6425, 4.5989, 2.9364, 6.4959],\n",
       "        [3.1810, 1.7738, 0.8815, 8.1214]])"
      ]
     },
     "metadata": {},
     "execution_count": 62
    }
   ],
   "source": [
    "# Subtract a random tensor of size 2x4 to m\n",
    "m - torch.rand(2, 4)"
   ]
  },
  {
   "cell_type": "code",
   "execution_count": 63,
   "metadata": {},
   "outputs": [
    {
     "output_type": "execute_result",
     "data": {
      "text/plain": [
       "tensor([[0.0117, 0.7813, 2.5625, 4.6077],\n",
       "        [0.0892, 1.0708, 0.5728, 7.3323]])"
      ]
     },
     "metadata": {},
     "execution_count": 63
    }
   ],
   "source": [
    "# Multiply a random tensor of size 2x4 to m\n",
    "m * torch.rand(2, 4)"
   ]
  },
  {
   "cell_type": "code",
   "execution_count": 64,
   "metadata": {},
   "outputs": [
    {
     "output_type": "execute_result",
     "data": {
      "text/plain": [
       "tensor([[168.9821,   6.5404,   3.0237,   9.9988],\n",
       "        [ 21.3000,   2.1792,   4.4899,  18.6735]])"
      ]
     },
     "metadata": {},
     "execution_count": 64
    }
   ],
   "source": [
    "# Divide m by a random tensor of size 2x4\n",
    "m / torch.rand(2, 4)"
   ]
  },
  {
   "cell_type": "code",
   "execution_count": 65,
   "metadata": {},
   "outputs": [
    {
     "output_type": "execute_result",
     "data": {
      "text/plain": [
       "torch.Size([2, 4])"
      ]
     },
     "metadata": {},
     "execution_count": 65
    }
   ],
   "source": [
    "m.size()"
   ]
  },
  {
   "cell_type": "code",
   "execution_count": 66,
   "metadata": {},
   "outputs": [
    {
     "output_type": "execute_result",
     "data": {
      "text/plain": [
       "tensor([[2., 4.],\n",
       "        [5., 2.],\n",
       "        [3., 1.],\n",
       "        [7., 9.]])"
      ]
     },
     "metadata": {},
     "execution_count": 66
    }
   ],
   "source": [
    "# Transpose tensor m, which is essentially 2x4 to 4x2\n",
    "m.t()"
   ]
  },
  {
   "cell_type": "code",
   "execution_count": 67,
   "metadata": {},
   "outputs": [
    {
     "output_type": "execute_result",
     "data": {
      "text/plain": [
       "tensor([[2., 4.],\n",
       "        [5., 2.],\n",
       "        [3., 1.],\n",
       "        [7., 9.]])"
      ]
     },
     "metadata": {},
     "execution_count": 67
    }
   ],
   "source": [
    "# Same as\n",
    "m.transpose(0, 1)"
   ]
  },
  {
   "cell_type": "markdown",
   "metadata": {},
   "source": [
    "## Constructors"
   ]
  },
  {
   "cell_type": "code",
   "execution_count": 68,
   "metadata": {},
   "outputs": [
    {
     "output_type": "execute_result",
     "data": {
      "text/plain": [
       "tensor([3., 4., 5., 6., 7., 8.])"
      ]
     },
     "metadata": {},
     "execution_count": 68
    }
   ],
   "source": [
    "# Create tensor from 3 to 8, with each having a space of 1\n",
    "torch.arange(3., 8 + 1)"
   ]
  },
  {
   "cell_type": "code",
   "execution_count": 69,
   "metadata": {},
   "outputs": [
    {
     "output_type": "execute_result",
     "data": {
      "text/plain": [
       "tensor([ 5.7000,  2.7000, -0.3000])"
      ]
     },
     "metadata": {},
     "execution_count": 69
    }
   ],
   "source": [
    "# Create tensor from 5.7 to -2.1 with each having a space of -3\n",
    "torch.arange(5.7, -2.1, -3)"
   ]
  },
  {
   "cell_type": "code",
   "execution_count": 70,
   "metadata": {},
   "outputs": [
    {
     "output_type": "execute_result",
     "data": {
      "text/plain": [
       "tensor([[3.0000, 3.2632, 3.5263, 3.7895, 4.0526, 4.3158, 4.5789, 4.8421, 5.1053,\n",
       "         5.3684, 5.6316, 5.8947, 6.1579, 6.4211, 6.6842, 6.9474, 7.2105, 7.4737,\n",
       "         7.7368, 8.0000]])"
      ]
     },
     "metadata": {},
     "execution_count": 70
    }
   ],
   "source": [
    "# returns a 1D tensor of steps equally spaced points between start=3, end=8 and steps=20\n",
    "torch.linspace(3, 8, 20).view(1, -1)"
   ]
  },
  {
   "cell_type": "code",
   "execution_count": 71,
   "metadata": {},
   "outputs": [
    {
     "output_type": "execute_result",
     "data": {
      "text/plain": [
       "tensor([[0., 0., 0., 0., 0.],\n",
       "        [0., 0., 0., 0., 0.],\n",
       "        [0., 0., 0., 0., 0.]])"
      ]
     },
     "metadata": {},
     "execution_count": 71
    }
   ],
   "source": [
    "# Create a tensor filled with 0's\n",
    "torch.zeros(3, 5)"
   ]
  },
  {
   "cell_type": "code",
   "execution_count": 72,
   "metadata": {},
   "outputs": [
    {
     "output_type": "execute_result",
     "data": {
      "text/plain": [
       "tensor([[[1., 1., 1., 1., 1.],\n",
       "         [1., 1., 1., 1., 1.]],\n",
       "\n",
       "        [[1., 1., 1., 1., 1.],\n",
       "         [1., 1., 1., 1., 1.]],\n",
       "\n",
       "        [[1., 1., 1., 1., 1.],\n",
       "         [1., 1., 1., 1., 1.]]])"
      ]
     },
     "metadata": {},
     "execution_count": 72
    }
   ],
   "source": [
    "# Create a tensor filled with 1's\n",
    "torch.ones(3, 2, 5)"
   ]
  },
  {
   "cell_type": "code",
   "execution_count": 73,
   "metadata": {},
   "outputs": [
    {
     "output_type": "execute_result",
     "data": {
      "text/plain": [
       "tensor([[1., 0., 0.],\n",
       "        [0., 1., 0.],\n",
       "        [0., 0., 1.]])"
      ]
     },
     "metadata": {},
     "execution_count": 73
    }
   ],
   "source": [
    "# Create a tensor with the diagonal filled with 1\n",
    "torch.eye(3)"
   ]
  },
  {
   "cell_type": "code",
   "execution_count": 74,
   "metadata": {},
   "outputs": [],
   "source": [
    "# Set default plots\n",
    "from res.plot_lib import set_default\n",
    "from matplotlib import pyplot as plt\n",
    "set_default()"
   ]
  },
  {
   "cell_type": "code",
   "execution_count": 75,
   "metadata": {},
   "outputs": [
    {
     "output_type": "display_data",
     "data": {
      "text/plain": "<Figure size 1000x1000 with 1 Axes>",
      "image/svg+xml": "<?xml version=\"1.0\" encoding=\"utf-8\" standalone=\"no\"?>\n<!DOCTYPE svg PUBLIC \"-//W3C//DTD SVG 1.1//EN\"\n  \"http://www.w3.org/Graphics/SVG/1.1/DTD/svg11.dtd\">\n<svg height=\"571.178125pt\" version=\"1.1\" viewBox=\"0 0 588.625 571.178125\" width=\"588.625pt\" xmlns=\"http://www.w3.org/2000/svg\" xmlns:xlink=\"http://www.w3.org/1999/xlink\">\n <metadata>\n  <rdf:RDF xmlns:cc=\"http://creativecommons.org/ns#\" xmlns:dc=\"http://purl.org/dc/elements/1.1/\" xmlns:rdf=\"http://www.w3.org/1999/02/22-rdf-syntax-ns#\">\n   <cc:Work>\n    <dc:type rdf:resource=\"http://purl.org/dc/dcmitype/StillImage\"/>\n    <dc:date>2021-06-18T17:31:59.987070</dc:date>\n    <dc:format>image/svg+xml</dc:format>\n    <dc:creator>\n     <cc:Agent>\n      <dc:title>Matplotlib v3.4.2, https://matplotlib.org/</dc:title>\n     </cc:Agent>\n    </dc:creator>\n   </cc:Work>\n  </rdf:RDF>\n </metadata>\n <defs>\n  <style type=\"text/css\">*{stroke-linecap:butt;stroke-linejoin:round;}</style>\n </defs>\n <g id=\"figure_1\">\n  <g id=\"patch_1\">\n   <path d=\"M 0 571.178125 \nL 588.625 571.178125 \nL 588.625 0 \nL 0 0 \nz\n\"/>\n  </g>\n  <g id=\"axes_1\">\n   <g id=\"patch_2\">\n    <path d=\"M 23.425 550.8 \nL 581.425 550.8 \nL 581.425 7.2 \nL 23.425 7.2 \nz\n\"/>\n   </g>\n   <g id=\"patch_3\">\n    <path clip-path=\"url(#p9e361df933)\" d=\"M 48.788636 550.8 \nL 53.861359 550.8 \nL 53.861359 536.419048 \nL 48.788636 536.419048 \nz\n\" style=\"fill:#348abd;\"/>\n   </g>\n   <g id=\"patch_4\">\n    <path clip-path=\"url(#p9e361df933)\" d=\"M 53.861359 550.8 \nL 58.934099 550.8 \nL 58.934099 550.8 \nL 53.861359 550.8 \nz\n\" style=\"fill:#348abd;\"/>\n   </g>\n   <g id=\"patch_5\">\n    <path clip-path=\"url(#p9e361df933)\" d=\"M 58.934117 550.8 \nL 64.006839 550.8 \nL 64.006839 550.8 \nL 58.934117 550.8 \nz\n\" style=\"fill:#348abd;\"/>\n   </g>\n   <g id=\"patch_6\">\n    <path clip-path=\"url(#p9e361df933)\" d=\"M 64.006822 550.8 \nL 69.079544 550.8 \nL 69.079544 550.8 \nL 64.006822 550.8 \nz\n\" style=\"fill:#348abd;\"/>\n   </g>\n   <g id=\"patch_7\">\n    <path clip-path=\"url(#p9e361df933)\" d=\"M 69.079562 550.8 \nL 74.152284 550.8 \nL 74.152284 550.8 \nL 69.079562 550.8 \nz\n\" style=\"fill:#348abd;\"/>\n   </g>\n   <g id=\"patch_8\">\n    <path clip-path=\"url(#p9e361df933)\" d=\"M 74.152267 550.8 \nL 79.225007 550.8 \nL 79.225007 550.8 \nL 74.152267 550.8 \nz\n\" style=\"fill:#348abd;\"/>\n   </g>\n   <g id=\"patch_9\">\n    <path clip-path=\"url(#p9e361df933)\" d=\"M 79.225007 550.8 \nL 84.297729 550.8 \nL 84.297729 550.8 \nL 79.225007 550.8 \nz\n\" style=\"fill:#348abd;\"/>\n   </g>\n   <g id=\"patch_10\">\n    <path clip-path=\"url(#p9e361df933)\" d=\"M 84.297747 550.8 \nL 89.370469 550.8 \nL 89.370469 536.419048 \nL 84.297747 536.419048 \nz\n\" style=\"fill:#348abd;\"/>\n   </g>\n   <g id=\"patch_11\">\n    <path clip-path=\"url(#p9e361df933)\" d=\"M 89.370452 550.8 \nL 94.443174 550.8 \nL 94.443174 550.8 \nL 89.370452 550.8 \nz\n\" style=\"fill:#348abd;\"/>\n   </g>\n   <g id=\"patch_12\">\n    <path clip-path=\"url(#p9e361df933)\" d=\"M 94.443174 550.8 \nL 99.515914 550.8 \nL 99.515914 550.8 \nL 94.443174 550.8 \nz\n\" style=\"fill:#348abd;\"/>\n   </g>\n   <g id=\"patch_13\">\n    <path clip-path=\"url(#p9e361df933)\" d=\"M 99.515932 550.8 \nL 104.588655 550.8 \nL 104.588655 550.8 \nL 99.515932 550.8 \nz\n\" style=\"fill:#348abd;\"/>\n   </g>\n   <g id=\"patch_14\">\n    <path clip-path=\"url(#p9e361df933)\" d=\"M 104.588637 550.8 \nL 109.661359 550.8 \nL 109.661359 507.657143 \nL 104.588637 507.657143 \nz\n\" style=\"fill:#348abd;\"/>\n   </g>\n   <g id=\"patch_15\">\n    <path clip-path=\"url(#p9e361df933)\" d=\"M 109.661359 550.8 \nL 114.7341 550.8 \nL 114.7341 536.419048 \nL 109.661359 536.419048 \nz\n\" style=\"fill:#348abd;\"/>\n   </g>\n   <g id=\"patch_16\">\n    <path clip-path=\"url(#p9e361df933)\" d=\"M 114.734117 550.8 \nL 119.80684 550.8 \nL 119.80684 522.038095 \nL 114.734117 522.038095 \nz\n\" style=\"fill:#348abd;\"/>\n   </g>\n   <g id=\"patch_17\">\n    <path clip-path=\"url(#p9e361df933)\" d=\"M 119.806822 550.8 \nL 124.879545 550.8 \nL 124.879545 550.8 \nL 119.806822 550.8 \nz\n\" style=\"fill:#348abd;\"/>\n   </g>\n   <g id=\"patch_18\">\n    <path clip-path=\"url(#p9e361df933)\" d=\"M 124.879562 550.8 \nL 129.952285 550.8 \nL 129.952285 507.657143 \nL 124.879562 507.657143 \nz\n\" style=\"fill:#348abd;\"/>\n   </g>\n   <g id=\"patch_19\">\n    <path clip-path=\"url(#p9e361df933)\" d=\"M 129.952267 550.8 \nL 135.025007 550.8 \nL 135.025007 522.038095 \nL 129.952267 522.038095 \nz\n\" style=\"fill:#348abd;\"/>\n   </g>\n   <g id=\"patch_20\">\n    <path clip-path=\"url(#p9e361df933)\" d=\"M 135.025007 550.8 \nL 140.09773 550.8 \nL 140.09773 550.8 \nL 135.025007 550.8 \nz\n\" style=\"fill:#348abd;\"/>\n   </g>\n   <g id=\"patch_21\">\n    <path clip-path=\"url(#p9e361df933)\" d=\"M 140.097747 550.8 \nL 145.17047 550.8 \nL 145.17047 522.038095 \nL 140.097747 522.038095 \nz\n\" style=\"fill:#348abd;\"/>\n   </g>\n   <g id=\"patch_22\">\n    <path clip-path=\"url(#p9e361df933)\" d=\"M 145.170452 550.8 \nL 150.243175 550.8 \nL 150.243175 507.657143 \nL 145.170452 507.657143 \nz\n\" style=\"fill:#348abd;\"/>\n   </g>\n   <g id=\"patch_23\">\n    <path clip-path=\"url(#p9e361df933)\" d=\"M 150.243175 550.8 \nL 155.315915 550.8 \nL 155.315915 507.657143 \nL 150.243175 507.657143 \nz\n\" style=\"fill:#348abd;\"/>\n   </g>\n   <g id=\"patch_24\">\n    <path clip-path=\"url(#p9e361df933)\" d=\"M 155.315915 550.8 \nL 160.388637 550.8 \nL 160.388637 464.514286 \nL 155.315915 464.514286 \nz\n\" style=\"fill:#348abd;\"/>\n   </g>\n   <g id=\"patch_25\">\n    <path clip-path=\"url(#p9e361df933)\" d=\"M 160.388637 550.8 \nL 165.46136 550.8 \nL 165.46136 522.038095 \nL 160.388637 522.038095 \nz\n\" style=\"fill:#348abd;\"/>\n   </g>\n   <g id=\"patch_26\">\n    <path clip-path=\"url(#p9e361df933)\" d=\"M 165.46136 550.8 \nL 170.5341 550.8 \nL 170.5341 493.27619 \nL 165.46136 493.27619 \nz\n\" style=\"fill:#348abd;\"/>\n   </g>\n   <g id=\"patch_27\">\n    <path clip-path=\"url(#p9e361df933)\" d=\"M 170.534082 550.8 \nL 175.606823 550.8 \nL 175.606823 493.27619 \nL 170.534082 493.27619 \nz\n\" style=\"fill:#348abd;\"/>\n   </g>\n   <g id=\"patch_28\">\n    <path clip-path=\"url(#p9e361df933)\" d=\"M 175.606823 550.8 \nL 180.679545 550.8 \nL 180.679545 493.27619 \nL 175.606823 493.27619 \nz\n\" style=\"fill:#348abd;\"/>\n   </g>\n   <g id=\"patch_29\">\n    <path clip-path=\"url(#p9e361df933)\" d=\"M 180.679545 550.8 \nL 185.752285 550.8 \nL 185.752285 478.895238 \nL 180.679545 478.895238 \nz\n\" style=\"fill:#348abd;\"/>\n   </g>\n   <g id=\"patch_30\">\n    <path clip-path=\"url(#p9e361df933)\" d=\"M 185.752276 550.8 \nL 190.824999 550.8 \nL 190.824999 421.371429 \nL 185.752276 421.371429 \nz\n\" style=\"fill:#348abd;\"/>\n   </g>\n   <g id=\"patch_31\">\n    <path clip-path=\"url(#p9e361df933)\" d=\"M 190.82499 550.8 \nL 195.89773 550.8 \nL 195.89773 435.752381 \nL 190.82499 435.752381 \nz\n\" style=\"fill:#348abd;\"/>\n   </g>\n   <g id=\"patch_32\">\n    <path clip-path=\"url(#p9e361df933)\" d=\"M 195.89773 550.8 \nL 200.970453 550.8 \nL 200.970453 320.704762 \nL 195.89773 320.704762 \nz\n\" style=\"fill:#348abd;\"/>\n   </g>\n   <g id=\"patch_33\">\n    <path clip-path=\"url(#p9e361df933)\" d=\"M 200.970453 550.8 \nL 206.043193 550.8 \nL 206.043193 335.085714 \nL 200.970453 335.085714 \nz\n\" style=\"fill:#348abd;\"/>\n   </g>\n   <g id=\"patch_34\">\n    <path clip-path=\"url(#p9e361df933)\" d=\"M 206.043184 550.8 \nL 211.115907 550.8 \nL 211.115907 306.32381 \nL 206.043184 306.32381 \nz\n\" style=\"fill:#348abd;\"/>\n   </g>\n   <g id=\"patch_35\">\n    <path clip-path=\"url(#p9e361df933)\" d=\"M 211.115898 550.8 \nL 216.188638 550.8 \nL 216.188638 378.228571 \nL 211.115898 378.228571 \nz\n\" style=\"fill:#348abd;\"/>\n   </g>\n   <g id=\"patch_36\">\n    <path clip-path=\"url(#p9e361df933)\" d=\"M 216.188638 550.8 \nL 221.26136 550.8 \nL 221.26136 248.8 \nL 216.188638 248.8 \nz\n\" style=\"fill:#348abd;\"/>\n   </g>\n   <g id=\"patch_37\">\n    <path clip-path=\"url(#p9e361df933)\" d=\"M 221.26136 550.8 \nL 226.334101 550.8 \nL 226.334101 378.228571 \nL 221.26136 378.228571 \nz\n\" style=\"fill:#348abd;\"/>\n   </g>\n   <g id=\"patch_38\">\n    <path clip-path=\"url(#p9e361df933)\" d=\"M 226.334092 550.8 \nL 231.406814 550.8 \nL 231.406814 277.561905 \nL 226.334092 277.561905 \nz\n\" style=\"fill:#348abd;\"/>\n   </g>\n   <g id=\"patch_39\">\n    <path clip-path=\"url(#p9e361df933)\" d=\"M 231.406823 550.8 \nL 236.479546 550.8 \nL 236.479546 220.038095 \nL 231.406823 220.038095 \nz\n\" style=\"fill:#348abd;\"/>\n   </g>\n   <g id=\"patch_40\">\n    <path clip-path=\"url(#p9e361df933)\" d=\"M 236.479546 550.8 \nL 241.552268 550.8 \nL 241.552268 277.561905 \nL 236.479546 277.561905 \nz\n\" style=\"fill:#348abd;\"/>\n   </g>\n   <g id=\"patch_41\">\n    <path clip-path=\"url(#p9e361df933)\" d=\"M 241.552277 550.8 \nL 246.624999 550.8 \nL 246.624999 335.085714 \nL 241.552277 335.085714 \nz\n\" style=\"fill:#348abd;\"/>\n   </g>\n   <g id=\"patch_42\">\n    <path clip-path=\"url(#p9e361df933)\" d=\"M 246.624999 550.8 \nL 251.697722 550.8 \nL 251.697722 335.085714 \nL 246.624999 335.085714 \nz\n\" style=\"fill:#348abd;\"/>\n   </g>\n   <g id=\"patch_43\">\n    <path clip-path=\"url(#p9e361df933)\" d=\"M 251.697731 550.8 \nL 256.770453 550.8 \nL 256.770453 234.419048 \nL 251.697731 234.419048 \nz\n\" style=\"fill:#348abd;\"/>\n   </g>\n   <g id=\"patch_44\">\n    <path clip-path=\"url(#p9e361df933)\" d=\"M 256.770453 550.8 \nL 261.843176 550.8 \nL 261.843176 220.038095 \nL 256.770453 220.038095 \nz\n\" style=\"fill:#348abd;\"/>\n   </g>\n   <g id=\"patch_45\">\n    <path clip-path=\"url(#p9e361df933)\" d=\"M 261.843185 550.8 \nL 266.915907 550.8 \nL 266.915907 205.657143 \nL 261.843185 205.657143 \nz\n\" style=\"fill:#348abd;\"/>\n   </g>\n   <g id=\"patch_46\">\n    <path clip-path=\"url(#p9e361df933)\" d=\"M 266.915912 550.8 \nL 271.988634 550.8 \nL 271.988634 205.657143 \nL 266.915912 205.657143 \nz\n\" style=\"fill:#348abd;\"/>\n   </g>\n   <g id=\"patch_47\">\n    <path clip-path=\"url(#p9e361df933)\" d=\"M 271.988638 550.8 \nL 277.061361 550.8 \nL 277.061361 162.514286 \nL 271.988638 162.514286 \nz\n\" style=\"fill:#348abd;\"/>\n   </g>\n   <g id=\"patch_48\">\n    <path clip-path=\"url(#p9e361df933)\" d=\"M 277.061365 550.8 \nL 282.134088 550.8 \nL 282.134088 76.228571 \nL 277.061365 76.228571 \nz\n\" style=\"fill:#348abd;\"/>\n   </g>\n   <g id=\"patch_49\">\n    <path clip-path=\"url(#p9e361df933)\" d=\"M 282.134092 550.8 \nL 287.206815 550.8 \nL 287.206815 320.704762 \nL 282.134092 320.704762 \nz\n\" style=\"fill:#348abd;\"/>\n   </g>\n   <g id=\"patch_50\">\n    <path clip-path=\"url(#p9e361df933)\" d=\"M 287.20682 550.8 \nL 292.279543 550.8 \nL 292.279543 119.371429 \nL 287.20682 119.371429 \nz\n\" style=\"fill:#348abd;\"/>\n   </g>\n   <g id=\"patch_51\">\n    <path clip-path=\"url(#p9e361df933)\" d=\"M 292.279547 550.8 \nL 297.35227 550.8 \nL 297.35227 33.085714 \nL 292.279547 33.085714 \nz\n\" style=\"fill:#348abd;\"/>\n   </g>\n   <g id=\"patch_52\">\n    <path clip-path=\"url(#p9e361df933)\" d=\"M 297.352275 550.8 \nL 302.424998 550.8 \nL 302.424998 220.038095 \nL 297.352275 220.038095 \nz\n\" style=\"fill:#348abd;\"/>\n   </g>\n   <g id=\"patch_53\">\n    <path clip-path=\"url(#p9e361df933)\" d=\"M 302.425002 550.8 \nL 307.497725 550.8 \nL 307.497725 90.609524 \nL 302.425002 90.609524 \nz\n\" style=\"fill:#348abd;\"/>\n   </g>\n   <g id=\"patch_54\">\n    <path clip-path=\"url(#p9e361df933)\" d=\"M 307.49773 550.8 \nL 312.570452 550.8 \nL 312.570452 104.990476 \nL 307.49773 104.990476 \nz\n\" style=\"fill:#348abd;\"/>\n   </g>\n   <g id=\"patch_55\">\n    <path clip-path=\"url(#p9e361df933)\" d=\"M 312.570457 550.8 \nL 317.64318 550.8 \nL 317.64318 61.847619 \nL 312.570457 61.847619 \nz\n\" style=\"fill:#348abd;\"/>\n   </g>\n   <g id=\"patch_56\">\n    <path clip-path=\"url(#p9e361df933)\" d=\"M 317.643184 550.8 \nL 322.715907 550.8 \nL 322.715907 133.752381 \nL 317.643184 133.752381 \nz\n\" style=\"fill:#348abd;\"/>\n   </g>\n   <g id=\"patch_57\">\n    <path clip-path=\"url(#p9e361df933)\" d=\"M 322.715912 550.8 \nL 327.788635 550.8 \nL 327.788635 119.371429 \nL 322.715912 119.371429 \nz\n\" style=\"fill:#348abd;\"/>\n   </g>\n   <g id=\"patch_58\">\n    <path clip-path=\"url(#p9e361df933)\" d=\"M 327.788639 550.8 \nL 332.861362 550.8 \nL 332.861362 176.895238 \nL 327.788639 176.895238 \nz\n\" style=\"fill:#348abd;\"/>\n   </g>\n   <g id=\"patch_59\">\n    <path clip-path=\"url(#p9e361df933)\" d=\"M 332.861366 550.8 \nL 337.934088 550.8 \nL 337.934088 277.561905 \nL 332.861366 277.561905 \nz\n\" style=\"fill:#348abd;\"/>\n   </g>\n   <g id=\"patch_60\">\n    <path clip-path=\"url(#p9e361df933)\" d=\"M 337.934093 550.8 \nL 343.006815 550.8 \nL 343.006815 234.419048 \nL 337.934093 234.419048 \nz\n\" style=\"fill:#348abd;\"/>\n   </g>\n   <g id=\"patch_61\">\n    <path clip-path=\"url(#p9e361df933)\" d=\"M 343.006824 550.8 \nL 348.079547 550.8 \nL 348.079547 234.419048 \nL 343.006824 234.419048 \nz\n\" style=\"fill:#348abd;\"/>\n   </g>\n   <g id=\"patch_62\">\n    <path clip-path=\"url(#p9e361df933)\" d=\"M 348.079547 550.8 \nL 353.152269 550.8 \nL 353.152269 220.038095 \nL 348.079547 220.038095 \nz\n\" style=\"fill:#348abd;\"/>\n   </g>\n   <g id=\"patch_63\">\n    <path clip-path=\"url(#p9e361df933)\" d=\"M 353.152278 550.8 \nL 358.225001 550.8 \nL 358.225001 320.704762 \nL 353.152278 320.704762 \nz\n\" style=\"fill:#348abd;\"/>\n   </g>\n   <g id=\"patch_64\">\n    <path clip-path=\"url(#p9e361df933)\" d=\"M 358.225001 550.8 \nL 363.297723 550.8 \nL 363.297723 277.561905 \nL 358.225001 277.561905 \nz\n\" style=\"fill:#348abd;\"/>\n   </g>\n   <g id=\"patch_65\">\n    <path clip-path=\"url(#p9e361df933)\" d=\"M 363.297732 550.8 \nL 368.370454 550.8 \nL 368.370454 148.133333 \nL 363.297732 148.133333 \nz\n\" style=\"fill:#348abd;\"/>\n   </g>\n   <g id=\"patch_66\">\n    <path clip-path=\"url(#p9e361df933)\" d=\"M 368.370454 550.8 \nL 373.443177 550.8 \nL 373.443177 363.847619 \nL 368.370454 363.847619 \nz\n\" style=\"fill:#348abd;\"/>\n   </g>\n   <g id=\"patch_67\">\n    <path clip-path=\"url(#p9e361df933)\" d=\"M 373.443186 550.8 \nL 378.515908 550.8 \nL 378.515908 349.466667 \nL 373.443186 349.466667 \nz\n\" style=\"fill:#348abd;\"/>\n   </g>\n   <g id=\"patch_68\">\n    <path clip-path=\"url(#p9e361df933)\" d=\"M 378.515899 550.8 \nL 383.58864 550.8 \nL 383.58864 363.847619 \nL 378.515899 363.847619 \nz\n\" style=\"fill:#348abd;\"/>\n   </g>\n   <g id=\"patch_69\">\n    <path clip-path=\"url(#p9e361df933)\" d=\"M 383.58864 550.8 \nL 388.661362 550.8 \nL 388.661362 335.085714 \nL 383.58864 335.085714 \nz\n\" style=\"fill:#348abd;\"/>\n   </g>\n   <g id=\"patch_70\">\n    <path clip-path=\"url(#p9e361df933)\" d=\"M 388.661362 550.8 \nL 393.734102 550.8 \nL 393.734102 363.847619 \nL 388.661362 363.847619 \nz\n\" style=\"fill:#348abd;\"/>\n   </g>\n   <g id=\"patch_71\">\n    <path clip-path=\"url(#p9e361df933)\" d=\"M 393.734093 550.8 \nL 398.806816 550.8 \nL 398.806816 478.895238 \nL 393.734093 478.895238 \nz\n\" style=\"fill:#348abd;\"/>\n   </g>\n   <g id=\"patch_72\">\n    <path clip-path=\"url(#p9e361df933)\" d=\"M 398.806807 550.8 \nL 403.879547 550.8 \nL 403.879547 392.609524 \nL 398.806807 392.609524 \nz\n\" style=\"fill:#348abd;\"/>\n   </g>\n   <g id=\"patch_73\">\n    <path clip-path=\"url(#p9e361df933)\" d=\"M 403.879547 550.8 \nL 408.95227 550.8 \nL 408.95227 378.228571 \nL 403.879547 378.228571 \nz\n\" style=\"fill:#348abd;\"/>\n   </g>\n   <g id=\"patch_74\">\n    <path clip-path=\"url(#p9e361df933)\" d=\"M 408.95227 550.8 \nL 414.02501 550.8 \nL 414.02501 450.133333 \nL 408.95227 450.133333 \nz\n\" style=\"fill:#348abd;\"/>\n   </g>\n   <g id=\"patch_75\">\n    <path clip-path=\"url(#p9e361df933)\" d=\"M 414.025001 550.8 \nL 419.097724 550.8 \nL 419.097724 349.466667 \nL 414.025001 349.466667 \nz\n\" style=\"fill:#348abd;\"/>\n   </g>\n   <g id=\"patch_76\">\n    <path clip-path=\"url(#p9e361df933)\" d=\"M 419.097715 550.8 \nL 424.170455 550.8 \nL 424.170455 435.752381 \nL 419.097715 435.752381 \nz\n\" style=\"fill:#348abd;\"/>\n   </g>\n   <g id=\"patch_77\">\n    <path clip-path=\"url(#p9e361df933)\" d=\"M 424.170455 550.8 \nL 429.243177 550.8 \nL 429.243177 464.514286 \nL 424.170455 464.514286 \nz\n\" style=\"fill:#348abd;\"/>\n   </g>\n   <g id=\"patch_78\">\n    <path clip-path=\"url(#p9e361df933)\" d=\"M 429.243177 550.8 \nL 434.315918 550.8 \nL 434.315918 507.657143 \nL 429.243177 507.657143 \nz\n\" style=\"fill:#348abd;\"/>\n   </g>\n   <g id=\"patch_79\">\n    <path clip-path=\"url(#p9e361df933)\" d=\"M 434.3159 550.8 \nL 439.38864 550.8 \nL 439.38864 493.27619 \nL 434.3159 493.27619 \nz\n\" style=\"fill:#348abd;\"/>\n   </g>\n   <g id=\"patch_80\">\n    <path clip-path=\"url(#p9e361df933)\" d=\"M 439.38864 550.8 \nL 444.461363 550.8 \nL 444.461363 536.419048 \nL 439.38864 536.419048 \nz\n\" style=\"fill:#348abd;\"/>\n   </g>\n   <g id=\"patch_81\">\n    <path clip-path=\"url(#p9e361df933)\" d=\"M 444.461363 550.8 \nL 449.534103 550.8 \nL 449.534103 464.514286 \nL 444.461363 464.514286 \nz\n\" style=\"fill:#348abd;\"/>\n   </g>\n   <g id=\"patch_82\">\n    <path clip-path=\"url(#p9e361df933)\" d=\"M 449.534085 550.8 \nL 454.606825 550.8 \nL 454.606825 536.419048 \nL 449.534085 536.419048 \nz\n\" style=\"fill:#348abd;\"/>\n   </g>\n   <g id=\"patch_83\">\n    <path clip-path=\"url(#p9e361df933)\" d=\"M 454.606825 550.8 \nL 459.679548 550.8 \nL 459.679548 522.038095 \nL 454.606825 522.038095 \nz\n\" style=\"fill:#348abd;\"/>\n   </g>\n   <g id=\"patch_84\">\n    <path clip-path=\"url(#p9e361df933)\" d=\"M 459.679565 550.8 \nL 464.752288 550.8 \nL 464.752288 522.038095 \nL 459.679565 522.038095 \nz\n\" style=\"fill:#348abd;\"/>\n   </g>\n   <g id=\"patch_85\">\n    <path clip-path=\"url(#p9e361df933)\" d=\"M 464.75227 550.8 \nL 469.824993 550.8 \nL 469.824993 507.657143 \nL 464.75227 507.657143 \nz\n\" style=\"fill:#348abd;\"/>\n   </g>\n   <g id=\"patch_86\">\n    <path clip-path=\"url(#p9e361df933)\" d=\"M 469.824993 550.8 \nL 474.897733 550.8 \nL 474.897733 522.038095 \nL 469.824993 522.038095 \nz\n\" style=\"fill:#348abd;\"/>\n   </g>\n   <g id=\"patch_87\">\n    <path clip-path=\"url(#p9e361df933)\" d=\"M 474.897751 550.8 \nL 479.970473 550.8 \nL 479.970473 536.419048 \nL 474.897751 536.419048 \nz\n\" style=\"fill:#348abd;\"/>\n   </g>\n   <g id=\"patch_88\">\n    <path clip-path=\"url(#p9e361df933)\" d=\"M 479.970455 550.8 \nL 485.043178 550.8 \nL 485.043178 507.657143 \nL 479.970455 507.657143 \nz\n\" style=\"fill:#348abd;\"/>\n   </g>\n   <g id=\"patch_89\">\n    <path clip-path=\"url(#p9e361df933)\" d=\"M 485.043196 550.8 \nL 490.115918 550.8 \nL 490.115918 536.419048 \nL 485.043196 536.419048 \nz\n\" style=\"fill:#348abd;\"/>\n   </g>\n   <g id=\"patch_90\">\n    <path clip-path=\"url(#p9e361df933)\" d=\"M 490.1159 550.8 \nL 495.188641 550.8 \nL 495.188641 550.8 \nL 490.1159 550.8 \nz\n\" style=\"fill:#348abd;\"/>\n   </g>\n   <g id=\"patch_91\">\n    <path clip-path=\"url(#p9e361df933)\" d=\"M 495.188641 550.8 \nL 500.261363 550.8 \nL 500.261363 550.8 \nL 495.188641 550.8 \nz\n\" style=\"fill:#348abd;\"/>\n   </g>\n   <g id=\"patch_92\">\n    <path clip-path=\"url(#p9e361df933)\" d=\"M 500.261381 550.8 \nL 505.334103 550.8 \nL 505.334103 550.8 \nL 500.261381 550.8 \nz\n\" style=\"fill:#348abd;\"/>\n   </g>\n   <g id=\"patch_93\">\n    <path clip-path=\"url(#p9e361df933)\" d=\"M 505.334086 550.8 \nL 510.406826 550.8 \nL 510.406826 550.8 \nL 505.334086 550.8 \nz\n\" style=\"fill:#348abd;\"/>\n   </g>\n   <g id=\"patch_94\">\n    <path clip-path=\"url(#p9e361df933)\" d=\"M 510.406826 550.8 \nL 515.479548 550.8 \nL 515.479548 536.419048 \nL 510.406826 536.419048 \nz\n\" style=\"fill:#348abd;\"/>\n   </g>\n   <g id=\"patch_95\">\n    <path clip-path=\"url(#p9e361df933)\" d=\"M 515.479566 550.8 \nL 520.552289 550.8 \nL 520.552289 536.419048 \nL 515.479566 536.419048 \nz\n\" style=\"fill:#348abd;\"/>\n   </g>\n   <g id=\"patch_96\">\n    <path clip-path=\"url(#p9e361df933)\" d=\"M 520.552271 550.8 \nL 525.624993 550.8 \nL 525.624993 550.8 \nL 520.552271 550.8 \nz\n\" style=\"fill:#348abd;\"/>\n   </g>\n   <g id=\"patch_97\">\n    <path clip-path=\"url(#p9e361df933)\" d=\"M 525.624993 550.8 \nL 530.697733 550.8 \nL 530.697733 550.8 \nL 525.624993 550.8 \nz\n\" style=\"fill:#348abd;\"/>\n   </g>\n   <g id=\"patch_98\">\n    <path clip-path=\"url(#p9e361df933)\" d=\"M 530.697751 550.8 \nL 535.770474 550.8 \nL 535.770474 550.8 \nL 530.697751 550.8 \nz\n\" style=\"fill:#348abd;\"/>\n   </g>\n   <g id=\"patch_99\">\n    <path clip-path=\"url(#p9e361df933)\" d=\"M 535.770456 550.8 \nL 540.843178 550.8 \nL 540.843178 536.419048 \nL 535.770456 536.419048 \nz\n\" style=\"fill:#348abd;\"/>\n   </g>\n   <g id=\"patch_100\">\n    <path clip-path=\"url(#p9e361df933)\" d=\"M 540.843196 550.8 \nL 545.915919 550.8 \nL 545.915919 550.8 \nL 540.843196 550.8 \nz\n\" style=\"fill:#348abd;\"/>\n   </g>\n   <g id=\"patch_101\">\n    <path clip-path=\"url(#p9e361df933)\" d=\"M 545.915901 550.8 \nL 550.988641 550.8 \nL 550.988641 550.8 \nL 545.915901 550.8 \nz\n\" style=\"fill:#348abd;\"/>\n   </g>\n   <g id=\"patch_102\">\n    <path clip-path=\"url(#p9e361df933)\" d=\"M 550.988641 550.8 \nL 556.061364 550.8 \nL 556.061364 536.419048 \nL 550.988641 536.419048 \nz\n\" style=\"fill:#348abd;\"/>\n   </g>\n   <g id=\"matplotlib.axis_1\">\n    <g id=\"xtick_1\">\n     <g id=\"line2d_1\">\n      <path clip-path=\"url(#p9e361df933)\" d=\"M 82.468921 550.8 \nL 82.468921 7.2 \n\" style=\"fill:none;stroke:#b2b2b2;stroke-dasharray:1.85,0.8;stroke-dashoffset:0;stroke-width:0.5;\"/>\n     </g>\n     <g id=\"line2d_2\">\n      <defs>\n       <path d=\"M 0 0 \nL 0 -3.5 \n\" id=\"m998f5d3b74\" style=\"stroke:#ffffff;stroke-width:0.8;\"/>\n      </defs>\n      <g>\n       <use style=\"fill:#ffffff;stroke:#ffffff;stroke-width:0.8;\" x=\"82.468921\" xlink:href=\"#m998f5d3b74\" y=\"550.8\"/>\n      </g>\n     </g>\n     <g id=\"text_1\">\n      <!-- −3 -->\n      <g style=\"fill:#ffffff;\" transform=\"translate(75.097827 561.898438)scale(0.1 -0.1)\">\n       <defs>\n        <path d=\"M 678 2272 \nL 4684 2272 \nL 4684 1741 \nL 678 1741 \nL 678 2272 \nz\n\" id=\"DejaVuSans-2212\" transform=\"scale(0.015625)\"/>\n        <path d=\"M 2597 2516 \nQ 3050 2419 3304 2112 \nQ 3559 1806 3559 1356 \nQ 3559 666 3084 287 \nQ 2609 -91 1734 -91 \nQ 1441 -91 1130 -33 \nQ 819 25 488 141 \nL 488 750 \nQ 750 597 1062 519 \nQ 1375 441 1716 441 \nQ 2309 441 2620 675 \nQ 2931 909 2931 1356 \nQ 2931 1769 2642 2001 \nQ 2353 2234 1838 2234 \nL 1294 2234 \nL 1294 2753 \nL 1863 2753 \nQ 2328 2753 2575 2939 \nQ 2822 3125 2822 3475 \nQ 2822 3834 2567 4026 \nQ 2313 4219 1838 4219 \nQ 1578 4219 1281 4162 \nQ 984 4106 628 3988 \nL 628 4550 \nQ 988 4650 1302 4700 \nQ 1616 4750 1894 4750 \nQ 2613 4750 3031 4423 \nQ 3450 4097 3450 3541 \nQ 3450 3153 3228 2886 \nQ 3006 2619 2597 2516 \nz\n\" id=\"DejaVuSans-33\" transform=\"scale(0.015625)\"/>\n       </defs>\n       <use xlink:href=\"#DejaVuSans-2212\"/>\n       <use x=\"83.789062\" xlink:href=\"#DejaVuSans-33\"/>\n      </g>\n     </g>\n    </g>\n    <g id=\"xtick_2\">\n     <g id=\"line2d_3\">\n      <path clip-path=\"url(#p9e361df933)\" d=\"M 156.82576 550.8 \nL 156.82576 7.2 \n\" style=\"fill:none;stroke:#b2b2b2;stroke-dasharray:1.85,0.8;stroke-dashoffset:0;stroke-width:0.5;\"/>\n     </g>\n     <g id=\"line2d_4\">\n      <g>\n       <use style=\"fill:#ffffff;stroke:#ffffff;stroke-width:0.8;\" x=\"156.82576\" xlink:href=\"#m998f5d3b74\" y=\"550.8\"/>\n      </g>\n     </g>\n     <g id=\"text_2\">\n      <!-- −2 -->\n      <g style=\"fill:#ffffff;\" transform=\"translate(149.454666 561.898438)scale(0.1 -0.1)\">\n       <defs>\n        <path d=\"M 1228 531 \nL 3431 531 \nL 3431 0 \nL 469 0 \nL 469 531 \nQ 828 903 1448 1529 \nQ 2069 2156 2228 2338 \nQ 2531 2678 2651 2914 \nQ 2772 3150 2772 3378 \nQ 2772 3750 2511 3984 \nQ 2250 4219 1831 4219 \nQ 1534 4219 1204 4116 \nQ 875 4013 500 3803 \nL 500 4441 \nQ 881 4594 1212 4672 \nQ 1544 4750 1819 4750 \nQ 2544 4750 2975 4387 \nQ 3406 4025 3406 3419 \nQ 3406 3131 3298 2873 \nQ 3191 2616 2906 2266 \nQ 2828 2175 2409 1742 \nQ 1991 1309 1228 531 \nz\n\" id=\"DejaVuSans-32\" transform=\"scale(0.015625)\"/>\n       </defs>\n       <use xlink:href=\"#DejaVuSans-2212\"/>\n       <use x=\"83.789062\" xlink:href=\"#DejaVuSans-32\"/>\n      </g>\n     </g>\n    </g>\n    <g id=\"xtick_3\">\n     <g id=\"line2d_5\">\n      <path clip-path=\"url(#p9e361df933)\" d=\"M 231.182599 550.8 \nL 231.182599 7.2 \n\" style=\"fill:none;stroke:#b2b2b2;stroke-dasharray:1.85,0.8;stroke-dashoffset:0;stroke-width:0.5;\"/>\n     </g>\n     <g id=\"line2d_6\">\n      <g>\n       <use style=\"fill:#ffffff;stroke:#ffffff;stroke-width:0.8;\" x=\"231.182599\" xlink:href=\"#m998f5d3b74\" y=\"550.8\"/>\n      </g>\n     </g>\n     <g id=\"text_3\">\n      <!-- −1 -->\n      <g style=\"fill:#ffffff;\" transform=\"translate(223.811505 561.898438)scale(0.1 -0.1)\">\n       <defs>\n        <path d=\"M 794 531 \nL 1825 531 \nL 1825 4091 \nL 703 3866 \nL 703 4441 \nL 1819 4666 \nL 2450 4666 \nL 2450 531 \nL 3481 531 \nL 3481 0 \nL 794 0 \nL 794 531 \nz\n\" id=\"DejaVuSans-31\" transform=\"scale(0.015625)\"/>\n       </defs>\n       <use xlink:href=\"#DejaVuSans-2212\"/>\n       <use x=\"83.789062\" xlink:href=\"#DejaVuSans-31\"/>\n      </g>\n     </g>\n    </g>\n    <g id=\"xtick_4\">\n     <g id=\"line2d_7\">\n      <path clip-path=\"url(#p9e361df933)\" d=\"M 305.539438 550.8 \nL 305.539438 7.2 \n\" style=\"fill:none;stroke:#b2b2b2;stroke-dasharray:1.85,0.8;stroke-dashoffset:0;stroke-width:0.5;\"/>\n     </g>\n     <g id=\"line2d_8\">\n      <g>\n       <use style=\"fill:#ffffff;stroke:#ffffff;stroke-width:0.8;\" x=\"305.539438\" xlink:href=\"#m998f5d3b74\" y=\"550.8\"/>\n      </g>\n     </g>\n     <g id=\"text_4\">\n      <!-- 0 -->\n      <g style=\"fill:#ffffff;\" transform=\"translate(302.358188 561.898438)scale(0.1 -0.1)\">\n       <defs>\n        <path d=\"M 2034 4250 \nQ 1547 4250 1301 3770 \nQ 1056 3291 1056 2328 \nQ 1056 1369 1301 889 \nQ 1547 409 2034 409 \nQ 2525 409 2770 889 \nQ 3016 1369 3016 2328 \nQ 3016 3291 2770 3770 \nQ 2525 4250 2034 4250 \nz\nM 2034 4750 \nQ 2819 4750 3233 4129 \nQ 3647 3509 3647 2328 \nQ 3647 1150 3233 529 \nQ 2819 -91 2034 -91 \nQ 1250 -91 836 529 \nQ 422 1150 422 2328 \nQ 422 3509 836 4129 \nQ 1250 4750 2034 4750 \nz\n\" id=\"DejaVuSans-30\" transform=\"scale(0.015625)\"/>\n       </defs>\n       <use xlink:href=\"#DejaVuSans-30\"/>\n      </g>\n     </g>\n    </g>\n    <g id=\"xtick_5\">\n     <g id=\"line2d_9\">\n      <path clip-path=\"url(#p9e361df933)\" d=\"M 379.896276 550.8 \nL 379.896276 7.2 \n\" style=\"fill:none;stroke:#b2b2b2;stroke-dasharray:1.85,0.8;stroke-dashoffset:0;stroke-width:0.5;\"/>\n     </g>\n     <g id=\"line2d_10\">\n      <g>\n       <use style=\"fill:#ffffff;stroke:#ffffff;stroke-width:0.8;\" x=\"379.896276\" xlink:href=\"#m998f5d3b74\" y=\"550.8\"/>\n      </g>\n     </g>\n     <g id=\"text_5\">\n      <!-- 1 -->\n      <g style=\"fill:#ffffff;\" transform=\"translate(376.715026 561.898438)scale(0.1 -0.1)\">\n       <use xlink:href=\"#DejaVuSans-31\"/>\n      </g>\n     </g>\n    </g>\n    <g id=\"xtick_6\">\n     <g id=\"line2d_11\">\n      <path clip-path=\"url(#p9e361df933)\" d=\"M 454.253115 550.8 \nL 454.253115 7.2 \n\" style=\"fill:none;stroke:#b2b2b2;stroke-dasharray:1.85,0.8;stroke-dashoffset:0;stroke-width:0.5;\"/>\n     </g>\n     <g id=\"line2d_12\">\n      <g>\n       <use style=\"fill:#ffffff;stroke:#ffffff;stroke-width:0.8;\" x=\"454.253115\" xlink:href=\"#m998f5d3b74\" y=\"550.8\"/>\n      </g>\n     </g>\n     <g id=\"text_6\">\n      <!-- 2 -->\n      <g style=\"fill:#ffffff;\" transform=\"translate(451.071865 561.898438)scale(0.1 -0.1)\">\n       <use xlink:href=\"#DejaVuSans-32\"/>\n      </g>\n     </g>\n    </g>\n    <g id=\"xtick_7\">\n     <g id=\"line2d_13\">\n      <path clip-path=\"url(#p9e361df933)\" d=\"M 528.609954 550.8 \nL 528.609954 7.2 \n\" style=\"fill:none;stroke:#b2b2b2;stroke-dasharray:1.85,0.8;stroke-dashoffset:0;stroke-width:0.5;\"/>\n     </g>\n     <g id=\"line2d_14\">\n      <g>\n       <use style=\"fill:#ffffff;stroke:#ffffff;stroke-width:0.8;\" x=\"528.609954\" xlink:href=\"#m998f5d3b74\" y=\"550.8\"/>\n      </g>\n     </g>\n     <g id=\"text_7\">\n      <!-- 3 -->\n      <g style=\"fill:#ffffff;\" transform=\"translate(525.428704 561.898438)scale(0.1 -0.1)\">\n       <use xlink:href=\"#DejaVuSans-33\"/>\n      </g>\n     </g>\n    </g>\n   </g>\n   <g id=\"matplotlib.axis_2\">\n    <g id=\"ytick_1\">\n     <g id=\"line2d_15\">\n      <path clip-path=\"url(#p9e361df933)\" d=\"M 23.425 550.8 \nL 581.425 550.8 \n\" style=\"fill:none;stroke:#b2b2b2;stroke-dasharray:1.85,0.8;stroke-dashoffset:0;stroke-width:0.5;\"/>\n     </g>\n     <g id=\"line2d_16\">\n      <defs>\n       <path d=\"M 0 0 \nL 3.5 0 \n\" id=\"m8eceab426f\" style=\"stroke:#ffffff;stroke-width:0.8;\"/>\n      </defs>\n      <g>\n       <use style=\"fill:#ffffff;stroke:#ffffff;stroke-width:0.8;\" x=\"23.425\" xlink:href=\"#m8eceab426f\" y=\"550.8\"/>\n      </g>\n     </g>\n     <g id=\"text_8\">\n      <!-- 0 -->\n      <g style=\"fill:#ffffff;\" transform=\"translate(13.5625 554.599219)scale(0.1 -0.1)\">\n       <use xlink:href=\"#DejaVuSans-30\"/>\n      </g>\n     </g>\n    </g>\n    <g id=\"ytick_2\">\n     <g id=\"line2d_17\">\n      <path clip-path=\"url(#p9e361df933)\" d=\"M 23.425 478.895238 \nL 581.425 478.895238 \n\" style=\"fill:none;stroke:#b2b2b2;stroke-dasharray:1.85,0.8;stroke-dashoffset:0;stroke-width:0.5;\"/>\n     </g>\n     <g id=\"line2d_18\">\n      <g>\n       <use style=\"fill:#ffffff;stroke:#ffffff;stroke-width:0.8;\" x=\"23.425\" xlink:href=\"#m8eceab426f\" y=\"478.895238\"/>\n      </g>\n     </g>\n     <g id=\"text_9\">\n      <!-- 5 -->\n      <g style=\"fill:#ffffff;\" transform=\"translate(13.5625 482.694457)scale(0.1 -0.1)\">\n       <defs>\n        <path d=\"M 691 4666 \nL 3169 4666 \nL 3169 4134 \nL 1269 4134 \nL 1269 2991 \nQ 1406 3038 1543 3061 \nQ 1681 3084 1819 3084 \nQ 2600 3084 3056 2656 \nQ 3513 2228 3513 1497 \nQ 3513 744 3044 326 \nQ 2575 -91 1722 -91 \nQ 1428 -91 1123 -41 \nQ 819 9 494 109 \nL 494 744 \nQ 775 591 1075 516 \nQ 1375 441 1709 441 \nQ 2250 441 2565 725 \nQ 2881 1009 2881 1497 \nQ 2881 1984 2565 2268 \nQ 2250 2553 1709 2553 \nQ 1456 2553 1204 2497 \nQ 953 2441 691 2322 \nL 691 4666 \nz\n\" id=\"DejaVuSans-35\" transform=\"scale(0.015625)\"/>\n       </defs>\n       <use xlink:href=\"#DejaVuSans-35\"/>\n      </g>\n     </g>\n    </g>\n    <g id=\"ytick_3\">\n     <g id=\"line2d_19\">\n      <path clip-path=\"url(#p9e361df933)\" d=\"M 23.425 406.990476 \nL 581.425 406.990476 \n\" style=\"fill:none;stroke:#b2b2b2;stroke-dasharray:1.85,0.8;stroke-dashoffset:0;stroke-width:0.5;\"/>\n     </g>\n     <g id=\"line2d_20\">\n      <g>\n       <use style=\"fill:#ffffff;stroke:#ffffff;stroke-width:0.8;\" x=\"23.425\" xlink:href=\"#m8eceab426f\" y=\"406.990476\"/>\n      </g>\n     </g>\n     <g id=\"text_10\">\n      <!-- 10 -->\n      <g style=\"fill:#ffffff;\" transform=\"translate(7.2 410.789695)scale(0.1 -0.1)\">\n       <use xlink:href=\"#DejaVuSans-31\"/>\n       <use x=\"63.623047\" xlink:href=\"#DejaVuSans-30\"/>\n      </g>\n     </g>\n    </g>\n    <g id=\"ytick_4\">\n     <g id=\"line2d_21\">\n      <path clip-path=\"url(#p9e361df933)\" d=\"M 23.425 335.085714 \nL 581.425 335.085714 \n\" style=\"fill:none;stroke:#b2b2b2;stroke-dasharray:1.85,0.8;stroke-dashoffset:0;stroke-width:0.5;\"/>\n     </g>\n     <g id=\"line2d_22\">\n      <g>\n       <use style=\"fill:#ffffff;stroke:#ffffff;stroke-width:0.8;\" x=\"23.425\" xlink:href=\"#m8eceab426f\" y=\"335.085714\"/>\n      </g>\n     </g>\n     <g id=\"text_11\">\n      <!-- 15 -->\n      <g style=\"fill:#ffffff;\" transform=\"translate(7.2 338.884933)scale(0.1 -0.1)\">\n       <use xlink:href=\"#DejaVuSans-31\"/>\n       <use x=\"63.623047\" xlink:href=\"#DejaVuSans-35\"/>\n      </g>\n     </g>\n    </g>\n    <g id=\"ytick_5\">\n     <g id=\"line2d_23\">\n      <path clip-path=\"url(#p9e361df933)\" d=\"M 23.425 263.180952 \nL 581.425 263.180952 \n\" style=\"fill:none;stroke:#b2b2b2;stroke-dasharray:1.85,0.8;stroke-dashoffset:0;stroke-width:0.5;\"/>\n     </g>\n     <g id=\"line2d_24\">\n      <g>\n       <use style=\"fill:#ffffff;stroke:#ffffff;stroke-width:0.8;\" x=\"23.425\" xlink:href=\"#m8eceab426f\" y=\"263.180952\"/>\n      </g>\n     </g>\n     <g id=\"text_12\">\n      <!-- 20 -->\n      <g style=\"fill:#ffffff;\" transform=\"translate(7.2 266.980171)scale(0.1 -0.1)\">\n       <use xlink:href=\"#DejaVuSans-32\"/>\n       <use x=\"63.623047\" xlink:href=\"#DejaVuSans-30\"/>\n      </g>\n     </g>\n    </g>\n    <g id=\"ytick_6\">\n     <g id=\"line2d_25\">\n      <path clip-path=\"url(#p9e361df933)\" d=\"M 23.425 191.27619 \nL 581.425 191.27619 \n\" style=\"fill:none;stroke:#b2b2b2;stroke-dasharray:1.85,0.8;stroke-dashoffset:0;stroke-width:0.5;\"/>\n     </g>\n     <g id=\"line2d_26\">\n      <g>\n       <use style=\"fill:#ffffff;stroke:#ffffff;stroke-width:0.8;\" x=\"23.425\" xlink:href=\"#m8eceab426f\" y=\"191.27619\"/>\n      </g>\n     </g>\n     <g id=\"text_13\">\n      <!-- 25 -->\n      <g style=\"fill:#ffffff;\" transform=\"translate(7.2 195.075409)scale(0.1 -0.1)\">\n       <use xlink:href=\"#DejaVuSans-32\"/>\n       <use x=\"63.623047\" xlink:href=\"#DejaVuSans-35\"/>\n      </g>\n     </g>\n    </g>\n    <g id=\"ytick_7\">\n     <g id=\"line2d_27\">\n      <path clip-path=\"url(#p9e361df933)\" d=\"M 23.425 119.371429 \nL 581.425 119.371429 \n\" style=\"fill:none;stroke:#b2b2b2;stroke-dasharray:1.85,0.8;stroke-dashoffset:0;stroke-width:0.5;\"/>\n     </g>\n     <g id=\"line2d_28\">\n      <g>\n       <use style=\"fill:#ffffff;stroke:#ffffff;stroke-width:0.8;\" x=\"23.425\" xlink:href=\"#m8eceab426f\" y=\"119.371429\"/>\n      </g>\n     </g>\n     <g id=\"text_14\">\n      <!-- 30 -->\n      <g style=\"fill:#ffffff;\" transform=\"translate(7.2 123.170647)scale(0.1 -0.1)\">\n       <use xlink:href=\"#DejaVuSans-33\"/>\n       <use x=\"63.623047\" xlink:href=\"#DejaVuSans-30\"/>\n      </g>\n     </g>\n    </g>\n    <g id=\"ytick_8\">\n     <g id=\"line2d_29\">\n      <path clip-path=\"url(#p9e361df933)\" d=\"M 23.425 47.466667 \nL 581.425 47.466667 \n\" style=\"fill:none;stroke:#b2b2b2;stroke-dasharray:1.85,0.8;stroke-dashoffset:0;stroke-width:0.5;\"/>\n     </g>\n     <g id=\"line2d_30\">\n      <g>\n       <use style=\"fill:#ffffff;stroke:#ffffff;stroke-width:0.8;\" x=\"23.425\" xlink:href=\"#m8eceab426f\" y=\"47.466667\"/>\n      </g>\n     </g>\n     <g id=\"text_15\">\n      <!-- 35 -->\n      <g style=\"fill:#ffffff;\" transform=\"translate(7.2 51.265885)scale(0.1 -0.1)\">\n       <use xlink:href=\"#DejaVuSans-33\"/>\n       <use x=\"63.623047\" xlink:href=\"#DejaVuSans-35\"/>\n      </g>\n     </g>\n    </g>\n   </g>\n   <g id=\"patch_103\">\n    <path d=\"M 23.425 550.8 \nL 23.425 7.2 \n\" style=\"fill:none;stroke:#bcbcbc;stroke-linecap:square;stroke-linejoin:miter;stroke-width:0.8;\"/>\n   </g>\n   <g id=\"patch_104\">\n    <path d=\"M 581.425 550.8 \nL 581.425 7.2 \n\" style=\"fill:none;stroke:#bcbcbc;stroke-linecap:square;stroke-linejoin:miter;stroke-width:0.8;\"/>\n   </g>\n   <g id=\"patch_105\">\n    <path d=\"M 23.425 550.8 \nL 581.425 550.8 \n\" style=\"fill:none;stroke:#bcbcbc;stroke-linecap:square;stroke-linejoin:miter;stroke-width:0.8;\"/>\n   </g>\n   <g id=\"patch_106\">\n    <path d=\"M 23.425 7.2 \nL 581.425 7.2 \n\" style=\"fill:none;stroke:#bcbcbc;stroke-linecap:square;stroke-linejoin:miter;stroke-width:0.8;\"/>\n   </g>\n  </g>\n </g>\n <defs>\n  <clipPath id=\"p9e361df933\">\n   <rect height=\"543.6\" width=\"558\" x=\"23.425\" y=\"7.2\"/>\n  </clipPath>\n </defs>\n</svg>\n",
      "image/png": "[encoded data removed]"
     },
     "metadata": {}
    }
   ],
   "source": [
    "# Numpy bridge!\n",
    "plt.hist(torch.randn(1000).numpy(), 100);"
   ]
  },
  {
   "cell_type": "code",
   "execution_count": 76,
   "metadata": {},
   "outputs": [
    {
     "output_type": "display_data",
     "data": {
      "text/plain": "<Figure size 1000x1000 with 1 Axes>",
      "image/svg+xml": "<?xml version=\"1.0\" encoding=\"utf-8\" standalone=\"no\"?>\n<!DOCTYPE svg PUBLIC \"-//W3C//DTD SVG 1.1//EN\"\n  \"http://www.w3.org/Graphics/SVG/1.1/DTD/svg11.dtd\">\n<svg height=\"571.178125pt\" version=\"1.1\" viewBox=\"0 0 607.7125 571.178125\" width=\"607.7125pt\" xmlns=\"http://www.w3.org/2000/svg\" xmlns:xlink=\"http://www.w3.org/1999/xlink\">\n <metadata>\n  <rdf:RDF xmlns:cc=\"http://creativecommons.org/ns#\" xmlns:dc=\"http://purl.org/dc/elements/1.1/\" xmlns:rdf=\"http://www.w3.org/1999/02/22-rdf-syntax-ns#\">\n   <cc:Work>\n    <dc:type rdf:resource=\"http://purl.org/dc/dcmitype/StillImage\"/>\n    <dc:date>2021-06-18T17:32:01.281617</dc:date>\n    <dc:format>image/svg+xml</dc:format>\n    <dc:creator>\n     <cc:Agent>\n      <dc:title>Matplotlib v3.4.2, https://matplotlib.org/</dc:title>\n     </cc:Agent>\n    </dc:creator>\n   </cc:Work>\n  </rdf:RDF>\n </metadata>\n <defs>\n  <style type=\"text/css\">*{stroke-linecap:butt;stroke-linejoin:round;}</style>\n </defs>\n <g id=\"figure_1\">\n  <g id=\"patch_1\">\n   <path d=\"M 0 571.178125 \nL 607.7125 571.178125 \nL 607.7125 0 \nL 0 0 \nz\n\"/>\n  </g>\n  <g id=\"axes_1\">\n   <g id=\"patch_2\">\n    <path d=\"M 42.5125 550.8 \nL 600.5125 550.8 \nL 600.5125 7.2 \nL 42.5125 7.2 \nz\n\"/>\n   </g>\n   <g id=\"patch_3\">\n    <path clip-path=\"url(#p7c198a1250)\" d=\"M 67.876136 550.8 \nL 72.948864 550.8 \nL 72.948864 550.786154 \nL 67.876136 550.786154 \nz\n\" style=\"fill:#348abd;\"/>\n   </g>\n   <g id=\"patch_4\">\n    <path clip-path=\"url(#p7c198a1250)\" d=\"M 72.948864 550.8 \nL 78.021592 550.8 \nL 78.021592 550.744618 \nL 72.948864 550.744618 \nz\n\" style=\"fill:#348abd;\"/>\n   </g>\n   <g id=\"patch_5\">\n    <path clip-path=\"url(#p7c198a1250)\" d=\"M 78.021592 550.8 \nL 83.09432 550.8 \nL 83.09432 550.703081 \nL 78.021592 550.703081 \nz\n\" style=\"fill:#348abd;\"/>\n   </g>\n   <g id=\"patch_6\">\n    <path clip-path=\"url(#p7c198a1250)\" d=\"M 83.09432 550.8 \nL 88.167048 550.8 \nL 88.167048 550.730772 \nL 83.09432 550.730772 \nz\n\" style=\"fill:#348abd;\"/>\n   </g>\n   <g id=\"patch_7\">\n    <path clip-path=\"url(#p7c198a1250)\" d=\"M 88.167048 550.8 \nL 93.239775 550.8 \nL 93.239775 550.730772 \nL 88.167048 550.730772 \nz\n\" style=\"fill:#348abd;\"/>\n   </g>\n   <g id=\"patch_8\">\n    <path clip-path=\"url(#p7c198a1250)\" d=\"M 93.239775 550.8 \nL 98.312503 550.8 \nL 98.312503 550.620007 \nL 93.239775 550.620007 \nz\n\" style=\"fill:#348abd;\"/>\n   </g>\n   <g id=\"patch_9\">\n    <path clip-path=\"url(#p7c198a1250)\" d=\"M 98.312503 550.8 \nL 103.385231 550.8 \nL 103.385231 550.536934 \nL 98.312503 550.536934 \nz\n\" style=\"fill:#348abd;\"/>\n   </g>\n   <g id=\"patch_10\">\n    <path clip-path=\"url(#p7c198a1250)\" d=\"M 103.385231 550.8 \nL 108.457959 550.8 \nL 108.457959 550.384632 \nL 103.385231 550.384632 \nz\n\" style=\"fill:#348abd;\"/>\n   </g>\n   <g id=\"patch_11\">\n    <path clip-path=\"url(#p7c198a1250)\" d=\"M 108.457959 550.8 \nL 113.530686 550.8 \nL 113.530686 550.481551 \nL 108.457959 550.481551 \nz\n\" style=\"fill:#348abd;\"/>\n   </g>\n   <g id=\"patch_12\">\n    <path clip-path=\"url(#p7c198a1250)\" d=\"M 113.530686 550.8 \nL 118.603414 550.8 \nL 118.603414 550.024647 \nL 113.530686 550.024647 \nz\n\" style=\"fill:#348abd;\"/>\n   </g>\n   <g id=\"patch_13\">\n    <path clip-path=\"url(#p7c198a1250)\" d=\"M 118.603414 550.8 \nL 123.676142 550.8 \nL 123.676142 550.066184 \nL 118.603414 550.066184 \nz\n\" style=\"fill:#348abd;\"/>\n   </g>\n   <g id=\"patch_14\">\n    <path clip-path=\"url(#p7c198a1250)\" d=\"M 123.676142 550.8 \nL 128.74887 550.8 \nL 128.74887 549.553897 \nL 123.676142 549.553897 \nz\n\" style=\"fill:#348abd;\"/>\n   </g>\n   <g id=\"patch_15\">\n    <path clip-path=\"url(#p7c198a1250)\" d=\"M 128.74887 550.8 \nL 133.821598 550.8 \nL 133.821598 548.681625 \nL 128.74887 548.681625 \nz\n\" style=\"fill:#348abd;\"/>\n   </g>\n   <g id=\"patch_16\">\n    <path clip-path=\"url(#p7c198a1250)\" d=\"M 133.821585 550.8 \nL 138.894313 550.8 \nL 138.894313 548.210875 \nL 133.821585 548.210875 \nz\n\" style=\"fill:#348abd;\"/>\n   </g>\n   <g id=\"patch_17\">\n    <path clip-path=\"url(#p7c198a1250)\" d=\"M 138.894313 550.8 \nL 143.96704 550.8 \nL 143.96704 547.421676 \nL 138.894313 547.421676 \nz\n\" style=\"fill:#348abd;\"/>\n   </g>\n   <g id=\"patch_18\">\n    <path clip-path=\"url(#p7c198a1250)\" d=\"M 143.96704 550.8 \nL 149.039768 550.8 \nL 149.039768 545.87097 \nL 143.96704 545.87097 \nz\n\" style=\"fill:#348abd;\"/>\n   </g>\n   <g id=\"patch_19\">\n    <path clip-path=\"url(#p7c198a1250)\" d=\"M 149.039768 550.8 \nL 154.112496 550.8 \nL 154.112496 545.289455 \nL 149.039768 545.289455 \nz\n\" style=\"fill:#348abd;\"/>\n   </g>\n   <g id=\"patch_20\">\n    <path clip-path=\"url(#p7c198a1250)\" d=\"M 154.112496 550.8 \nL 159.185224 550.8 \nL 159.185224 543.281845 \nL 154.112496 543.281845 \nz\n\" style=\"fill:#348abd;\"/>\n   </g>\n   <g id=\"patch_21\">\n    <path clip-path=\"url(#p7c198a1250)\" d=\"M 159.185224 550.8 \nL 164.257951 550.8 \nL 164.257951 540.900403 \nL 159.185224 540.900403 \nz\n\" style=\"fill:#348abd;\"/>\n   </g>\n   <g id=\"patch_22\">\n    <path clip-path=\"url(#p7c198a1250)\" d=\"M 164.257951 550.8 \nL 169.330679 550.8 \nL 169.330679 537.702072 \nL 164.257951 537.702072 \nz\n\" style=\"fill:#348abd;\"/>\n   </g>\n   <g id=\"patch_23\">\n    <path clip-path=\"url(#p7c198a1250)\" d=\"M 169.330679 550.8 \nL 174.403407 550.8 \nL 174.403407 533.797616 \nL 169.330679 533.797616 \nz\n\" style=\"fill:#348abd;\"/>\n   </g>\n   <g id=\"patch_24\">\n    <path clip-path=\"url(#p7c198a1250)\" d=\"M 174.403407 550.8 \nL 179.476135 550.8 \nL 179.476135 528.923968 \nL 174.403407 528.923968 \nz\n\" style=\"fill:#348abd;\"/>\n   </g>\n   <g id=\"patch_25\">\n    <path clip-path=\"url(#p7c198a1250)\" d=\"M 179.476135 550.8 \nL 184.548863 550.8 \nL 184.548863 523.454961 \nL 179.476135 523.454961 \nz\n\" style=\"fill:#348abd;\"/>\n   </g>\n   <g id=\"patch_26\">\n    <path clip-path=\"url(#p7c198a1250)\" d=\"M 184.548863 550.8 \nL 189.62159 550.8 \nL 189.62159 516.033725 \nL 184.548863 516.033725 \nz\n\" style=\"fill:#348abd;\"/>\n   </g>\n   <g id=\"patch_27\">\n    <path clip-path=\"url(#p7c198a1250)\" d=\"M 189.62159 550.8 \nL 194.694318 550.8 \nL 194.694318 509.097084 \nL 189.62159 509.097084 \nz\n\" style=\"fill:#348abd;\"/>\n   </g>\n   <g id=\"patch_28\">\n    <path clip-path=\"url(#p7c198a1250)\" d=\"M 194.694318 550.8 \nL 199.767046 550.8 \nL 199.767046 498.532899 \nL 194.694318 498.532899 \nz\n\" style=\"fill:#348abd;\"/>\n   </g>\n   <g id=\"patch_29\">\n    <path clip-path=\"url(#p7c198a1250)\" d=\"M 199.767046 550.8 \nL 204.839774 550.8 \nL 204.839774 487.968714 \nL 199.767046 487.968714 \nz\n\" style=\"fill:#348abd;\"/>\n   </g>\n   <g id=\"patch_30\">\n    <path clip-path=\"url(#p7c198a1250)\" d=\"M 204.839774 550.8 \nL 209.912502 550.8 \nL 209.912502 473.569301 \nL 204.839774 473.569301 \nz\n\" style=\"fill:#348abd;\"/>\n   </g>\n   <g id=\"patch_31\">\n    <path clip-path=\"url(#p7c198a1250)\" d=\"M 209.912502 550.8 \nL 214.985229 550.8 \nL 214.985229 460.651366 \nL 209.912502 460.651366 \nz\n\" style=\"fill:#348abd;\"/>\n   </g>\n   <g id=\"patch_32\">\n    <path clip-path=\"url(#p7c198a1250)\" d=\"M 214.985229 550.8 \nL 220.057957 550.8 \nL 220.057957 443.136695 \nL 214.985229 443.136695 \nz\n\" style=\"fill:#348abd;\"/>\n   </g>\n   <g id=\"patch_33\">\n    <path clip-path=\"url(#p7c198a1250)\" d=\"M 220.057957 550.8 \nL 225.130685 550.8 \nL 225.130685 422.132936 \nL 220.057957 422.132936 \nz\n\" style=\"fill:#348abd;\"/>\n   </g>\n   <g id=\"patch_34\">\n    <path clip-path=\"url(#p7c198a1250)\" d=\"M 225.130685 550.8 \nL 230.203413 550.8 \nL 230.203413 402.015294 \nL 225.130685 402.015294 \nz\n\" style=\"fill:#348abd;\"/>\n   </g>\n   <g id=\"patch_35\">\n    <path clip-path=\"url(#p7c198a1250)\" d=\"M 230.203406 550.8 \nL 235.276134 550.8 \nL 235.276134 381.71766 \nL 230.203406 381.71766 \nz\n\" style=\"fill:#348abd;\"/>\n   </g>\n   <g id=\"patch_36\">\n    <path clip-path=\"url(#p7c198a1250)\" d=\"M 235.276134 550.8 \nL 240.348862 550.8 \nL 240.348862 355.314121 \nL 235.276134 355.314121 \nz\n\" style=\"fill:#348abd;\"/>\n   </g>\n   <g id=\"patch_37\">\n    <path clip-path=\"url(#p7c198a1250)\" d=\"M 240.348862 550.8 \nL 245.42159 550.8 \nL 245.42159 327.664478 \nL 240.348862 327.664478 \nz\n\" style=\"fill:#348abd;\"/>\n   </g>\n   <g id=\"patch_38\">\n    <path clip-path=\"url(#p7c198a1250)\" d=\"M 245.42159 550.8 \nL 250.494317 550.8 \nL 250.494317 303.98852 \nL 245.42159 303.98852 \nz\n\" style=\"fill:#348abd;\"/>\n   </g>\n   <g id=\"patch_39\">\n    <path clip-path=\"url(#p7c198a1250)\" d=\"M 250.494317 550.8 \nL 255.567045 550.8 \nL 255.567045 270.620649 \nL 250.494317 270.620649 \nz\n\" style=\"fill:#348abd;\"/>\n   </g>\n   <g id=\"patch_40\">\n    <path clip-path=\"url(#p7c198a1250)\" d=\"M 255.567045 550.8 \nL 260.639773 550.8 \nL 260.639773 243.234073 \nL 255.567045 243.234073 \nz\n\" style=\"fill:#348abd;\"/>\n   </g>\n   <g id=\"patch_41\">\n    <path clip-path=\"url(#p7c198a1250)\" d=\"M 260.639773 550.8 \nL 265.712501 550.8 \nL 265.712501 211.749202 \nL 260.639773 211.749202 \nz\n\" style=\"fill:#348abd;\"/>\n   </g>\n   <g id=\"patch_42\">\n    <path clip-path=\"url(#p7c198a1250)\" d=\"M 265.712501 550.8 \nL 270.785229 550.8 \nL 270.785229 183.642655 \nL 265.712501 183.642655 \nz\n\" style=\"fill:#348abd;\"/>\n   </g>\n   <g id=\"patch_43\">\n    <path clip-path=\"url(#p7c198a1250)\" d=\"M 270.785229 550.8 \nL 275.857956 550.8 \nL 275.857956 157.086815 \nL 270.785229 157.086815 \nz\n\" style=\"fill:#348abd;\"/>\n   </g>\n   <g id=\"patch_44\">\n    <path clip-path=\"url(#p7c198a1250)\" d=\"M 275.857953 550.8 \nL 280.930681 550.8 \nL 280.930681 132.704731 \nL 275.857953 132.704731 \nz\n\" style=\"fill:#348abd;\"/>\n   </g>\n   <g id=\"patch_45\">\n    <path clip-path=\"url(#p7c198a1250)\" d=\"M 280.930681 550.8 \nL 286.003409 550.8 \nL 286.003409 105.415074 \nL 280.930681 105.415074 \nz\n\" style=\"fill:#348abd;\"/>\n   </g>\n   <g id=\"patch_46\">\n    <path clip-path=\"url(#p7c198a1250)\" d=\"M 286.003409 550.8 \nL 291.076136 550.8 \nL 291.076136 83.885182 \nL 286.003409 83.885182 \nz\n\" style=\"fill:#348abd;\"/>\n   </g>\n   <g id=\"patch_47\">\n    <path clip-path=\"url(#p7c198a1250)\" d=\"M 291.076136 550.8 \nL 296.148864 550.8 \nL 296.148864 61.261489 \nL 291.076136 61.261489 \nz\n\" style=\"fill:#348abd;\"/>\n   </g>\n   <g id=\"patch_48\">\n    <path clip-path=\"url(#p7c198a1250)\" d=\"M 296.148864 550.8 \nL 301.221592 550.8 \nL 301.221592 53.466422 \nL 296.148864 53.466422 \nz\n\" style=\"fill:#348abd;\"/>\n   </g>\n   <g id=\"patch_49\">\n    <path clip-path=\"url(#p7c198a1250)\" d=\"M 301.22159 550.8 \nL 306.294318 550.8 \nL 306.294318 38.928553 \nL 301.22159 38.928553 \nz\n\" style=\"fill:#348abd;\"/>\n   </g>\n   <g id=\"patch_50\">\n    <path clip-path=\"url(#p7c198a1250)\" d=\"M 306.294318 550.8 \nL 311.367046 550.8 \nL 311.367046 34.484119 \nL 306.294318 34.484119 \nz\n\" style=\"fill:#348abd;\"/>\n   </g>\n   <g id=\"patch_51\">\n    <path clip-path=\"url(#p7c198a1250)\" d=\"M 311.367045 550.8 \nL 316.439773 550.8 \nL 316.439773 33.085714 \nL 311.367045 33.085714 \nz\n\" style=\"fill:#348abd;\"/>\n   </g>\n   <g id=\"patch_52\">\n    <path clip-path=\"url(#p7c198a1250)\" d=\"M 316.439772 550.8 \nL 321.5125 550.8 \nL 321.5125 35.854832 \nL 316.439772 35.854832 \nz\n\" style=\"fill:#348abd;\"/>\n   </g>\n   <g id=\"patch_53\">\n    <path clip-path=\"url(#p7c198a1250)\" d=\"M 321.5125 550.8 \nL 326.585228 550.8 \nL 326.585228 46.086723 \nL 321.5125 46.086723 \nz\n\" style=\"fill:#348abd;\"/>\n   </g>\n   <g id=\"patch_54\">\n    <path clip-path=\"url(#p7c198a1250)\" d=\"M 326.585226 550.8 \nL 331.657954 550.8 \nL 331.657954 56.858592 \nL 326.585226 56.858592 \nz\n\" style=\"fill:#348abd;\"/>\n   </g>\n   <g id=\"patch_55\">\n    <path clip-path=\"url(#p7c198a1250)\" d=\"M 331.657954 550.8 \nL 336.730682 550.8 \nL 336.730682 69.984211 \nL 331.657954 69.984211 \nz\n\" style=\"fill:#348abd;\"/>\n   </g>\n   <g id=\"patch_56\">\n    <path clip-path=\"url(#p7c198a1250)\" d=\"M 336.73068 550.8 \nL 341.803408 550.8 \nL 341.803408 86.515844 \nL 336.73068 86.515844 \nz\n\" style=\"fill:#348abd;\"/>\n   </g>\n   <g id=\"patch_57\">\n    <path clip-path=\"url(#p7c198a1250)\" d=\"M 341.803408 550.8 \nL 346.876136 550.8 \nL 346.876136 114.954685 \nL 341.803408 114.954685 \nz\n\" style=\"fill:#348abd;\"/>\n   </g>\n   <g id=\"patch_58\">\n    <path clip-path=\"url(#p7c198a1250)\" d=\"M 346.876136 550.8 \nL 351.948864 550.8 \nL 351.948864 138.478342 \nL 346.876136 138.478342 \nz\n\" style=\"fill:#348abd;\"/>\n   </g>\n   <g id=\"patch_59\">\n    <path clip-path=\"url(#p7c198a1250)\" d=\"M 351.948864 550.8 \nL 357.021591 550.8 \nL 357.021591 159.855933 \nL 351.948864 159.855933 \nz\n\" style=\"fill:#348abd;\"/>\n   </g>\n   <g id=\"patch_60\">\n    <path clip-path=\"url(#p7c198a1250)\" d=\"M 357.021591 550.8 \nL 362.094319 550.8 \nL 362.094319 187.117898 \nL 357.021591 187.117898 \nz\n\" style=\"fill:#348abd;\"/>\n   </g>\n   <g id=\"patch_61\">\n    <path clip-path=\"url(#p7c198a1250)\" d=\"M 362.094319 550.8 \nL 367.167047 550.8 \nL 367.167047 222.327233 \nL 362.094319 222.327233 \nz\n\" style=\"fill:#348abd;\"/>\n   </g>\n   <g id=\"patch_62\">\n    <path clip-path=\"url(#p7c198a1250)\" d=\"M 367.167044 550.8 \nL 372.239771 550.8 \nL 372.239771 246.003191 \nL 367.167044 246.003191 \nz\n\" style=\"fill:#348abd;\"/>\n   </g>\n   <g id=\"patch_63\">\n    <path clip-path=\"url(#p7c198a1250)\" d=\"M 372.239771 550.8 \nL 377.312499 550.8 \nL 377.312499 279.398753 \nL 372.239771 279.398753 \nz\n\" style=\"fill:#348abd;\"/>\n   </g>\n   <g id=\"patch_64\">\n    <path clip-path=\"url(#p7c198a1250)\" d=\"M 377.312499 550.8 \nL 382.385227 550.8 \nL 382.385227 308.405263 \nL 377.312499 308.405263 \nz\n\" style=\"fill:#348abd;\"/>\n   </g>\n   <g id=\"patch_65\">\n    <path clip-path=\"url(#p7c198a1250)\" d=\"M 382.385227 550.8 \nL 387.457955 550.8 \nL 387.457955 333.93653 \nL 382.385227 333.93653 \nz\n\" style=\"fill:#348abd;\"/>\n   </g>\n   <g id=\"patch_66\">\n    <path clip-path=\"url(#p7c198a1250)\" d=\"M 387.457955 550.8 \nL 392.530683 550.8 \nL 392.530683 359.938548 \nL 387.457955 359.938548 \nz\n\" style=\"fill:#348abd;\"/>\n   </g>\n   <g id=\"patch_67\">\n    <path clip-path=\"url(#p7c198a1250)\" d=\"M 392.530683 550.8 \nL 397.60341 550.8 \nL 397.60341 387.491271 \nL 392.530683 387.491271 \nz\n\" style=\"fill:#348abd;\"/>\n   </g>\n   <g id=\"patch_68\">\n    <path clip-path=\"url(#p7c198a1250)\" d=\"M 397.60341 550.8 \nL 402.676138 550.8 \nL 402.676138 411.568751 \nL 397.60341 411.568751 \nz\n\" style=\"fill:#348abd;\"/>\n   </g>\n   <g id=\"patch_69\">\n    <path clip-path=\"url(#p7c198a1250)\" d=\"M 402.676138 550.8 \nL 407.748866 550.8 \nL 407.748866 429.180341 \nL 402.676138 429.180341 \nz\n\" style=\"fill:#348abd;\"/>\n   </g>\n   <g id=\"patch_70\">\n    <path clip-path=\"url(#p7c198a1250)\" d=\"M 407.748866 550.8 \nL 412.821594 550.8 \nL 412.821594 447.262681 \nL 407.748866 447.262681 \nz\n\" style=\"fill:#348abd;\"/>\n   </g>\n   <g id=\"patch_71\">\n    <path clip-path=\"url(#p7c198a1250)\" d=\"M 412.821587 550.8 \nL 417.894315 550.8 \nL 417.894315 464.112764 \nL 412.821587 464.112764 \nz\n\" style=\"fill:#348abd;\"/>\n   </g>\n   <g id=\"patch_72\">\n    <path clip-path=\"url(#p7c198a1250)\" d=\"M 417.894315 550.8 \nL 422.967043 550.8 \nL 422.967043 477.667596 \nL 417.894315 477.667596 \nz\n\" style=\"fill:#348abd;\"/>\n   </g>\n   <g id=\"patch_73\">\n    <path clip-path=\"url(#p7c198a1250)\" d=\"M 422.967043 550.8 \nL 428.039771 550.8 \nL 428.039771 489.810178 \nL 422.967043 489.810178 \nz\n\" style=\"fill:#348abd;\"/>\n   </g>\n   <g id=\"patch_74\">\n    <path clip-path=\"url(#p7c198a1250)\" d=\"M 428.039771 550.8 \nL 433.112498 550.8 \nL 433.112498 501.551238 \nL 428.039771 501.551238 \nz\n\" style=\"fill:#348abd;\"/>\n   </g>\n   <g id=\"patch_75\">\n    <path clip-path=\"url(#p7c198a1250)\" d=\"M 433.112498 550.8 \nL 438.185226 550.8 \nL 438.185226 511.727746 \nL 433.112498 511.727746 \nz\n\" style=\"fill:#348abd;\"/>\n   </g>\n   <g id=\"patch_76\">\n    <path clip-path=\"url(#p7c198a1250)\" d=\"M 438.185226 550.8 \nL 443.257954 550.8 \nL 443.257954 518.678232 \nL 438.185226 518.678232 \nz\n\" style=\"fill:#348abd;\"/>\n   </g>\n   <g id=\"patch_77\">\n    <path clip-path=\"url(#p7c198a1250)\" d=\"M 443.257954 550.8 \nL 448.330682 550.8 \nL 448.330682 525.711792 \nL 443.257954 525.711792 \nz\n\" style=\"fill:#348abd;\"/>\n   </g>\n   <g id=\"patch_78\">\n    <path clip-path=\"url(#p7c198a1250)\" d=\"M 448.330682 550.8 \nL 453.40341 550.8 \nL 453.40341 529.588557 \nL 448.330682 529.588557 \nz\n\" style=\"fill:#348abd;\"/>\n   </g>\n   <g id=\"patch_79\">\n    <path clip-path=\"url(#p7c198a1250)\" d=\"M 453.40341 550.8 \nL 458.476137 550.8 \nL 458.476137 535.445241 \nL 453.40341 535.445241 \nz\n\" style=\"fill:#348abd;\"/>\n   </g>\n   <g id=\"patch_80\">\n    <path clip-path=\"url(#p7c198a1250)\" d=\"M 458.476137 550.8 \nL 463.548865 550.8 \nL 463.548865 537.660535 \nL 458.476137 537.660535 \nz\n\" style=\"fill:#348abd;\"/>\n   </g>\n   <g id=\"patch_81\">\n    <path clip-path=\"url(#p7c198a1250)\" d=\"M 463.548865 550.8 \nL 468.621593 550.8 \nL 468.621593 541.398845 \nL 463.548865 541.398845 \nz\n\" style=\"fill:#348abd;\"/>\n   </g>\n   <g id=\"patch_82\">\n    <path clip-path=\"url(#p7c198a1250)\" d=\"M 468.621593 550.8 \nL 473.694321 550.8 \nL 473.694321 543.627985 \nL 468.621593 543.627985 \nz\n\" style=\"fill:#348abd;\"/>\n   </g>\n   <g id=\"patch_83\">\n    <path clip-path=\"url(#p7c198a1250)\" d=\"M 473.694321 550.8 \nL 478.767049 550.8 \nL 478.767049 545.52483 \nL 473.694321 545.52483 \nz\n\" style=\"fill:#348abd;\"/>\n   </g>\n   <g id=\"patch_84\">\n    <path clip-path=\"url(#p7c198a1250)\" d=\"M 478.767049 550.8 \nL 483.839776 550.8 \nL 483.839776 546.535558 \nL 478.767049 546.535558 \nz\n\" style=\"fill:#348abd;\"/>\n   </g>\n   <g id=\"patch_85\">\n    <path clip-path=\"url(#p7c198a1250)\" d=\"M 483.839776 550.8 \nL 488.912504 550.8 \nL 488.912504 548.086264 \nL 483.839776 548.086264 \nz\n\" style=\"fill:#348abd;\"/>\n   </g>\n   <g id=\"patch_86\">\n    <path clip-path=\"url(#p7c198a1250)\" d=\"M 488.912504 550.8 \nL 493.985232 550.8 \nL 493.985232 548.460095 \nL 488.912504 548.460095 \nz\n\" style=\"fill:#348abd;\"/>\n   </g>\n   <g id=\"patch_87\">\n    <path clip-path=\"url(#p7c198a1250)\" d=\"M 493.985232 550.8 \nL 499.05796 550.8 \nL 499.05796 549.373904 \nL 493.985232 549.373904 \nz\n\" style=\"fill:#348abd;\"/>\n   </g>\n   <g id=\"patch_88\">\n    <path clip-path=\"url(#p7c198a1250)\" d=\"M 499.05796 550.8 \nL 504.130687 550.8 \nL 504.130687 549.553897 \nL 499.05796 549.553897 \nz\n\" style=\"fill:#348abd;\"/>\n   </g>\n   <g id=\"patch_89\">\n    <path clip-path=\"url(#p7c198a1250)\" d=\"M 504.130687 550.8 \nL 509.203415 550.8 \nL 509.203415 550.024647 \nL 504.130687 550.024647 \nz\n\" style=\"fill:#348abd;\"/>\n   </g>\n   <g id=\"patch_90\">\n    <path clip-path=\"url(#p7c198a1250)\" d=\"M 509.203402 550.8 \nL 514.27613 550.8 \nL 514.27613 550.149257 \nL 509.203402 550.149257 \nz\n\" style=\"fill:#348abd;\"/>\n   </g>\n   <g id=\"patch_91\">\n    <path clip-path=\"url(#p7c198a1250)\" d=\"M 514.27613 550.8 \nL 519.348858 550.8 \nL 519.348858 550.467706 \nL 514.27613 550.467706 \nz\n\" style=\"fill:#348abd;\"/>\n   </g>\n   <g id=\"patch_92\">\n    <path clip-path=\"url(#p7c198a1250)\" d=\"M 519.348858 550.8 \nL 524.421586 550.8 \nL 524.421586 550.564625 \nL 519.348858 550.564625 \nz\n\" style=\"fill:#348abd;\"/>\n   </g>\n   <g id=\"patch_93\">\n    <path clip-path=\"url(#p7c198a1250)\" d=\"M 524.421586 550.8 \nL 529.494314 550.8 \nL 529.494314 550.564625 \nL 524.421586 550.564625 \nz\n\" style=\"fill:#348abd;\"/>\n   </g>\n   <g id=\"patch_94\">\n    <path clip-path=\"url(#p7c198a1250)\" d=\"M 529.494314 550.8 \nL 534.567041 550.8 \nL 534.567041 550.592316 \nL 529.494314 550.592316 \nz\n\" style=\"fill:#348abd;\"/>\n   </g>\n   <g id=\"patch_95\">\n    <path clip-path=\"url(#p7c198a1250)\" d=\"M 534.567041 550.8 \nL 539.639769 550.8 \nL 539.639769 550.716926 \nL 534.567041 550.716926 \nz\n\" style=\"fill:#348abd;\"/>\n   </g>\n   <g id=\"patch_96\">\n    <path clip-path=\"url(#p7c198a1250)\" d=\"M 539.639769 550.8 \nL 544.712497 550.8 \nL 544.712497 550.689235 \nL 539.639769 550.689235 \nz\n\" style=\"fill:#348abd;\"/>\n   </g>\n   <g id=\"patch_97\">\n    <path clip-path=\"url(#p7c198a1250)\" d=\"M 544.712497 550.8 \nL 549.785225 550.8 \nL 549.785225 550.758463 \nL 544.712497 550.758463 \nz\n\" style=\"fill:#348abd;\"/>\n   </g>\n   <g id=\"patch_98\">\n    <path clip-path=\"url(#p7c198a1250)\" d=\"M 549.785225 550.8 \nL 554.857952 550.8 \nL 554.857952 550.744618 \nL 549.785225 550.744618 \nz\n\" style=\"fill:#348abd;\"/>\n   </g>\n   <g id=\"patch_99\">\n    <path clip-path=\"url(#p7c198a1250)\" d=\"M 554.857952 550.8 \nL 559.93068 550.8 \nL 559.93068 550.786154 \nL 554.857952 550.786154 \nz\n\" style=\"fill:#348abd;\"/>\n   </g>\n   <g id=\"patch_100\">\n    <path clip-path=\"url(#p7c198a1250)\" d=\"M 559.93068 550.8 \nL 565.003408 550.8 \nL 565.003408 550.772309 \nL 559.93068 550.772309 \nz\n\" style=\"fill:#348abd;\"/>\n   </g>\n   <g id=\"patch_101\">\n    <path clip-path=\"url(#p7c198a1250)\" d=\"M 565.003408 550.8 \nL 570.076136 550.8 \nL 570.076136 550.786154 \nL 565.003408 550.786154 \nz\n\" style=\"fill:#348abd;\"/>\n   </g>\n   <g id=\"patch_102\">\n    <path clip-path=\"url(#p7c198a1250)\" d=\"M 570.076136 550.8 \nL 575.148864 550.8 \nL 575.148864 550.772309 \nL 570.076136 550.772309 \nz\n\" style=\"fill:#348abd;\"/>\n   </g>\n   <g id=\"matplotlib.axis_1\">\n    <g id=\"xtick_1\">\n     <g id=\"line2d_1\">\n      <path clip-path=\"url(#p7c198a1250)\" d=\"M 97.084908 550.8 \nL 97.084908 7.2 \n\" style=\"fill:none;stroke:#b2b2b2;stroke-dasharray:1.85,0.8;stroke-dashoffset:0;stroke-width:0.5;\"/>\n     </g>\n     <g id=\"line2d_2\">\n      <defs>\n       <path d=\"M 0 0 \nL 0 -3.5 \n\" id=\"m6866e6b1bd\" style=\"stroke:#ffffff;stroke-width:0.8;\"/>\n      </defs>\n      <g>\n       <use style=\"fill:#ffffff;stroke:#ffffff;stroke-width:0.8;\" x=\"97.084908\" xlink:href=\"#m6866e6b1bd\" y=\"550.8\"/>\n      </g>\n     </g>\n     <g id=\"text_1\">\n      <!-- −4 -->\n      <g style=\"fill:#ffffff;\" transform=\"translate(89.713814 561.898438)scale(0.1 -0.1)\">\n       <defs>\n        <path d=\"M 678 2272 \nL 4684 2272 \nL 4684 1741 \nL 678 1741 \nL 678 2272 \nz\n\" id=\"DejaVuSans-2212\" transform=\"scale(0.015625)\"/>\n        <path d=\"M 2419 4116 \nL 825 1625 \nL 2419 1625 \nL 2419 4116 \nz\nM 2253 4666 \nL 3047 4666 \nL 3047 1625 \nL 3713 1625 \nL 3713 1100 \nL 3047 1100 \nL 3047 0 \nL 2419 0 \nL 2419 1100 \nL 313 1100 \nL 313 1709 \nL 2253 4666 \nz\n\" id=\"DejaVuSans-34\" transform=\"scale(0.015625)\"/>\n       </defs>\n       <use xlink:href=\"#DejaVuSans-2212\"/>\n       <use x=\"83.789062\" xlink:href=\"#DejaVuSans-34\"/>\n      </g>\n     </g>\n    </g>\n    <g id=\"xtick_2\">\n     <g id=\"line2d_3\">\n      <path clip-path=\"url(#p7c198a1250)\" d=\"M 205.134932 550.8 \nL 205.134932 7.2 \n\" style=\"fill:none;stroke:#b2b2b2;stroke-dasharray:1.85,0.8;stroke-dashoffset:0;stroke-width:0.5;\"/>\n     </g>\n     <g id=\"line2d_4\">\n      <g>\n       <use style=\"fill:#ffffff;stroke:#ffffff;stroke-width:0.8;\" x=\"205.134932\" xlink:href=\"#m6866e6b1bd\" y=\"550.8\"/>\n      </g>\n     </g>\n     <g id=\"text_2\">\n      <!-- −2 -->\n      <g style=\"fill:#ffffff;\" transform=\"translate(197.763838 561.898438)scale(0.1 -0.1)\">\n       <defs>\n        <path d=\"M 1228 531 \nL 3431 531 \nL 3431 0 \nL 469 0 \nL 469 531 \nQ 828 903 1448 1529 \nQ 2069 2156 2228 2338 \nQ 2531 2678 2651 2914 \nQ 2772 3150 2772 3378 \nQ 2772 3750 2511 3984 \nQ 2250 4219 1831 4219 \nQ 1534 4219 1204 4116 \nQ 875 4013 500 3803 \nL 500 4441 \nQ 881 4594 1212 4672 \nQ 1544 4750 1819 4750 \nQ 2544 4750 2975 4387 \nQ 3406 4025 3406 3419 \nQ 3406 3131 3298 2873 \nQ 3191 2616 2906 2266 \nQ 2828 2175 2409 1742 \nQ 1991 1309 1228 531 \nz\n\" id=\"DejaVuSans-32\" transform=\"scale(0.015625)\"/>\n       </defs>\n       <use xlink:href=\"#DejaVuSans-2212\"/>\n       <use x=\"83.789062\" xlink:href=\"#DejaVuSans-32\"/>\n      </g>\n     </g>\n    </g>\n    <g id=\"xtick_3\">\n     <g id=\"line2d_5\">\n      <path clip-path=\"url(#p7c198a1250)\" d=\"M 313.184956 550.8 \nL 313.184956 7.2 \n\" style=\"fill:none;stroke:#b2b2b2;stroke-dasharray:1.85,0.8;stroke-dashoffset:0;stroke-width:0.5;\"/>\n     </g>\n     <g id=\"line2d_6\">\n      <g>\n       <use style=\"fill:#ffffff;stroke:#ffffff;stroke-width:0.8;\" x=\"313.184956\" xlink:href=\"#m6866e6b1bd\" y=\"550.8\"/>\n      </g>\n     </g>\n     <g id=\"text_3\">\n      <!-- 0 -->\n      <g style=\"fill:#ffffff;\" transform=\"translate(310.003706 561.898438)scale(0.1 -0.1)\">\n       <defs>\n        <path d=\"M 2034 4250 \nQ 1547 4250 1301 3770 \nQ 1056 3291 1056 2328 \nQ 1056 1369 1301 889 \nQ 1547 409 2034 409 \nQ 2525 409 2770 889 \nQ 3016 1369 3016 2328 \nQ 3016 3291 2770 3770 \nQ 2525 4250 2034 4250 \nz\nM 2034 4750 \nQ 2819 4750 3233 4129 \nQ 3647 3509 3647 2328 \nQ 3647 1150 3233 529 \nQ 2819 -91 2034 -91 \nQ 1250 -91 836 529 \nQ 422 1150 422 2328 \nQ 422 3509 836 4129 \nQ 1250 4750 2034 4750 \nz\n\" id=\"DejaVuSans-30\" transform=\"scale(0.015625)\"/>\n       </defs>\n       <use xlink:href=\"#DejaVuSans-30\"/>\n      </g>\n     </g>\n    </g>\n    <g id=\"xtick_4\">\n     <g id=\"line2d_7\">\n      <path clip-path=\"url(#p7c198a1250)\" d=\"M 421.23498 550.8 \nL 421.23498 7.2 \n\" style=\"fill:none;stroke:#b2b2b2;stroke-dasharray:1.85,0.8;stroke-dashoffset:0;stroke-width:0.5;\"/>\n     </g>\n     <g id=\"line2d_8\">\n      <g>\n       <use style=\"fill:#ffffff;stroke:#ffffff;stroke-width:0.8;\" x=\"421.23498\" xlink:href=\"#m6866e6b1bd\" y=\"550.8\"/>\n      </g>\n     </g>\n     <g id=\"text_4\">\n      <!-- 2 -->\n      <g style=\"fill:#ffffff;\" transform=\"translate(418.05373 561.898438)scale(0.1 -0.1)\">\n       <use xlink:href=\"#DejaVuSans-32\"/>\n      </g>\n     </g>\n    </g>\n    <g id=\"xtick_5\">\n     <g id=\"line2d_9\">\n      <path clip-path=\"url(#p7c198a1250)\" d=\"M 529.285004 550.8 \nL 529.285004 7.2 \n\" style=\"fill:none;stroke:#b2b2b2;stroke-dasharray:1.85,0.8;stroke-dashoffset:0;stroke-width:0.5;\"/>\n     </g>\n     <g id=\"line2d_10\">\n      <g>\n       <use style=\"fill:#ffffff;stroke:#ffffff;stroke-width:0.8;\" x=\"529.285004\" xlink:href=\"#m6866e6b1bd\" y=\"550.8\"/>\n      </g>\n     </g>\n     <g id=\"text_5\">\n      <!-- 4 -->\n      <g style=\"fill:#ffffff;\" transform=\"translate(526.103754 561.898438)scale(0.1 -0.1)\">\n       <use xlink:href=\"#DejaVuSans-34\"/>\n      </g>\n     </g>\n    </g>\n   </g>\n   <g id=\"matplotlib.axis_2\">\n    <g id=\"ytick_1\">\n     <g id=\"line2d_11\">\n      <path clip-path=\"url(#p7c198a1250)\" d=\"M 42.5125 550.8 \nL 600.5125 550.8 \n\" style=\"fill:none;stroke:#b2b2b2;stroke-dasharray:1.85,0.8;stroke-dashoffset:0;stroke-width:0.5;\"/>\n     </g>\n     <g id=\"line2d_12\">\n      <defs>\n       <path d=\"M 0 0 \nL 3.5 0 \n\" id=\"m757d4960c0\" style=\"stroke:#ffffff;stroke-width:0.8;\"/>\n      </defs>\n      <g>\n       <use style=\"fill:#ffffff;stroke:#ffffff;stroke-width:0.8;\" x=\"42.5125\" xlink:href=\"#m757d4960c0\" y=\"550.8\"/>\n      </g>\n     </g>\n     <g id=\"text_6\">\n      <!-- 0 -->\n      <g style=\"fill:#ffffff;\" transform=\"translate(32.65 554.599219)scale(0.1 -0.1)\">\n       <use xlink:href=\"#DejaVuSans-30\"/>\n      </g>\n     </g>\n    </g>\n    <g id=\"ytick_2\">\n     <g id=\"line2d_13\">\n      <path clip-path=\"url(#p7c198a1250)\" d=\"M 42.5125 481.572052 \nL 600.5125 481.572052 \n\" style=\"fill:none;stroke:#b2b2b2;stroke-dasharray:1.85,0.8;stroke-dashoffset:0;stroke-width:0.5;\"/>\n     </g>\n     <g id=\"line2d_14\">\n      <g>\n       <use style=\"fill:#ffffff;stroke:#ffffff;stroke-width:0.8;\" x=\"42.5125\" xlink:href=\"#m757d4960c0\" y=\"481.572052\"/>\n      </g>\n     </g>\n     <g id=\"text_7\">\n      <!-- 5000 -->\n      <g style=\"fill:#ffffff;\" transform=\"translate(13.5625 485.371271)scale(0.1 -0.1)\">\n       <defs>\n        <path d=\"M 691 4666 \nL 3169 4666 \nL 3169 4134 \nL 1269 4134 \nL 1269 2991 \nQ 1406 3038 1543 3061 \nQ 1681 3084 1819 3084 \nQ 2600 3084 3056 2656 \nQ 3513 2228 3513 1497 \nQ 3513 744 3044 326 \nQ 2575 -91 1722 -91 \nQ 1428 -91 1123 -41 \nQ 819 9 494 109 \nL 494 744 \nQ 775 591 1075 516 \nQ 1375 441 1709 441 \nQ 2250 441 2565 725 \nQ 2881 1009 2881 1497 \nQ 2881 1984 2565 2268 \nQ 2250 2553 1709 2553 \nQ 1456 2553 1204 2497 \nQ 953 2441 691 2322 \nL 691 4666 \nz\n\" id=\"DejaVuSans-35\" transform=\"scale(0.015625)\"/>\n       </defs>\n       <use xlink:href=\"#DejaVuSans-35\"/>\n       <use x=\"63.623047\" xlink:href=\"#DejaVuSans-30\"/>\n       <use x=\"127.246094\" xlink:href=\"#DejaVuSans-30\"/>\n       <use x=\"190.869141\" xlink:href=\"#DejaVuSans-30\"/>\n      </g>\n     </g>\n    </g>\n    <g id=\"ytick_3\">\n     <g id=\"line2d_15\">\n      <path clip-path=\"url(#p7c198a1250)\" d=\"M 42.5125 412.344104 \nL 600.5125 412.344104 \n\" style=\"fill:none;stroke:#b2b2b2;stroke-dasharray:1.85,0.8;stroke-dashoffset:0;stroke-width:0.5;\"/>\n     </g>\n     <g id=\"line2d_16\">\n      <g>\n       <use style=\"fill:#ffffff;stroke:#ffffff;stroke-width:0.8;\" x=\"42.5125\" xlink:href=\"#m757d4960c0\" y=\"412.344104\"/>\n      </g>\n     </g>\n     <g id=\"text_8\">\n      <!-- 10000 -->\n      <g style=\"fill:#ffffff;\" transform=\"translate(7.2 416.143323)scale(0.1 -0.1)\">\n       <defs>\n        <path d=\"M 794 531 \nL 1825 531 \nL 1825 4091 \nL 703 3866 \nL 703 4441 \nL 1819 4666 \nL 2450 4666 \nL 2450 531 \nL 3481 531 \nL 3481 0 \nL 794 0 \nL 794 531 \nz\n\" id=\"DejaVuSans-31\" transform=\"scale(0.015625)\"/>\n       </defs>\n       <use xlink:href=\"#DejaVuSans-31\"/>\n       <use x=\"63.623047\" xlink:href=\"#DejaVuSans-30\"/>\n       <use x=\"127.246094\" xlink:href=\"#DejaVuSans-30\"/>\n       <use x=\"190.869141\" xlink:href=\"#DejaVuSans-30\"/>\n       <use x=\"254.492188\" xlink:href=\"#DejaVuSans-30\"/>\n      </g>\n     </g>\n    </g>\n    <g id=\"ytick_4\">\n     <g id=\"line2d_17\">\n      <path clip-path=\"url(#p7c198a1250)\" d=\"M 42.5125 343.116156 \nL 600.5125 343.116156 \n\" style=\"fill:none;stroke:#b2b2b2;stroke-dasharray:1.85,0.8;stroke-dashoffset:0;stroke-width:0.5;\"/>\n     </g>\n     <g id=\"line2d_18\">\n      <g>\n       <use style=\"fill:#ffffff;stroke:#ffffff;stroke-width:0.8;\" x=\"42.5125\" xlink:href=\"#m757d4960c0\" y=\"343.116156\"/>\n      </g>\n     </g>\n     <g id=\"text_9\">\n      <!-- 15000 -->\n      <g style=\"fill:#ffffff;\" transform=\"translate(7.2 346.915375)scale(0.1 -0.1)\">\n       <use xlink:href=\"#DejaVuSans-31\"/>\n       <use x=\"63.623047\" xlink:href=\"#DejaVuSans-35\"/>\n       <use x=\"127.246094\" xlink:href=\"#DejaVuSans-30\"/>\n       <use x=\"190.869141\" xlink:href=\"#DejaVuSans-30\"/>\n       <use x=\"254.492188\" xlink:href=\"#DejaVuSans-30\"/>\n      </g>\n     </g>\n    </g>\n    <g id=\"ytick_5\">\n     <g id=\"line2d_19\">\n      <path clip-path=\"url(#p7c198a1250)\" d=\"M 42.5125 273.888208 \nL 600.5125 273.888208 \n\" style=\"fill:none;stroke:#b2b2b2;stroke-dasharray:1.85,0.8;stroke-dashoffset:0;stroke-width:0.5;\"/>\n     </g>\n     <g id=\"line2d_20\">\n      <g>\n       <use style=\"fill:#ffffff;stroke:#ffffff;stroke-width:0.8;\" x=\"42.5125\" xlink:href=\"#m757d4960c0\" y=\"273.888208\"/>\n      </g>\n     </g>\n     <g id=\"text_10\">\n      <!-- 20000 -->\n      <g style=\"fill:#ffffff;\" transform=\"translate(7.2 277.687427)scale(0.1 -0.1)\">\n       <use xlink:href=\"#DejaVuSans-32\"/>\n       <use x=\"63.623047\" xlink:href=\"#DejaVuSans-30\"/>\n       <use x=\"127.246094\" xlink:href=\"#DejaVuSans-30\"/>\n       <use x=\"190.869141\" xlink:href=\"#DejaVuSans-30\"/>\n       <use x=\"254.492188\" xlink:href=\"#DejaVuSans-30\"/>\n      </g>\n     </g>\n    </g>\n    <g id=\"ytick_6\">\n     <g id=\"line2d_21\">\n      <path clip-path=\"url(#p7c198a1250)\" d=\"M 42.5125 204.66026 \nL 600.5125 204.66026 \n\" style=\"fill:none;stroke:#b2b2b2;stroke-dasharray:1.85,0.8;stroke-dashoffset:0;stroke-width:0.5;\"/>\n     </g>\n     <g id=\"line2d_22\">\n      <g>\n       <use style=\"fill:#ffffff;stroke:#ffffff;stroke-width:0.8;\" x=\"42.5125\" xlink:href=\"#m757d4960c0\" y=\"204.66026\"/>\n      </g>\n     </g>\n     <g id=\"text_11\">\n      <!-- 25000 -->\n      <g style=\"fill:#ffffff;\" transform=\"translate(7.2 208.459479)scale(0.1 -0.1)\">\n       <use xlink:href=\"#DejaVuSans-32\"/>\n       <use x=\"63.623047\" xlink:href=\"#DejaVuSans-35\"/>\n       <use x=\"127.246094\" xlink:href=\"#DejaVuSans-30\"/>\n       <use x=\"190.869141\" xlink:href=\"#DejaVuSans-30\"/>\n       <use x=\"254.492188\" xlink:href=\"#DejaVuSans-30\"/>\n      </g>\n     </g>\n    </g>\n    <g id=\"ytick_7\">\n     <g id=\"line2d_23\">\n      <path clip-path=\"url(#p7c198a1250)\" d=\"M 42.5125 135.432312 \nL 600.5125 135.432312 \n\" style=\"fill:none;stroke:#b2b2b2;stroke-dasharray:1.85,0.8;stroke-dashoffset:0;stroke-width:0.5;\"/>\n     </g>\n     <g id=\"line2d_24\">\n      <g>\n       <use style=\"fill:#ffffff;stroke:#ffffff;stroke-width:0.8;\" x=\"42.5125\" xlink:href=\"#m757d4960c0\" y=\"135.432312\"/>\n      </g>\n     </g>\n     <g id=\"text_12\">\n      <!-- 30000 -->\n      <g style=\"fill:#ffffff;\" transform=\"translate(7.2 139.231531)scale(0.1 -0.1)\">\n       <defs>\n        <path d=\"M 2597 2516 \nQ 3050 2419 3304 2112 \nQ 3559 1806 3559 1356 \nQ 3559 666 3084 287 \nQ 2609 -91 1734 -91 \nQ 1441 -91 1130 -33 \nQ 819 25 488 141 \nL 488 750 \nQ 750 597 1062 519 \nQ 1375 441 1716 441 \nQ 2309 441 2620 675 \nQ 2931 909 2931 1356 \nQ 2931 1769 2642 2001 \nQ 2353 2234 1838 2234 \nL 1294 2234 \nL 1294 2753 \nL 1863 2753 \nQ 2328 2753 2575 2939 \nQ 2822 3125 2822 3475 \nQ 2822 3834 2567 4026 \nQ 2313 4219 1838 4219 \nQ 1578 4219 1281 4162 \nQ 984 4106 628 3988 \nL 628 4550 \nQ 988 4650 1302 4700 \nQ 1616 4750 1894 4750 \nQ 2613 4750 3031 4423 \nQ 3450 4097 3450 3541 \nQ 3450 3153 3228 2886 \nQ 3006 2619 2597 2516 \nz\n\" id=\"DejaVuSans-33\" transform=\"scale(0.015625)\"/>\n       </defs>\n       <use xlink:href=\"#DejaVuSans-33\"/>\n       <use x=\"63.623047\" xlink:href=\"#DejaVuSans-30\"/>\n       <use x=\"127.246094\" xlink:href=\"#DejaVuSans-30\"/>\n       <use x=\"190.869141\" xlink:href=\"#DejaVuSans-30\"/>\n       <use x=\"254.492188\" xlink:href=\"#DejaVuSans-30\"/>\n      </g>\n     </g>\n    </g>\n    <g id=\"ytick_8\">\n     <g id=\"line2d_25\">\n      <path clip-path=\"url(#p7c198a1250)\" d=\"M 42.5125 66.204365 \nL 600.5125 66.204365 \n\" style=\"fill:none;stroke:#b2b2b2;stroke-dasharray:1.85,0.8;stroke-dashoffset:0;stroke-width:0.5;\"/>\n     </g>\n     <g id=\"line2d_26\">\n      <g>\n       <use style=\"fill:#ffffff;stroke:#ffffff;stroke-width:0.8;\" x=\"42.5125\" xlink:href=\"#m757d4960c0\" y=\"66.204365\"/>\n      </g>\n     </g>\n     <g id=\"text_13\">\n      <!-- 35000 -->\n      <g style=\"fill:#ffffff;\" transform=\"translate(7.2 70.003583)scale(0.1 -0.1)\">\n       <use xlink:href=\"#DejaVuSans-33\"/>\n       <use x=\"63.623047\" xlink:href=\"#DejaVuSans-35\"/>\n       <use x=\"127.246094\" xlink:href=\"#DejaVuSans-30\"/>\n       <use x=\"190.869141\" xlink:href=\"#DejaVuSans-30\"/>\n       <use x=\"254.492188\" xlink:href=\"#DejaVuSans-30\"/>\n      </g>\n     </g>\n    </g>\n   </g>\n   <g id=\"patch_103\">\n    <path d=\"M 42.5125 550.8 \nL 42.5125 7.2 \n\" style=\"fill:none;stroke:#bcbcbc;stroke-linecap:square;stroke-linejoin:miter;stroke-width:0.8;\"/>\n   </g>\n   <g id=\"patch_104\">\n    <path d=\"M 600.5125 550.8 \nL 600.5125 7.2 \n\" style=\"fill:none;stroke:#bcbcbc;stroke-linecap:square;stroke-linejoin:miter;stroke-width:0.8;\"/>\n   </g>\n   <g id=\"patch_105\">\n    <path d=\"M 42.5125 550.8 \nL 600.5125 550.8 \n\" style=\"fill:none;stroke:#bcbcbc;stroke-linecap:square;stroke-linejoin:miter;stroke-width:0.8;\"/>\n   </g>\n   <g id=\"patch_106\">\n    <path d=\"M 42.5125 7.2 \nL 600.5125 7.2 \n\" style=\"fill:none;stroke:#bcbcbc;stroke-linecap:square;stroke-linejoin:miter;stroke-width:0.8;\"/>\n   </g>\n  </g>\n </g>\n <defs>\n  <clipPath id=\"p7c198a1250\">\n   <rect height=\"543.6\" width=\"558\" x=\"42.5125\" y=\"7.2\"/>\n  </clipPath>\n </defs>\n</svg>\n",
      "image/png": "[encoded data removed]"
     },
     "metadata": {}
    }
   ],
   "source": [
    "plt.hist(torch.randn(10**6).numpy(), 100);  # how much does this chart weight?\n",
    "# use rasterized=True for SVG/EPS/PDF!"
   ]
  },
  {
   "cell_type": "code",
   "execution_count": 77,
   "metadata": {},
   "outputs": [
    {
     "output_type": "display_data",
     "data": {
      "text/plain": "<Figure size 1000x1000 with 1 Axes>",
      "image/svg+xml": "<?xml version=\"1.0\" encoding=\"utf-8\" standalone=\"no\"?>\n<!DOCTYPE svg PUBLIC \"-//W3C//DTD SVG 1.1//EN\"\n  \"http://www.w3.org/Graphics/SVG/1.1/DTD/svg11.dtd\">\n<svg height=\"571.178125pt\" version=\"1.1\" viewBox=\"0 0 607.7125 571.178125\" width=\"607.7125pt\" xmlns=\"http://www.w3.org/2000/svg\" xmlns:xlink=\"http://www.w3.org/1999/xlink\">\n <metadata>\n  <rdf:RDF xmlns:cc=\"http://creativecommons.org/ns#\" xmlns:dc=\"http://purl.org/dc/elements/1.1/\" xmlns:rdf=\"http://www.w3.org/1999/02/22-rdf-syntax-ns#\">\n   <cc:Work>\n    <dc:type rdf:resource=\"http://purl.org/dc/dcmitype/StillImage\"/>\n    <dc:date>2021-06-18T17:32:02.559742</dc:date>\n    <dc:format>image/svg+xml</dc:format>\n    <dc:creator>\n     <cc:Agent>\n      <dc:title>Matplotlib v3.4.2, https://matplotlib.org/</dc:title>\n     </cc:Agent>\n    </dc:creator>\n   </cc:Work>\n  </rdf:RDF>\n </metadata>\n <defs>\n  <style type=\"text/css\">*{stroke-linecap:butt;stroke-linejoin:round;}</style>\n </defs>\n <g id=\"figure_1\">\n  <g id=\"patch_1\">\n   <path d=\"M 0 571.178125 \nL 607.7125 571.178125 \nL 607.7125 0 \nL 0 0 \nz\n\"/>\n  </g>\n  <g id=\"axes_1\">\n   <g id=\"patch_2\">\n    <path d=\"M 42.5125 550.8 \nL 600.5125 550.8 \nL 600.5125 7.2 \nL 42.5125 7.2 \nz\n\"/>\n   </g>\n   <g id=\"patch_3\">\n    <path clip-path=\"url(#p13c6172147)\" d=\"M 67.876136 550.8 \nL 72.948864 550.8 \nL 72.948864 42.095603 \nL 67.876136 42.095603 \nz\n\" style=\"fill:#348abd;\"/>\n   </g>\n   <g id=\"patch_4\">\n    <path clip-path=\"url(#p13c6172147)\" d=\"M 72.948864 550.8 \nL 78.021592 550.8 \nL 78.021592 41.741282 \nL 72.948864 41.741282 \nz\n\" style=\"fill:#348abd;\"/>\n   </g>\n   <g id=\"patch_5\">\n    <path clip-path=\"url(#p13c6172147)\" d=\"M 78.021592 550.8 \nL 83.094319 550.8 \nL 83.094319 48.675859 \nL 78.021592 48.675859 \nz\n\" style=\"fill:#348abd;\"/>\n   </g>\n   <g id=\"patch_6\">\n    <path clip-path=\"url(#p13c6172147)\" d=\"M 83.094318 550.8 \nL 88.167045 550.8 \nL 88.167045 55.458584 \nL 83.094318 55.458584 \nz\n\" style=\"fill:#348abd;\"/>\n   </g>\n   <g id=\"patch_7\">\n    <path clip-path=\"url(#p13c6172147)\" d=\"M 88.167047 550.8 \nL 93.239776 550.8 \nL 93.239776 37.18572 \nL 88.167047 37.18572 \nz\n\" style=\"fill:#348abd;\"/>\n   </g>\n   <g id=\"patch_8\">\n    <path clip-path=\"url(#p13c6172147)\" d=\"M 93.239774 550.8 \nL 98.3125 550.8 \nL 98.3125 40.222761 \nL 93.239774 40.222761 \nz\n\" style=\"fill:#348abd;\"/>\n   </g>\n   <g id=\"patch_9\">\n    <path clip-path=\"url(#p13c6172147)\" d=\"M 98.3125 550.8 \nL 103.385227 550.8 \nL 103.385227 49.333885 \nL 98.3125 49.333885 \nz\n\" style=\"fill:#348abd;\"/>\n   </g>\n   <g id=\"patch_10\">\n    <path clip-path=\"url(#p13c6172147)\" d=\"M 103.385227 550.8 \nL 108.457954 550.8 \nL 108.457954 47.106721 \nL 103.385227 47.106721 \nz\n\" style=\"fill:#348abd;\"/>\n   </g>\n   <g id=\"patch_11\">\n    <path clip-path=\"url(#p13c6172147)\" d=\"M 108.457954 550.8 \nL 113.53068 550.8 \nL 113.53068 42.14622 \nL 108.457954 42.14622 \nz\n\" style=\"fill:#348abd;\"/>\n   </g>\n   <g id=\"patch_12\">\n    <path clip-path=\"url(#p13c6172147)\" d=\"M 113.530684 550.8 \nL 118.603415 550.8 \nL 118.603415 42.095603 \nL 113.530684 42.095603 \nz\n\" style=\"fill:#348abd;\"/>\n   </g>\n   <g id=\"patch_13\">\n    <path clip-path=\"url(#p13c6172147)\" d=\"M 118.603411 550.8 \nL 123.676137 550.8 \nL 123.676137 45.891905 \nL 118.603411 45.891905 \nz\n\" style=\"fill:#348abd;\"/>\n   </g>\n   <g id=\"patch_14\">\n    <path clip-path=\"url(#p13c6172147)\" d=\"M 123.676137 550.8 \nL 128.748864 550.8 \nL 128.748864 38.653623 \nL 123.676137 38.653623 \nz\n\" style=\"fill:#348abd;\"/>\n   </g>\n   <g id=\"patch_15\">\n    <path clip-path=\"url(#p13c6172147)\" d=\"M 128.748864 550.8 \nL 133.821591 550.8 \nL 133.821591 41.690664 \nL 128.748864 41.690664 \nz\n\" style=\"fill:#348abd;\"/>\n   </g>\n   <g id=\"patch_16\">\n    <path clip-path=\"url(#p13c6172147)\" d=\"M 133.821591 550.8 \nL 138.894317 550.8 \nL 138.894317 47.916599 \nL 133.821591 47.916599 \nz\n\" style=\"fill:#348abd;\"/>\n   </g>\n   <g id=\"patch_17\">\n    <path clip-path=\"url(#p13c6172147)\" d=\"M 138.894317 550.8 \nL 143.967044 550.8 \nL 143.967044 41.184491 \nL 138.894317 41.184491 \nz\n\" style=\"fill:#348abd;\"/>\n   </g>\n   <g id=\"patch_18\">\n    <path clip-path=\"url(#p13c6172147)\" d=\"M 143.967044 550.8 \nL 149.039771 550.8 \nL 149.039771 46.296843 \nL 143.967044 46.296843 \nz\n\" style=\"fill:#348abd;\"/>\n   </g>\n   <g id=\"patch_19\">\n    <path clip-path=\"url(#p13c6172147)\" d=\"M 149.039771 550.8 \nL 154.112497 550.8 \nL 154.112497 44.879558 \nL 149.039771 44.879558 \nz\n\" style=\"fill:#348abd;\"/>\n   </g>\n   <g id=\"patch_20\">\n    <path clip-path=\"url(#p13c6172147)\" d=\"M 154.112497 550.8 \nL 159.185224 550.8 \nL 159.185224 46.7524 \nL 154.112497 46.7524 \nz\n\" style=\"fill:#348abd;\"/>\n   </g>\n   <g id=\"patch_21\">\n    <path clip-path=\"url(#p13c6172147)\" d=\"M 159.185232 550.8 \nL 164.257966 550.8 \nL 164.257966 42.247455 \nL 159.185232 42.247455 \nz\n\" style=\"fill:#348abd;\"/>\n   </g>\n   <g id=\"patch_22\">\n    <path clip-path=\"url(#p13c6172147)\" d=\"M 164.257958 550.8 \nL 169.330685 550.8 \nL 169.330685 43.158568 \nL 164.257958 43.158568 \nz\n\" style=\"fill:#348abd;\"/>\n   </g>\n   <g id=\"patch_23\">\n    <path clip-path=\"url(#p13c6172147)\" d=\"M 169.330685 550.8 \nL 174.403412 550.8 \nL 174.403412 41.58943 \nL 169.330685 41.58943 \nz\n\" style=\"fill:#348abd;\"/>\n   </g>\n   <g id=\"patch_24\">\n    <path clip-path=\"url(#p13c6172147)\" d=\"M 174.403412 550.8 \nL 179.476138 550.8 \nL 179.476138 48.524007 \nL 174.403412 48.524007 \nz\n\" style=\"fill:#348abd;\"/>\n   </g>\n   <g id=\"patch_25\">\n    <path clip-path=\"url(#p13c6172147)\" d=\"M 179.476138 550.8 \nL 184.548865 550.8 \nL 184.548865 48.726476 \nL 179.476138 48.726476 \nz\n\" style=\"fill:#348abd;\"/>\n   </g>\n   <g id=\"patch_26\">\n    <path clip-path=\"url(#p13c6172147)\" d=\"M 184.548865 550.8 \nL 189.621592 550.8 \nL 189.621592 43.31042 \nL 184.548865 43.31042 \nz\n\" style=\"fill:#348abd;\"/>\n   </g>\n   <g id=\"patch_27\">\n    <path clip-path=\"url(#p13c6172147)\" d=\"M 189.621592 550.8 \nL 194.694318 550.8 \nL 194.694318 44.778323 \nL 189.621592 44.778323 \nz\n\" style=\"fill:#348abd;\"/>\n   </g>\n   <g id=\"patch_28\">\n    <path clip-path=\"url(#p13c6172147)\" d=\"M 194.694318 550.8 \nL 199.767045 550.8 \nL 199.767045 51.004257 \nL 194.694318 51.004257 \nz\n\" style=\"fill:#348abd;\"/>\n   </g>\n   <g id=\"patch_29\">\n    <path clip-path=\"url(#p13c6172147)\" d=\"M 199.767045 550.8 \nL 204.839772 550.8 \nL 204.839772 48.068451 \nL 199.767045 48.068451 \nz\n\" style=\"fill:#348abd;\"/>\n   </g>\n   <g id=\"patch_30\">\n    <path clip-path=\"url(#p13c6172147)\" d=\"M 204.839772 550.8 \nL 209.912498 550.8 \nL 209.912498 50.447466 \nL 204.839772 50.447466 \nz\n\" style=\"fill:#348abd;\"/>\n   </g>\n   <g id=\"patch_31\">\n    <path clip-path=\"url(#p13c6172147)\" d=\"M 209.912498 550.8 \nL 214.985225 550.8 \nL 214.985225 39.159797 \nL 209.912498 39.159797 \nz\n\" style=\"fill:#348abd;\"/>\n   </g>\n   <g id=\"patch_32\">\n    <path clip-path=\"url(#p13c6172147)\" d=\"M 214.985225 550.8 \nL 220.057952 550.8 \nL 220.057952 43.361037 \nL 214.985225 43.361037 \nz\n\" style=\"fill:#348abd;\"/>\n   </g>\n   <g id=\"patch_33\">\n    <path clip-path=\"url(#p13c6172147)\" d=\"M 220.057952 550.8 \nL 225.130678 550.8 \nL 225.130678 44.322767 \nL 220.057952 44.322767 \nz\n\" style=\"fill:#348abd;\"/>\n   </g>\n   <g id=\"patch_34\">\n    <path clip-path=\"url(#p13c6172147)\" d=\"M 225.130678 550.8 \nL 230.203405 550.8 \nL 230.203405 47.865981 \nL 225.130678 47.865981 \nz\n\" style=\"fill:#348abd;\"/>\n   </g>\n   <g id=\"patch_35\">\n    <path clip-path=\"url(#p13c6172147)\" d=\"M 230.203405 550.8 \nL 235.276132 550.8 \nL 235.276132 35.667199 \nL 230.203405 35.667199 \nz\n\" style=\"fill:#348abd;\"/>\n   </g>\n   <g id=\"patch_36\">\n    <path clip-path=\"url(#p13c6172147)\" d=\"M 235.276132 550.8 \nL 240.348858 550.8 \nL 240.348858 44.525236 \nL 235.276132 44.525236 \nz\n\" style=\"fill:#348abd;\"/>\n   </g>\n   <g id=\"patch_37\">\n    <path clip-path=\"url(#p13c6172147)\" d=\"M 240.348858 550.8 \nL 245.421585 550.8 \nL 245.421585 44.525236 \nL 240.348858 44.525236 \nz\n\" style=\"fill:#348abd;\"/>\n   </g>\n   <g id=\"patch_38\">\n    <path clip-path=\"url(#p13c6172147)\" d=\"M 245.421585 550.8 \nL 250.494312 550.8 \nL 250.494312 45.740053 \nL 245.421585 45.740053 \nz\n\" style=\"fill:#348abd;\"/>\n   </g>\n   <g id=\"patch_39\">\n    <path clip-path=\"url(#p13c6172147)\" d=\"M 250.494312 550.8 \nL 255.567038 550.8 \nL 255.567038 47.764747 \nL 250.494312 47.764747 \nz\n\" style=\"fill:#348abd;\"/>\n   </g>\n   <g id=\"patch_40\">\n    <path clip-path=\"url(#p13c6172147)\" d=\"M 255.567053 550.8 \nL 260.639795 550.8 \nL 260.639795 38.451154 \nL 255.567053 38.451154 \nz\n\" style=\"fill:#348abd;\"/>\n   </g>\n   <g id=\"patch_41\">\n    <path clip-path=\"url(#p13c6172147)\" d=\"M 260.63978 550.8 \nL 265.712507 550.8 \nL 265.712507 45.385731 \nL 260.63978 45.385731 \nz\n\" style=\"fill:#348abd;\"/>\n   </g>\n   <g id=\"patch_42\">\n    <path clip-path=\"url(#p13c6172147)\" d=\"M 265.712507 550.8 \nL 270.785233 550.8 \nL 270.785233 43.209185 \nL 265.712507 43.209185 \nz\n\" style=\"fill:#348abd;\"/>\n   </g>\n   <g id=\"patch_43\">\n    <path clip-path=\"url(#p13c6172147)\" d=\"M 270.785233 550.8 \nL 275.85796 550.8 \nL 275.85796 39.564735 \nL 270.785233 39.564735 \nz\n\" style=\"fill:#348abd;\"/>\n   </g>\n   <g id=\"patch_44\">\n    <path clip-path=\"url(#p13c6172147)\" d=\"M 275.85796 550.8 \nL 280.930687 550.8 \nL 280.930687 38.198067 \nL 275.85796 38.198067 \nz\n\" style=\"fill:#348abd;\"/>\n   </g>\n   <g id=\"patch_45\">\n    <path clip-path=\"url(#p13c6172147)\" d=\"M 280.930687 550.8 \nL 286.003413 550.8 \nL 286.003413 33.085714 \nL 280.930687 33.085714 \nz\n\" style=\"fill:#348abd;\"/>\n   </g>\n   <g id=\"patch_46\">\n    <path clip-path=\"url(#p13c6172147)\" d=\"M 286.003413 550.8 \nL 291.07614 550.8 \nL 291.07614 47.106721 \nL 286.003413 47.106721 \nz\n\" style=\"fill:#348abd;\"/>\n   </g>\n   <g id=\"patch_47\">\n    <path clip-path=\"url(#p13c6172147)\" d=\"M 291.07614 550.8 \nL 296.148867 550.8 \nL 296.148867 37.388189 \nL 291.07614 37.388189 \nz\n\" style=\"fill:#348abd;\"/>\n   </g>\n   <g id=\"patch_48\">\n    <path clip-path=\"url(#p13c6172147)\" d=\"M 296.148867 550.8 \nL 301.221593 550.8 \nL 301.221593 49.789441 \nL 296.148867 49.789441 \nz\n\" style=\"fill:#348abd;\"/>\n   </g>\n   <g id=\"patch_49\">\n    <path clip-path=\"url(#p13c6172147)\" d=\"M 301.221593 550.8 \nL 306.29432 550.8 \nL 306.29432 41.640047 \nL 301.221593 41.640047 \nz\n\" style=\"fill:#348abd;\"/>\n   </g>\n   <g id=\"patch_50\">\n    <path clip-path=\"url(#p13c6172147)\" d=\"M 306.29432 550.8 \nL 311.367047 550.8 \nL 311.367047 60.064763 \nL 306.29432 60.064763 \nz\n\" style=\"fill:#348abd;\"/>\n   </g>\n   <g id=\"patch_51\">\n    <path clip-path=\"url(#p13c6172147)\" d=\"M 311.367047 550.8 \nL 316.439773 550.8 \nL 316.439773 43.006715 \nL 311.367047 43.006715 \nz\n\" style=\"fill:#348abd;\"/>\n   </g>\n   <g id=\"patch_52\">\n    <path clip-path=\"url(#p13c6172147)\" d=\"M 316.439773 550.8 \nL 321.5125 550.8 \nL 321.5125 43.259802 \nL 316.439773 43.259802 \nz\n\" style=\"fill:#348abd;\"/>\n   </g>\n   <g id=\"patch_53\">\n    <path clip-path=\"url(#p13c6172147)\" d=\"M 321.5125 550.8 \nL 326.585227 550.8 \nL 326.585227 41.58943 \nL 321.5125 41.58943 \nz\n\" style=\"fill:#348abd;\"/>\n   </g>\n   <g id=\"patch_54\">\n    <path clip-path=\"url(#p13c6172147)\" d=\"M 326.585227 550.8 \nL 331.657953 550.8 \nL 331.657953 38.90671 \nL 326.585227 38.90671 \nz\n\" style=\"fill:#348abd;\"/>\n   </g>\n   <g id=\"patch_55\">\n    <path clip-path=\"url(#p13c6172147)\" d=\"M 331.657953 550.8 \nL 336.73068 550.8 \nL 336.73068 40.172144 \nL 331.657953 40.172144 \nz\n\" style=\"fill:#348abd;\"/>\n   </g>\n   <g id=\"patch_56\">\n    <path clip-path=\"url(#p13c6172147)\" d=\"M 336.73068 550.8 \nL 341.803407 550.8 \nL 341.803407 50.042528 \nL 336.73068 50.042528 \nz\n\" style=\"fill:#348abd;\"/>\n   </g>\n   <g id=\"patch_57\">\n    <path clip-path=\"url(#p13c6172147)\" d=\"M 341.803407 550.8 \nL 346.876133 550.8 \nL 346.876133 40.982021 \nL 341.803407 40.982021 \nz\n\" style=\"fill:#348abd;\"/>\n   </g>\n   <g id=\"patch_58\">\n    <path clip-path=\"url(#p13c6172147)\" d=\"M 346.876133 550.8 \nL 351.94886 550.8 \nL 351.94886 43.10795 \nL 346.876133 43.10795 \nz\n\" style=\"fill:#348abd;\"/>\n   </g>\n   <g id=\"patch_59\">\n    <path clip-path=\"url(#p13c6172147)\" d=\"M 351.94886 550.8 \nL 357.021587 550.8 \nL 357.021587 50.95364 \nL 351.94886 50.95364 \nz\n\" style=\"fill:#348abd;\"/>\n   </g>\n   <g id=\"patch_60\">\n    <path clip-path=\"url(#p13c6172147)\" d=\"M 357.021587 550.8 \nL 362.094313 550.8 \nL 362.094313 42.14622 \nL 357.021587 42.14622 \nz\n\" style=\"fill:#348abd;\"/>\n   </g>\n   <g id=\"patch_61\">\n    <path clip-path=\"url(#p13c6172147)\" d=\"M 362.094313 550.8 \nL 367.16704 550.8 \nL 367.16704 43.614124 \nL 362.094313 43.614124 \nz\n\" style=\"fill:#348abd;\"/>\n   </g>\n   <g id=\"patch_62\">\n    <path clip-path=\"url(#p13c6172147)\" d=\"M 367.16704 550.8 \nL 372.239767 550.8 \nL 372.239767 36.325225 \nL 367.16704 36.325225 \nz\n\" style=\"fill:#348abd;\"/>\n   </g>\n   <g id=\"patch_63\">\n    <path clip-path=\"url(#p13c6172147)\" d=\"M 372.239767 550.8 \nL 377.312493 550.8 \nL 377.312493 45.335114 \nL 372.239767 45.335114 \nz\n\" style=\"fill:#348abd;\"/>\n   </g>\n   <g id=\"patch_64\">\n    <path clip-path=\"url(#p13c6172147)\" d=\"M 377.312493 550.8 \nL 382.38522 550.8 \nL 382.38522 47.157338 \nL 377.312493 47.157338 \nz\n\" style=\"fill:#348abd;\"/>\n   </g>\n   <g id=\"patch_65\">\n    <path clip-path=\"url(#p13c6172147)\" d=\"M 382.38522 550.8 \nL 387.457947 550.8 \nL 387.457947 44.930175 \nL 382.38522 44.930175 \nz\n\" style=\"fill:#348abd;\"/>\n   </g>\n   <g id=\"patch_66\">\n    <path clip-path=\"url(#p13c6172147)\" d=\"M 387.457947 550.8 \nL 392.530673 550.8 \nL 392.530673 43.411654 \nL 387.457947 43.411654 \nz\n\" style=\"fill:#348abd;\"/>\n   </g>\n   <g id=\"patch_67\">\n    <path clip-path=\"url(#p13c6172147)\" d=\"M 392.530673 550.8 \nL 397.6034 550.8 \nL 397.6034 45.891905 \nL 392.530673 45.891905 \nz\n\" style=\"fill:#348abd;\"/>\n   </g>\n   <g id=\"patch_68\">\n    <path clip-path=\"url(#p13c6172147)\" d=\"M 397.6034 550.8 \nL 402.676127 550.8 \nL 402.676127 49.384502 \nL 397.6034 49.384502 \nz\n\" style=\"fill:#348abd;\"/>\n   </g>\n   <g id=\"patch_69\">\n    <path clip-path=\"url(#p13c6172147)\" d=\"M 402.676127 550.8 \nL 407.748853 550.8 \nL 407.748853 47.359808 \nL 402.676127 47.359808 \nz\n\" style=\"fill:#348abd;\"/>\n   </g>\n   <g id=\"patch_70\">\n    <path clip-path=\"url(#p13c6172147)\" d=\"M 407.748853 550.8 \nL 412.82158 550.8 \nL 412.82158 42.500542 \nL 407.748853 42.500542 \nz\n\" style=\"fill:#348abd;\"/>\n   </g>\n   <g id=\"patch_71\">\n    <path clip-path=\"url(#p13c6172147)\" d=\"M 412.82158 550.8 \nL 417.894307 550.8 \nL 417.894307 44.019063 \nL 412.82158 44.019063 \nz\n\" style=\"fill:#348abd;\"/>\n   </g>\n   <g id=\"patch_72\">\n    <path clip-path=\"url(#p13c6172147)\" d=\"M 417.894307 550.8 \nL 422.967033 550.8 \nL 422.967033 37.540041 \nL 417.894307 37.540041 \nz\n\" style=\"fill:#348abd;\"/>\n   </g>\n   <g id=\"patch_73\">\n    <path clip-path=\"url(#p13c6172147)\" d=\"M 422.967033 550.8 \nL 428.03976 550.8 \nL 428.03976 52.016604 \nL 422.967033 52.016604 \nz\n\" style=\"fill:#348abd;\"/>\n   </g>\n   <g id=\"patch_74\">\n    <path clip-path=\"url(#p13c6172147)\" d=\"M 428.03976 550.8 \nL 433.112487 550.8 \nL 433.112487 47.916599 \nL 428.03976 47.916599 \nz\n\" style=\"fill:#348abd;\"/>\n   </g>\n   <g id=\"patch_75\">\n    <path clip-path=\"url(#p13c6172147)\" d=\"M 433.112487 550.8 \nL 438.185213 550.8 \nL 438.185213 52.370926 \nL 433.112487 52.370926 \nz\n\" style=\"fill:#348abd;\"/>\n   </g>\n   <g id=\"patch_76\">\n    <path clip-path=\"url(#p13c6172147)\" d=\"M 438.185213 550.8 \nL 443.25794 550.8 \nL 443.25794 43.512889 \nL 438.185213 43.512889 \nz\n\" style=\"fill:#348abd;\"/>\n   </g>\n   <g id=\"patch_77\">\n    <path clip-path=\"url(#p13c6172147)\" d=\"M 443.25794 550.8 \nL 448.330667 550.8 \nL 448.330667 43.462272 \nL 443.25794 43.462272 \nz\n\" style=\"fill:#348abd;\"/>\n   </g>\n   <g id=\"patch_78\">\n    <path clip-path=\"url(#p13c6172147)\" d=\"M 448.330667 550.8 \nL 453.403424 550.8 \nL 453.403424 46.347461 \nL 448.330667 46.347461 \nz\n\" style=\"fill:#348abd;\"/>\n   </g>\n   <g id=\"patch_79\">\n    <path clip-path=\"url(#p13c6172147)\" d=\"M 453.403424 550.8 \nL 458.47615 550.8 \nL 458.47615 36.527694 \nL 453.403424 36.527694 \nz\n\" style=\"fill:#348abd;\"/>\n   </g>\n   <g id=\"patch_80\">\n    <path clip-path=\"url(#p13c6172147)\" d=\"M 458.47615 550.8 \nL 463.548877 550.8 \nL 463.548877 36.831398 \nL 458.47615 36.831398 \nz\n\" style=\"fill:#348abd;\"/>\n   </g>\n   <g id=\"patch_81\">\n    <path clip-path=\"url(#p13c6172147)\" d=\"M 463.548877 550.8 \nL 468.621604 550.8 \nL 468.621604 46.651165 \nL 463.548877 46.651165 \nz\n\" style=\"fill:#348abd;\"/>\n   </g>\n   <g id=\"patch_82\">\n    <path clip-path=\"url(#p13c6172147)\" d=\"M 468.621604 550.8 \nL 473.69433 550.8 \nL 473.69433 40.982021 \nL 468.621604 40.982021 \nz\n\" style=\"fill:#348abd;\"/>\n   </g>\n   <g id=\"patch_83\">\n    <path clip-path=\"url(#p13c6172147)\" d=\"M 473.69433 550.8 \nL 478.767057 550.8 \nL 478.767057 43.563506 \nL 473.69433 43.563506 \nz\n\" style=\"fill:#348abd;\"/>\n   </g>\n   <g id=\"patch_84\">\n    <path clip-path=\"url(#p13c6172147)\" d=\"M 478.767057 550.8 \nL 483.839784 550.8 \nL 483.839784 48.979563 \nL 478.767057 48.979563 \nz\n\" style=\"fill:#348abd;\"/>\n   </g>\n   <g id=\"patch_85\">\n    <path clip-path=\"url(#p13c6172147)\" d=\"M 483.839784 550.8 \nL 488.91251 550.8 \nL 488.91251 44.879558 \nL 483.839784 44.879558 \nz\n\" style=\"fill:#348abd;\"/>\n   </g>\n   <g id=\"patch_86\">\n    <path clip-path=\"url(#p13c6172147)\" d=\"M 488.91251 550.8 \nL 493.985237 550.8 \nL 493.985237 45.537583 \nL 488.91251 45.537583 \nz\n\" style=\"fill:#348abd;\"/>\n   </g>\n   <g id=\"patch_87\">\n    <path clip-path=\"url(#p13c6172147)\" d=\"M 493.985237 550.8 \nL 499.057964 550.8 \nL 499.057964 46.094374 \nL 493.985237 46.094374 \nz\n\" style=\"fill:#348abd;\"/>\n   </g>\n   <g id=\"patch_88\">\n    <path clip-path=\"url(#p13c6172147)\" d=\"M 499.057964 550.8 \nL 504.13069 550.8 \nL 504.13069 48.979563 \nL 499.057964 48.979563 \nz\n\" style=\"fill:#348abd;\"/>\n   </g>\n   <g id=\"patch_89\">\n    <path clip-path=\"url(#p13c6172147)\" d=\"M 504.13069 550.8 \nL 509.203417 550.8 \nL 509.203417 41.943751 \nL 504.13069 41.943751 \nz\n\" style=\"fill:#348abd;\"/>\n   </g>\n   <g id=\"patch_90\">\n    <path clip-path=\"url(#p13c6172147)\" d=\"M 509.203417 550.8 \nL 514.276144 550.8 \nL 514.276144 42.500542 \nL 509.203417 42.500542 \nz\n\" style=\"fill:#348abd;\"/>\n   </g>\n   <g id=\"patch_91\">\n    <path clip-path=\"url(#p13c6172147)\" d=\"M 514.276144 550.8 \nL 519.34887 550.8 \nL 519.34887 55.711671 \nL 514.276144 55.711671 \nz\n\" style=\"fill:#348abd;\"/>\n   </g>\n   <g id=\"patch_92\">\n    <path clip-path=\"url(#p13c6172147)\" d=\"M 519.34887 550.8 \nL 524.421597 550.8 \nL 524.421597 42.601777 \nL 519.34887 42.601777 \nz\n\" style=\"fill:#348abd;\"/>\n   </g>\n   <g id=\"patch_93\">\n    <path clip-path=\"url(#p13c6172147)\" d=\"M 524.421597 550.8 \nL 529.494324 550.8 \nL 529.494324 42.652394 \nL 524.421597 42.652394 \nz\n\" style=\"fill:#348abd;\"/>\n   </g>\n   <g id=\"patch_94\">\n    <path clip-path=\"url(#p13c6172147)\" d=\"M 529.494324 550.8 \nL 534.56705 550.8 \nL 534.56705 45.082027 \nL 529.494324 45.082027 \nz\n\" style=\"fill:#348abd;\"/>\n   </g>\n   <g id=\"patch_95\">\n    <path clip-path=\"url(#p13c6172147)\" d=\"M 534.56705 550.8 \nL 539.639777 550.8 \nL 539.639777 48.827711 \nL 534.56705 48.827711 \nz\n\" style=\"fill:#348abd;\"/>\n   </g>\n   <g id=\"patch_96\">\n    <path clip-path=\"url(#p13c6172147)\" d=\"M 539.639777 550.8 \nL 544.712504 550.8 \nL 544.712504 42.196838 \nL 539.639777 42.196838 \nz\n\" style=\"fill:#348abd;\"/>\n   </g>\n   <g id=\"patch_97\">\n    <path clip-path=\"url(#p13c6172147)\" d=\"M 544.712504 550.8 \nL 549.78523 550.8 \nL 549.78523 46.246226 \nL 544.712504 46.246226 \nz\n\" style=\"fill:#348abd;\"/>\n   </g>\n   <g id=\"patch_98\">\n    <path clip-path=\"url(#p13c6172147)\" d=\"M 549.78523 550.8 \nL 554.857957 550.8 \nL 554.857957 47.258573 \nL 549.78523 47.258573 \nz\n\" style=\"fill:#348abd;\"/>\n   </g>\n   <g id=\"patch_99\">\n    <path clip-path=\"url(#p13c6172147)\" d=\"M 554.857957 550.8 \nL 559.930684 550.8 \nL 559.930684 44.930175 \nL 554.857957 44.930175 \nz\n\" style=\"fill:#348abd;\"/>\n   </g>\n   <g id=\"patch_100\">\n    <path clip-path=\"url(#p13c6172147)\" d=\"M 559.930684 550.8 \nL 565.00341 550.8 \nL 565.00341 54.19315 \nL 559.930684 54.19315 \nz\n\" style=\"fill:#348abd;\"/>\n   </g>\n   <g id=\"patch_101\">\n    <path clip-path=\"url(#p13c6172147)\" d=\"M 565.00341 550.8 \nL 570.076137 550.8 \nL 570.076137 45.841287 \nL 565.00341 45.841287 \nz\n\" style=\"fill:#348abd;\"/>\n   </g>\n   <g id=\"patch_102\">\n    <path clip-path=\"url(#p13c6172147)\" d=\"M 570.076137 550.8 \nL 575.148864 550.8 \nL 575.148864 48.372155 \nL 570.076137 48.372155 \nz\n\" style=\"fill:#348abd;\"/>\n   </g>\n   <g id=\"matplotlib.axis_1\">\n    <g id=\"xtick_1\">\n     <g id=\"line2d_1\">\n      <path clip-path=\"url(#p13c6172147)\" d=\"M 67.876106 550.8 \nL 67.876106 7.2 \n\" style=\"fill:none;stroke:#b2b2b2;stroke-dasharray:1.85,0.8;stroke-dashoffset:0;stroke-width:0.5;\"/>\n     </g>\n     <g id=\"line2d_2\">\n      <defs>\n       <path d=\"M 0 0 \nL 0 -3.5 \n\" id=\"mba22940aa9\" style=\"stroke:#ffffff;stroke-width:0.8;\"/>\n      </defs>\n      <g>\n       <use style=\"fill:#ffffff;stroke:#ffffff;stroke-width:0.8;\" x=\"67.876106\" xlink:href=\"#mba22940aa9\" y=\"550.8\"/>\n      </g>\n     </g>\n     <g id=\"text_1\">\n      <!-- 0.0 -->\n      <g style=\"fill:#ffffff;\" transform=\"translate(59.924544 561.898438)scale(0.1 -0.1)\">\n       <defs>\n        <path d=\"M 2034 4250 \nQ 1547 4250 1301 3770 \nQ 1056 3291 1056 2328 \nQ 1056 1369 1301 889 \nQ 1547 409 2034 409 \nQ 2525 409 2770 889 \nQ 3016 1369 3016 2328 \nQ 3016 3291 2770 3770 \nQ 2525 4250 2034 4250 \nz\nM 2034 4750 \nQ 2819 4750 3233 4129 \nQ 3647 3509 3647 2328 \nQ 3647 1150 3233 529 \nQ 2819 -91 2034 -91 \nQ 1250 -91 836 529 \nQ 422 1150 422 2328 \nQ 422 3509 836 4129 \nQ 1250 4750 2034 4750 \nz\n\" id=\"DejaVuSans-30\" transform=\"scale(0.015625)\"/>\n        <path d=\"M 684 794 \nL 1344 794 \nL 1344 0 \nL 684 0 \nL 684 794 \nz\n\" id=\"DejaVuSans-2e\" transform=\"scale(0.015625)\"/>\n       </defs>\n       <use xlink:href=\"#DejaVuSans-30\"/>\n       <use x=\"63.623047\" xlink:href=\"#DejaVuSans-2e\"/>\n       <use x=\"95.410156\" xlink:href=\"#DejaVuSans-30\"/>\n      </g>\n     </g>\n    </g>\n    <g id=\"xtick_2\">\n     <g id=\"line2d_3\">\n      <path clip-path=\"url(#p13c6172147)\" d=\"M 169.330736 550.8 \nL 169.330736 7.2 \n\" style=\"fill:none;stroke:#b2b2b2;stroke-dasharray:1.85,0.8;stroke-dashoffset:0;stroke-width:0.5;\"/>\n     </g>\n     <g id=\"line2d_4\">\n      <g>\n       <use style=\"fill:#ffffff;stroke:#ffffff;stroke-width:0.8;\" x=\"169.330736\" xlink:href=\"#mba22940aa9\" y=\"550.8\"/>\n      </g>\n     </g>\n     <g id=\"text_2\">\n      <!-- 0.2 -->\n      <g style=\"fill:#ffffff;\" transform=\"translate(161.379174 561.898438)scale(0.1 -0.1)\">\n       <defs>\n        <path d=\"M 1228 531 \nL 3431 531 \nL 3431 0 \nL 469 0 \nL 469 531 \nQ 828 903 1448 1529 \nQ 2069 2156 2228 2338 \nQ 2531 2678 2651 2914 \nQ 2772 3150 2772 3378 \nQ 2772 3750 2511 3984 \nQ 2250 4219 1831 4219 \nQ 1534 4219 1204 4116 \nQ 875 4013 500 3803 \nL 500 4441 \nQ 881 4594 1212 4672 \nQ 1544 4750 1819 4750 \nQ 2544 4750 2975 4387 \nQ 3406 4025 3406 3419 \nQ 3406 3131 3298 2873 \nQ 3191 2616 2906 2266 \nQ 2828 2175 2409 1742 \nQ 1991 1309 1228 531 \nz\n\" id=\"DejaVuSans-32\" transform=\"scale(0.015625)\"/>\n       </defs>\n       <use xlink:href=\"#DejaVuSans-30\"/>\n       <use x=\"63.623047\" xlink:href=\"#DejaVuSans-2e\"/>\n       <use x=\"95.410156\" xlink:href=\"#DejaVuSans-32\"/>\n      </g>\n     </g>\n    </g>\n    <g id=\"xtick_3\">\n     <g id=\"line2d_5\">\n      <path clip-path=\"url(#p13c6172147)\" d=\"M 270.785366 550.8 \nL 270.785366 7.2 \n\" style=\"fill:none;stroke:#b2b2b2;stroke-dasharray:1.85,0.8;stroke-dashoffset:0;stroke-width:0.5;\"/>\n     </g>\n     <g id=\"line2d_6\">\n      <g>\n       <use style=\"fill:#ffffff;stroke:#ffffff;stroke-width:0.8;\" x=\"270.785366\" xlink:href=\"#mba22940aa9\" y=\"550.8\"/>\n      </g>\n     </g>\n     <g id=\"text_3\">\n      <!-- 0.4 -->\n      <g style=\"fill:#ffffff;\" transform=\"translate(262.833804 561.898438)scale(0.1 -0.1)\">\n       <defs>\n        <path d=\"M 2419 4116 \nL 825 1625 \nL 2419 1625 \nL 2419 4116 \nz\nM 2253 4666 \nL 3047 4666 \nL 3047 1625 \nL 3713 1625 \nL 3713 1100 \nL 3047 1100 \nL 3047 0 \nL 2419 0 \nL 2419 1100 \nL 313 1100 \nL 313 1709 \nL 2253 4666 \nz\n\" id=\"DejaVuSans-34\" transform=\"scale(0.015625)\"/>\n       </defs>\n       <use xlink:href=\"#DejaVuSans-30\"/>\n       <use x=\"63.623047\" xlink:href=\"#DejaVuSans-2e\"/>\n       <use x=\"95.410156\" xlink:href=\"#DejaVuSans-34\"/>\n      </g>\n     </g>\n    </g>\n    <g id=\"xtick_4\">\n     <g id=\"line2d_7\">\n      <path clip-path=\"url(#p13c6172147)\" d=\"M 372.239997 550.8 \nL 372.239997 7.2 \n\" style=\"fill:none;stroke:#b2b2b2;stroke-dasharray:1.85,0.8;stroke-dashoffset:0;stroke-width:0.5;\"/>\n     </g>\n     <g id=\"line2d_8\">\n      <g>\n       <use style=\"fill:#ffffff;stroke:#ffffff;stroke-width:0.8;\" x=\"372.239997\" xlink:href=\"#mba22940aa9\" y=\"550.8\"/>\n      </g>\n     </g>\n     <g id=\"text_4\">\n      <!-- 0.6 -->\n      <g style=\"fill:#ffffff;\" transform=\"translate(364.288434 561.898438)scale(0.1 -0.1)\">\n       <defs>\n        <path d=\"M 2113 2584 \nQ 1688 2584 1439 2293 \nQ 1191 2003 1191 1497 \nQ 1191 994 1439 701 \nQ 1688 409 2113 409 \nQ 2538 409 2786 701 \nQ 3034 994 3034 1497 \nQ 3034 2003 2786 2293 \nQ 2538 2584 2113 2584 \nz\nM 3366 4563 \nL 3366 3988 \nQ 3128 4100 2886 4159 \nQ 2644 4219 2406 4219 \nQ 1781 4219 1451 3797 \nQ 1122 3375 1075 2522 \nQ 1259 2794 1537 2939 \nQ 1816 3084 2150 3084 \nQ 2853 3084 3261 2657 \nQ 3669 2231 3669 1497 \nQ 3669 778 3244 343 \nQ 2819 -91 2113 -91 \nQ 1303 -91 875 529 \nQ 447 1150 447 2328 \nQ 447 3434 972 4092 \nQ 1497 4750 2381 4750 \nQ 2619 4750 2861 4703 \nQ 3103 4656 3366 4563 \nz\n\" id=\"DejaVuSans-36\" transform=\"scale(0.015625)\"/>\n       </defs>\n       <use xlink:href=\"#DejaVuSans-30\"/>\n       <use x=\"63.623047\" xlink:href=\"#DejaVuSans-2e\"/>\n       <use x=\"95.410156\" xlink:href=\"#DejaVuSans-36\"/>\n      </g>\n     </g>\n    </g>\n    <g id=\"xtick_5\">\n     <g id=\"line2d_9\">\n      <path clip-path=\"url(#p13c6172147)\" d=\"M 473.694627 550.8 \nL 473.694627 7.2 \n\" style=\"fill:none;stroke:#b2b2b2;stroke-dasharray:1.85,0.8;stroke-dashoffset:0;stroke-width:0.5;\"/>\n     </g>\n     <g id=\"line2d_10\">\n      <g>\n       <use style=\"fill:#ffffff;stroke:#ffffff;stroke-width:0.8;\" x=\"473.694627\" xlink:href=\"#mba22940aa9\" y=\"550.8\"/>\n      </g>\n     </g>\n     <g id=\"text_5\">\n      <!-- 0.8 -->\n      <g style=\"fill:#ffffff;\" transform=\"translate(465.743064 561.898438)scale(0.1 -0.1)\">\n       <defs>\n        <path d=\"M 2034 2216 \nQ 1584 2216 1326 1975 \nQ 1069 1734 1069 1313 \nQ 1069 891 1326 650 \nQ 1584 409 2034 409 \nQ 2484 409 2743 651 \nQ 3003 894 3003 1313 \nQ 3003 1734 2745 1975 \nQ 2488 2216 2034 2216 \nz\nM 1403 2484 \nQ 997 2584 770 2862 \nQ 544 3141 544 3541 \nQ 544 4100 942 4425 \nQ 1341 4750 2034 4750 \nQ 2731 4750 3128 4425 \nQ 3525 4100 3525 3541 \nQ 3525 3141 3298 2862 \nQ 3072 2584 2669 2484 \nQ 3125 2378 3379 2068 \nQ 3634 1759 3634 1313 \nQ 3634 634 3220 271 \nQ 2806 -91 2034 -91 \nQ 1263 -91 848 271 \nQ 434 634 434 1313 \nQ 434 1759 690 2068 \nQ 947 2378 1403 2484 \nz\nM 1172 3481 \nQ 1172 3119 1398 2916 \nQ 1625 2713 2034 2713 \nQ 2441 2713 2670 2916 \nQ 2900 3119 2900 3481 \nQ 2900 3844 2670 4047 \nQ 2441 4250 2034 4250 \nQ 1625 4250 1398 4047 \nQ 1172 3844 1172 3481 \nz\n\" id=\"DejaVuSans-38\" transform=\"scale(0.015625)\"/>\n       </defs>\n       <use xlink:href=\"#DejaVuSans-30\"/>\n       <use x=\"63.623047\" xlink:href=\"#DejaVuSans-2e\"/>\n       <use x=\"95.410156\" xlink:href=\"#DejaVuSans-38\"/>\n      </g>\n     </g>\n    </g>\n    <g id=\"xtick_6\">\n     <g id=\"line2d_11\">\n      <path clip-path=\"url(#p13c6172147)\" d=\"M 575.149257 550.8 \nL 575.149257 7.2 \n\" style=\"fill:none;stroke:#b2b2b2;stroke-dasharray:1.85,0.8;stroke-dashoffset:0;stroke-width:0.5;\"/>\n     </g>\n     <g id=\"line2d_12\">\n      <g>\n       <use style=\"fill:#ffffff;stroke:#ffffff;stroke-width:0.8;\" x=\"575.149257\" xlink:href=\"#mba22940aa9\" y=\"550.8\"/>\n      </g>\n     </g>\n     <g id=\"text_6\">\n      <!-- 1.0 -->\n      <g style=\"fill:#ffffff;\" transform=\"translate(567.197694 561.898438)scale(0.1 -0.1)\">\n       <defs>\n        <path d=\"M 794 531 \nL 1825 531 \nL 1825 4091 \nL 703 3866 \nL 703 4441 \nL 1819 4666 \nL 2450 4666 \nL 2450 531 \nL 3481 531 \nL 3481 0 \nL 794 0 \nL 794 531 \nz\n\" id=\"DejaVuSans-31\" transform=\"scale(0.015625)\"/>\n       </defs>\n       <use xlink:href=\"#DejaVuSans-31\"/>\n       <use x=\"63.623047\" xlink:href=\"#DejaVuSans-2e\"/>\n       <use x=\"95.410156\" xlink:href=\"#DejaVuSans-30\"/>\n      </g>\n     </g>\n    </g>\n   </g>\n   <g id=\"matplotlib.axis_2\">\n    <g id=\"ytick_1\">\n     <g id=\"line2d_13\">\n      <path clip-path=\"url(#p13c6172147)\" d=\"M 42.5125 550.8 \nL 600.5125 550.8 \n\" style=\"fill:none;stroke:#b2b2b2;stroke-dasharray:1.85,0.8;stroke-dashoffset:0;stroke-width:0.5;\"/>\n     </g>\n     <g id=\"line2d_14\">\n      <defs>\n       <path d=\"M 0 0 \nL 3.5 0 \n\" id=\"m8186ab9a14\" style=\"stroke:#ffffff;stroke-width:0.8;\"/>\n      </defs>\n      <g>\n       <use style=\"fill:#ffffff;stroke:#ffffff;stroke-width:0.8;\" x=\"42.5125\" xlink:href=\"#m8186ab9a14\" y=\"550.8\"/>\n      </g>\n     </g>\n     <g id=\"text_7\">\n      <!-- 0 -->\n      <g style=\"fill:#ffffff;\" transform=\"translate(32.65 554.599219)scale(0.1 -0.1)\">\n       <use xlink:href=\"#DejaVuSans-30\"/>\n      </g>\n     </g>\n    </g>\n    <g id=\"ytick_2\">\n     <g id=\"line2d_15\">\n      <path clip-path=\"url(#p13c6172147)\" d=\"M 42.5125 449.565294 \nL 600.5125 449.565294 \n\" style=\"fill:none;stroke:#b2b2b2;stroke-dasharray:1.85,0.8;stroke-dashoffset:0;stroke-width:0.5;\"/>\n     </g>\n     <g id=\"line2d_16\">\n      <g>\n       <use style=\"fill:#ffffff;stroke:#ffffff;stroke-width:0.8;\" x=\"42.5125\" xlink:href=\"#m8186ab9a14\" y=\"449.565294\"/>\n      </g>\n     </g>\n     <g id=\"text_8\">\n      <!-- 2000 -->\n      <g style=\"fill:#ffffff;\" transform=\"translate(13.5625 453.364513)scale(0.1 -0.1)\">\n       <use xlink:href=\"#DejaVuSans-32\"/>\n       <use x=\"63.623047\" xlink:href=\"#DejaVuSans-30\"/>\n       <use x=\"127.246094\" xlink:href=\"#DejaVuSans-30\"/>\n       <use x=\"190.869141\" xlink:href=\"#DejaVuSans-30\"/>\n      </g>\n     </g>\n    </g>\n    <g id=\"ytick_3\">\n     <g id=\"line2d_17\">\n      <path clip-path=\"url(#p13c6172147)\" d=\"M 42.5125 348.330588 \nL 600.5125 348.330588 \n\" style=\"fill:none;stroke:#b2b2b2;stroke-dasharray:1.85,0.8;stroke-dashoffset:0;stroke-width:0.5;\"/>\n     </g>\n     <g id=\"line2d_18\">\n      <g>\n       <use style=\"fill:#ffffff;stroke:#ffffff;stroke-width:0.8;\" x=\"42.5125\" xlink:href=\"#m8186ab9a14\" y=\"348.330588\"/>\n      </g>\n     </g>\n     <g id=\"text_9\">\n      <!-- 4000 -->\n      <g style=\"fill:#ffffff;\" transform=\"translate(13.5625 352.129807)scale(0.1 -0.1)\">\n       <use xlink:href=\"#DejaVuSans-34\"/>\n       <use x=\"63.623047\" xlink:href=\"#DejaVuSans-30\"/>\n       <use x=\"127.246094\" xlink:href=\"#DejaVuSans-30\"/>\n       <use x=\"190.869141\" xlink:href=\"#DejaVuSans-30\"/>\n      </g>\n     </g>\n    </g>\n    <g id=\"ytick_4\">\n     <g id=\"line2d_19\">\n      <path clip-path=\"url(#p13c6172147)\" d=\"M 42.5125 247.095882 \nL 600.5125 247.095882 \n\" style=\"fill:none;stroke:#b2b2b2;stroke-dasharray:1.85,0.8;stroke-dashoffset:0;stroke-width:0.5;\"/>\n     </g>\n     <g id=\"line2d_20\">\n      <g>\n       <use style=\"fill:#ffffff;stroke:#ffffff;stroke-width:0.8;\" x=\"42.5125\" xlink:href=\"#m8186ab9a14\" y=\"247.095882\"/>\n      </g>\n     </g>\n     <g id=\"text_10\">\n      <!-- 6000 -->\n      <g style=\"fill:#ffffff;\" transform=\"translate(13.5625 250.895101)scale(0.1 -0.1)\">\n       <use xlink:href=\"#DejaVuSans-36\"/>\n       <use x=\"63.623047\" xlink:href=\"#DejaVuSans-30\"/>\n       <use x=\"127.246094\" xlink:href=\"#DejaVuSans-30\"/>\n       <use x=\"190.869141\" xlink:href=\"#DejaVuSans-30\"/>\n      </g>\n     </g>\n    </g>\n    <g id=\"ytick_5\">\n     <g id=\"line2d_21\">\n      <path clip-path=\"url(#p13c6172147)\" d=\"M 42.5125 145.861177 \nL 600.5125 145.861177 \n\" style=\"fill:none;stroke:#b2b2b2;stroke-dasharray:1.85,0.8;stroke-dashoffset:0;stroke-width:0.5;\"/>\n     </g>\n     <g id=\"line2d_22\">\n      <g>\n       <use style=\"fill:#ffffff;stroke:#ffffff;stroke-width:0.8;\" x=\"42.5125\" xlink:href=\"#m8186ab9a14\" y=\"145.861177\"/>\n      </g>\n     </g>\n     <g id=\"text_11\">\n      <!-- 8000 -->\n      <g style=\"fill:#ffffff;\" transform=\"translate(13.5625 149.660395)scale(0.1 -0.1)\">\n       <use xlink:href=\"#DejaVuSans-38\"/>\n       <use x=\"63.623047\" xlink:href=\"#DejaVuSans-30\"/>\n       <use x=\"127.246094\" xlink:href=\"#DejaVuSans-30\"/>\n       <use x=\"190.869141\" xlink:href=\"#DejaVuSans-30\"/>\n      </g>\n     </g>\n    </g>\n    <g id=\"ytick_6\">\n     <g id=\"line2d_23\">\n      <path clip-path=\"url(#p13c6172147)\" d=\"M 42.5125 44.626471 \nL 600.5125 44.626471 \n\" style=\"fill:none;stroke:#b2b2b2;stroke-dasharray:1.85,0.8;stroke-dashoffset:0;stroke-width:0.5;\"/>\n     </g>\n     <g id=\"line2d_24\">\n      <g>\n       <use style=\"fill:#ffffff;stroke:#ffffff;stroke-width:0.8;\" x=\"42.5125\" xlink:href=\"#m8186ab9a14\" y=\"44.626471\"/>\n      </g>\n     </g>\n     <g id=\"text_12\">\n      <!-- 10000 -->\n      <g style=\"fill:#ffffff;\" transform=\"translate(7.2 48.42569)scale(0.1 -0.1)\">\n       <use xlink:href=\"#DejaVuSans-31\"/>\n       <use x=\"63.623047\" xlink:href=\"#DejaVuSans-30\"/>\n       <use x=\"127.246094\" xlink:href=\"#DejaVuSans-30\"/>\n       <use x=\"190.869141\" xlink:href=\"#DejaVuSans-30\"/>\n       <use x=\"254.492188\" xlink:href=\"#DejaVuSans-30\"/>\n      </g>\n     </g>\n    </g>\n   </g>\n   <g id=\"patch_103\">\n    <path d=\"M 42.5125 550.8 \nL 42.5125 7.2 \n\" style=\"fill:none;stroke:#bcbcbc;stroke-linecap:square;stroke-linejoin:miter;stroke-width:0.8;\"/>\n   </g>\n   <g id=\"patch_104\">\n    <path d=\"M 600.5125 550.8 \nL 600.5125 7.2 \n\" style=\"fill:none;stroke:#bcbcbc;stroke-linecap:square;stroke-linejoin:miter;stroke-width:0.8;\"/>\n   </g>\n   <g id=\"patch_105\">\n    <path d=\"M 42.5125 550.8 \nL 600.5125 550.8 \n\" style=\"fill:none;stroke:#bcbcbc;stroke-linecap:square;stroke-linejoin:miter;stroke-width:0.8;\"/>\n   </g>\n   <g id=\"patch_106\">\n    <path d=\"M 42.5125 7.2 \nL 600.5125 7.2 \n\" style=\"fill:none;stroke:#bcbcbc;stroke-linecap:square;stroke-linejoin:miter;stroke-width:0.8;\"/>\n   </g>\n  </g>\n </g>\n <defs>\n  <clipPath id=\"p13c6172147\">\n   <rect height=\"543.6\" width=\"558\" x=\"42.5125\" y=\"7.2\"/>\n  </clipPath>\n </defs>\n</svg>\n",
      "image/png": "[encoded data removed]"
     },
     "metadata": {}
    }
   ],
   "source": [
    "plt.hist(torch.rand(10**6).numpy(), 100);"
   ]
  },
  {
   "cell_type": "markdown",
   "metadata": {},
   "source": [
    "## Casting"
   ]
  },
  {
   "cell_type": "code",
   "execution_count": 78,
   "metadata": {},
   "outputs": [
    {
     "output_type": "stream",
     "text": [
      "torch.BFloat16Tensor\n",
      "torch.BoolTensor\n",
      "torch.ByteTensor\n",
      "torch.CharTensor\n",
      "torch.DoubleTensor\n",
      "torch.FloatTensor\n",
      "torch.HalfTensor\n",
      "torch.IntTensor\n",
      "torch.LongTensor\n",
      "torch.ShortTensor\n",
      "torch.Tensor"
     ],
     "name": "stdout"
    }
   ],
   "source": [
    "# Helper to get what kind of tensor types\n",
    "torch.*Tensor?"
   ]
  },
  {
   "cell_type": "code",
   "execution_count": 79,
   "metadata": {},
   "outputs": [
    {
     "output_type": "execute_result",
     "data": {
      "text/plain": [
       "tensor([[2., 5., 3., 7.],\n",
       "        [4., 2., 1., 9.]])"
      ]
     },
     "metadata": {},
     "execution_count": 79
    }
   ],
   "source": [
    "m"
   ]
  },
  {
   "cell_type": "code",
   "execution_count": 80,
   "metadata": {},
   "outputs": [
    {
     "output_type": "execute_result",
     "data": {
      "text/plain": [
       "tensor([[2., 5., 3., 7.],\n",
       "        [4., 2., 1., 9.]], dtype=torch.float64)"
      ]
     },
     "metadata": {},
     "execution_count": 80
    }
   ],
   "source": [
    "# This is basically a 64 bit float tensor\n",
    "m_double = m.double()\n",
    "m_double"
   ]
  },
  {
   "cell_type": "code",
   "execution_count": 81,
   "metadata": {},
   "outputs": [
    {
     "output_type": "execute_result",
     "data": {
      "text/plain": [
       "tensor([[2, 5, 3, 7],\n",
       "        [4, 2, 1, 9]], dtype=torch.uint8)"
      ]
     },
     "metadata": {},
     "execution_count": 81
    }
   ],
   "source": [
    "# This creates a tensor of type int8\n",
    "m_byte = m.byte()\n",
    "m_byte"
   ]
  },
  {
   "cell_type": "code",
   "execution_count": 82,
   "metadata": {},
   "outputs": [
    {
     "output_type": "execute_result",
     "data": {
      "text/plain": [
       "tensor([[2., 5., 3., 7.],\n",
       "        [4., 2., 1., 9.]])"
      ]
     },
     "metadata": {},
     "execution_count": 82
    }
   ],
   "source": [
    "# Move your tensor to GPU device 0 if there is one (first GPU in the system)\n",
    "device = torch.device(\"cuda:0\" if torch.cuda.is_available() else \"cpu\")\n",
    "m.to(device)"
   ]
  },
  {
   "cell_type": "code",
   "execution_count": 83,
   "metadata": {},
   "outputs": [
    {
     "output_type": "execute_result",
     "data": {
      "text/plain": [
       "array([[2., 5., 3., 7.],\n",
       "       [4., 2., 1., 9.]], dtype=float32)"
      ]
     },
     "metadata": {},
     "execution_count": 83
    }
   ],
   "source": [
    "# Converts tensor to numpy array\n",
    "m_np = m.numpy()\n",
    "m_np"
   ]
  },
  {
   "cell_type": "code",
   "execution_count": 84,
   "metadata": {},
   "outputs": [
    {
     "output_type": "execute_result",
     "data": {
      "text/plain": [
       "array([[-1.,  5.,  3.,  7.],\n",
       "       [ 4.,  2.,  1.,  9.]], dtype=float32)"
      ]
     },
     "metadata": {},
     "execution_count": 84
    }
   ],
   "source": [
    "# In-place fill of column 0 and row 0 with value -1\n",
    "m_np[0, 0] = -1\n",
    "m_np"
   ]
  },
  {
   "cell_type": "code",
   "execution_count": 85,
   "metadata": {},
   "outputs": [
    {
     "output_type": "execute_result",
     "data": {
      "text/plain": [
       "tensor([[-1.,  5.,  3.,  7.],\n",
       "        [ 4.,  2.,  1.,  9.]])"
      ]
     },
     "metadata": {},
     "execution_count": 85
    }
   ],
   "source": [
    "m"
   ]
  },
  {
   "cell_type": "code",
   "execution_count": 86,
   "metadata": {},
   "outputs": [
    {
     "output_type": "stream",
     "name": "stdout",
     "text": [
      "[0 1 2 3 4] tensor([0, 1, 2, 3, 4])\n"
     ]
    }
   ],
   "source": [
    "# Create a tensor of integers ranging from 0 to 4\n",
    "import numpy as np\n",
    "n_np = np.arange(5)\n",
    "n = torch.from_numpy(n_np)\n",
    "print(n_np, n)"
   ]
  },
  {
   "cell_type": "code",
   "execution_count": 87,
   "metadata": {},
   "outputs": [
    {
     "output_type": "execute_result",
     "data": {
      "text/plain": [
       "array([0, 2, 4, 6, 8])"
      ]
     },
     "metadata": {},
     "execution_count": 87
    }
   ],
   "source": [
    "# In-place multiplication of all elements by 2 for tensor n\n",
    "# Because n is essentiall n_np, not a clone, this affects n_np\n",
    "n.mul_(2)\n",
    "n_np"
   ]
  },
  {
   "cell_type": "markdown",
   "metadata": {},
   "source": [
    "## More fun"
   ]
  },
  {
   "cell_type": "code",
   "execution_count": 88,
   "metadata": {},
   "outputs": [
    {
     "output_type": "stream",
     "name": "stdout",
     "text": [
      "torch.Size([1, 4]) tensor([[5., 6., 7., 8.]])\n"
     ]
    }
   ],
   "source": [
    "# Creates two tensor of size 1x4\n",
    "a = torch.Tensor([[1, 2, 3, 4]])\n",
    "b = torch.Tensor([[5, 6, 7, 8]])\n",
    "print(a.size(), b)"
   ]
  },
  {
   "cell_type": "code",
   "execution_count": 89,
   "metadata": {},
   "outputs": [
    {
     "output_type": "execute_result",
     "data": {
      "text/plain": [
       "tensor([[1., 2., 3., 4.],\n",
       "        [5., 6., 7., 8.]])"
      ]
     },
     "metadata": {},
     "execution_count": 89
    }
   ],
   "source": [
    "# Concatenate on axis 0, so you get 2x4\n",
    "torch.cat((a, b), 0)"
   ]
  },
  {
   "cell_type": "code",
   "execution_count": 90,
   "metadata": {},
   "outputs": [
    {
     "output_type": "execute_result",
     "data": {
      "text/plain": [
       "tensor([[1., 2., 3., 4., 5., 6., 7., 8.]])"
      ]
     },
     "metadata": {},
     "execution_count": 90
    }
   ],
   "source": [
    "# Concatenate on axis 1, so you get 1x8\n",
    "torch.cat((a, b), 1)"
   ]
  },
  {
   "cell_type": "markdown",
   "metadata": {},
   "source": [
    "## Much more\n",
    "\n",
    "There's definitely much more, but this was the basics about `Tensor`s fun.\n",
    "\n",
    "*Torch* full API should be read at least once.\n",
    "Hence, go [here](https://pytorch.org/docs/stable/index.html).\n",
    "You'll find 100+ `Tensor` operations, including transposing, indexing, slicing, mathematical operations, linear algebra, random numbers, etc are described."
   ]
  }
 ],
 "metadata": {
  "kernelspec": {
   "name": "python3",
   "display_name": "Python 3.9.1 64-bit ('base': conda)"
  },
  "language_info": {
   "codemirror_mode": {
    "name": "ipython",
    "version": 3
   },
   "file_extension": ".py",
   "mimetype": "text/x-python",
   "name": "python",
   "nbconvert_exporter": "python",
   "pygments_lexer": "ipython3",
   "version": "3.9.1"
  },
  "interpreter": {
   "hash": "6e67db03405b8b84a4948639d78f54cecf0d0caaba44ad1fc1828011958fc9a8"
  }
 },
 "nbformat": 4,
 "nbformat_minor": 4
}